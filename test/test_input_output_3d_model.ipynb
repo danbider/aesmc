{
 "cells": [
  {
   "cell_type": "code",
   "execution_count": 1,
   "metadata": {},
   "outputs": [
    {
     "name": "stdout",
     "output_type": "stream",
     "text": [
      "/Users/danbiderman/Dropbox/Columbia/1.Dan/John/aesmc/test\n"
     ]
    }
   ],
   "source": [
    "import os\n",
    "import inspect\n",
    "print(os.getcwd())\n",
    "plot_folder = '3d_arm_dyn_plots'"
   ]
  },
  {
   "cell_type": "code",
   "execution_count": 2,
   "metadata": {},
   "outputs": [],
   "source": [
    "current_dir = os.path.dirname(os.path.abspath(inspect.getfile(inspect.currentframe())))\n",
    "parent_dir = os.path.dirname(current_dir)"
   ]
  },
  {
   "cell_type": "code",
   "execution_count": 3,
   "metadata": {},
   "outputs": [
    {
     "data": {
      "text/plain": [
       "'/Users/danbiderman/Dropbox/Columbia/1.Dan/John/aesmc'"
      ]
     },
     "execution_count": 3,
     "metadata": {},
     "output_type": "execute_result"
    }
   ],
   "source": [
    "parent_dir"
   ]
  },
  {
   "cell_type": "code",
   "execution_count": 4,
   "metadata": {},
   "outputs": [],
   "source": [
    "# change dir to import from aesmc\n",
    "os.chdir(parent_dir)\n",
    "import aesmc.statistics as statistics\n",
    "import aesmc.inference as inference\n",
    "import aesmc.train as train\n",
    "import aesmc.losses as losses\n",
    "import aesmc.state as state\n",
    "import aesmc.math as math\n",
    "import aesmc.smoothing as smoothing"
   ]
  },
  {
   "cell_type": "code",
   "execution_count": 5,
   "metadata": {},
   "outputs": [],
   "source": [
    "# change dir to import from aesmc/test\n",
    "os.chdir(current_dir)\n",
    "from arm_models import arm_3d_dyn_model # the model script -- distribution objects are defined there\n",
    "from arm_models import arm_utils # make video, plot post, params to coords\n",
    "from arm_models import utils_summary\n",
    "#from arm_models import fw_sim_planar_arm_dyn"
   ]
  },
  {
   "cell_type": "code",
   "execution_count": 6,
   "metadata": {},
   "outputs": [],
   "source": [
    "import matplotlib.pyplot as plt\n",
    "import numpy as np\n",
    "import torch\n",
    "import torch.nn as nn"
   ]
  },
  {
   "cell_type": "code",
   "execution_count": 7,
   "metadata": {},
   "outputs": [
    {
     "name": "stdout",
     "output_type": "stream",
     "text": [
      "torque effective variance: 0.00090\n",
      "auxilliary variance: 0.00009\n"
     ]
    }
   ],
   "source": [
    "# define global model params\n",
    "dt = 0.03 # time interval between observations\n",
    "g = 1.0 # gravity \n",
    "dim_latents = 12 # always 6 in the full planar arm model.\n",
    "transition_force_scale = 1.0 # 20.0 was best; tried also 10, 30, 50\n",
    "transition_aux_scale = ((dt**2)*transition_force_scale**2) / (10.0) #* 2\n",
    "initial_loc = 0.0 # natural choice.\n",
    "initial_scale = 0.5 # in future could be different per dimension.\n",
    "emission_var_diag = 0.02 # was 0.1 before. this varies with the application. \n",
    "print('torque effective variance: %.5f' %((dt**2)*transition_force_scale**2))\n",
    "print('auxilliary variance: %.5f' % transition_aux_scale)"
   ]
  },
  {
   "cell_type": "code",
   "execution_count": 8,
   "metadata": {},
   "outputs": [],
   "source": [
    "L1_test = 1.0\n",
    "L2_test = 1.0\n",
    "M1_test = 0.3\n",
    "M2_test = 0.5\n",
    "t1 = 1.2\n",
    "t2 = 1.4\n",
    "t3 = 1.6\n",
    "t4 = 1.1\n",
    "dt1 = 1.5\n",
    "dt2 = 2.2\n",
    "dt3 = 3.1\n",
    "dt4 = 0.4"
   ]
  },
  {
   "cell_type": "code",
   "execution_count": 9,
   "metadata": {},
   "outputs": [],
   "source": [
    "# put params into dicts\n",
    "param_dict = {}\n",
    "param_dict[\"init_mu\"] = initial_loc * np.ones(dim_latents)\n",
    "param_dict[\"init_cov\"] = np.eye(dim_latents) * initial_scale\n",
    "\n",
    "inits_dict = {}\n",
    "inits_dict[\"L1\"] = L1_test\n",
    "inits_dict[\"L2\"] = L2_test\n",
    "inits_dict[\"M1\"] = M1_test \n",
    "inits_dict[\"M2\"] = M2_test "
   ]
  },
  {
   "cell_type": "code",
   "execution_count": 11,
   "metadata": {},
   "outputs": [],
   "source": [
    "# initialize arm model, used by transition and proposal.\n",
    "# below we include_gravity_fictitious = True and transform_torques\n",
    "arm_model_instance = arm_3d_dyn_model.Arm_3D_Dyn(\n",
    "    dt=dt,\n",
    "    inits_dict=inits_dict, # make sure\n",
    "    g=g,\n",
    "    include_gravity_fictitious=False,\n",
    "    transform_torques=False,\n",
    "    learn_static=False,\n",
    "    restrict_to_plane=True)"
   ]
  },
  {
   "cell_type": "code",
   "execution_count": 12,
   "metadata": {},
   "outputs": [],
   "source": [
    "D_torch = arm_model_instance.D(t2=torch.tensor(np.ones(1) * t2),\n",
    "                     t3=torch.tensor(np.ones(1) * t3),\n",
    "                     t4=torch.tensor(np.ones(1) * t4))"
   ]
  },
  {
   "cell_type": "code",
   "execution_count": 26,
   "metadata": {},
   "outputs": [],
   "source": [
    "import dill\n",
    "parent_parent_dir = os.path.dirname(parent_dir)"
   ]
  },
  {
   "cell_type": "code",
   "execution_count": 48,
   "metadata": {},
   "outputs": [],
   "source": [
    "D_func_lambdify = dill.load(\n",
    "    open(\n",
    "        os.path.join(parent_parent_dir, 'arm_notebooks', 'lambdify_funcs',\n",
    "                     'D_func'), \"rb\"))"
   ]
  },
  {
   "cell_type": "code",
   "execution_count": 49,
   "metadata": {},
   "outputs": [],
   "source": [
    "out_D = D_func_lambdify(L1=L1_test,\n",
    "           L2=L2_test,\n",
    "           M1=M1_test,\n",
    "           M2=M2_test,\n",
    "           t1=t1,\n",
    "           t2=t2,\n",
    "           t3=t3,\n",
    "           t4=t4)\n",
    "out_D_arr = np.vstack([out_D[0], out_D[1], out_D[2], out_D[3]])"
   ]
  },
  {
   "cell_type": "code",
   "execution_count": 50,
   "metadata": {},
   "outputs": [
    {
     "data": {
      "text/plain": [
       "True"
      ]
     },
     "execution_count": 50,
     "metadata": {},
     "output_type": "execute_result"
    }
   ],
   "source": [
    "tolerance = 0.0001\n",
    "((torch.tensor(out_D_arr) - D_torch) < tolerance).numpy().all()"
   ]
  },
  {
   "cell_type": "code",
   "execution_count": 51,
   "metadata": {},
   "outputs": [],
   "source": [
    "h_func_lambdify = dill.load(\n",
    "    open(\n",
    "        os.path.join(parent_parent_dir, 'arm_notebooks', 'lambdify_funcs',\n",
    "                     'h_func'), \"rb\"))"
   ]
  },
  {
   "cell_type": "code",
   "execution_count": 52,
   "metadata": {},
   "outputs": [
    {
     "data": {
      "text/plain": [
       "<function _lambdifygenerated(L1, L2, M1, M2, t1, t2, t3, t4, dt1, dt2, dt3, dt4)>"
      ]
     },
     "execution_count": 52,
     "metadata": {},
     "output_type": "execute_result"
    }
   ],
   "source": [
    "h_func_lambdify"
   ]
  },
  {
   "cell_type": "code",
   "execution_count": 54,
   "metadata": {},
   "outputs": [],
   "source": [
    "out_h = h_func_lambdify(L1=L1_test,\n",
    "                        L2=L2_test,\n",
    "                        M1=M1_test,\n",
    "                        M2=M2_test,\n",
    "                        t1 = t1,\n",
    "                        t2 = t2,\n",
    "                        t3 = t3,\n",
    "                        t4 = t4,\n",
    "                        dt1 = dt1,\n",
    "                        dt2 = dt2,\n",
    "                        dt3 = dt3,\n",
    "                        dt4 = dt4)"
   ]
  },
  {
   "cell_type": "code",
   "execution_count": 61,
   "metadata": {},
   "outputs": [],
   "source": [
    "h_torch = arm_model_instance.h(t2=torch.tensor(np.ones(1) * t2),\n",
    "                     t3=torch.tensor(np.ones(1) * t3),\n",
    "                     t4=torch.tensor(np.ones(1) * t4),\n",
    "                    dt1 = torch.tensor(np.ones(1) * dt1),\n",
    "                    dt2 = torch.tensor(np.ones(1) * dt2),\n",
    "                    dt3 = torch.tensor(np.ones(1) * dt3), \n",
    "                    dt4 = torch.tensor(np.ones(1) * dt4))"
   ]
  },
  {
   "cell_type": "code",
   "execution_count": 71,
   "metadata": {},
   "outputs": [
    {
     "data": {
      "text/plain": [
       "True"
      ]
     },
     "execution_count": 71,
     "metadata": {},
     "output_type": "execute_result"
    }
   ],
   "source": [
    "tolerance = 0.0001\n",
    "((torch.tensor(out_h) - h_torch.reshape(len(out_h))) < tolerance).numpy().all()"
   ]
  },
  {
   "cell_type": "code",
   "execution_count": 72,
   "metadata": {},
   "outputs": [],
   "source": [
    "c_func_lambdify = dill.load(\n",
    "    open(\n",
    "        os.path.join(parent_parent_dir, 'arm_notebooks', 'lambdify_funcs',\n",
    "                     'c_func'), \"rb\"))"
   ]
  },
  {
   "cell_type": "code",
   "execution_count": 75,
   "metadata": {},
   "outputs": [],
   "source": [
    "out_c = c_func_lambdify(g=g,\n",
    "                L1=L1_test,\n",
    "                L2=L2_test,\n",
    "                M1=M1_test,\n",
    "                M2=M2_test,\n",
    "                t1=t1,\n",
    "                t2=t2,\n",
    "                t3=t3,\n",
    "                t4=t4)"
   ]
  },
  {
   "cell_type": "code",
   "execution_count": 78,
   "metadata": {},
   "outputs": [],
   "source": [
    "c_torch = arm_model_instance.c(t1=torch.tensor(np.ones(1) * t1),\n",
    "                     t2=torch.tensor(np.ones(1) * t2),\n",
    "                     t3=torch.tensor(np.ones(1) * t3),\n",
    "                     t4 = torch.tensor(np.ones(1) *t4))"
   ]
  },
  {
   "cell_type": "code",
   "execution_count": 79,
   "metadata": {},
   "outputs": [
    {
     "data": {
      "text/plain": [
       "True"
      ]
     },
     "execution_count": 79,
     "metadata": {},
     "output_type": "execute_result"
    }
   ],
   "source": [
    "tolerance = 0.0001\n",
    "((torch.tensor(out_c) - c_torch.reshape(len(out_c))) < tolerance).numpy().all()"
   ]
  },
  {
   "cell_type": "code",
   "execution_count": 80,
   "metadata": {},
   "outputs": [],
   "source": [
    "#TODO - test the forward kinematics."
   ]
  },
  {
   "cell_type": "code",
   "execution_count": 101,
   "metadata": {},
   "outputs": [
    {
     "name": "stdout",
     "output_type": "stream",
     "text": [
      "tensor([[[-1.7498],\n",
      "         [ 0.3427],\n",
      "         [ 1.1530],\n",
      "         [-0.2524]]], dtype=torch.float64)\n",
      "[[-1.74976547]\n",
      " [ 0.3426804 ]\n",
      " [ 1.1530358 ]\n",
      " [-0.25243604]]\n"
     ]
    }
   ],
   "source": [
    "np.random.seed(100)\n",
    "torque_vec_test = torch.tensor(np.random.normal(size = 4)).view(1,4,1)\n",
    "print(torque_vec_test)\n",
    "torque_vec_test_numpy = torque_vec_test.numpy().reshape(4,1)\n",
    "print(torque_vec_test_numpy)"
   ]
  },
  {
   "cell_type": "code",
   "execution_count": 94,
   "metadata": {},
   "outputs": [
    {
     "name": "stdout",
     "output_type": "stream",
     "text": [
      "torch.Size([1, 4, 1])\n",
      "torch.Size([1, 4, 4])\n",
      "torch.Size([1, 4, 1])\n",
      "torch.Size([1, 4, 1])\n"
     ]
    }
   ],
   "source": [
    "print(torque_vec_test.shape)\n",
    "print(D_torch.shape)\n",
    "print(h_torch.shape)\n",
    "print(c_torch.shape)"
   ]
  },
  {
   "cell_type": "code",
   "execution_count": 111,
   "metadata": {},
   "outputs": [
    {
     "data": {
      "text/plain": [
       "tensor([[[-177.0820],\n",
       "         [  14.4122],\n",
       "         [  30.4787],\n",
       "         [ 115.1055]]], dtype=torch.float64)"
      ]
     },
     "execution_count": 111,
     "metadata": {},
     "output_type": "execute_result"
    }
   ],
   "source": [
    "# test newton's second law\n",
    "accel_torch = arm_model_instance.Newton_2nd(torque_vec_tens = torque_vec_test, \n",
    "                                      D_mat_tens = D_torch, \n",
    "                                      h_vec_tens = h_torch, \n",
    "                                      c_vec_tens = c_torch)\n",
    "accel_torch"
   ]
  },
  {
   "cell_type": "code",
   "execution_count": 104,
   "metadata": {},
   "outputs": [],
   "source": [
    "def make_column_vec(list_arg):\n",
    "    return np.asarray(list_arg).reshape(len(list_arg), 1)\n",
    "#make_column_vec(c_out)"
   ]
  },
  {
   "cell_type": "code",
   "execution_count": 109,
   "metadata": {},
   "outputs": [],
   "source": [
    "h_on = 1\n",
    "c_on = 1\n",
    "D_inv = np.linalg.inv(out_D)  # compute using previous theta 2,3 and 4\n",
    "brackets = torque_vec_test_numpy - h_on * make_column_vec(out_h) \\\n",
    "- c_on*make_column_vec(out_c)\n",
    "accel_numpy = np.dot(D_inv, brackets).squeeze()"
   ]
  },
  {
   "cell_type": "code",
   "execution_count": 114,
   "metadata": {},
   "outputs": [
    {
     "data": {
      "text/plain": [
       "True"
      ]
     },
     "execution_count": 114,
     "metadata": {},
     "output_type": "execute_result"
    }
   ],
   "source": [
    "((accel_numpy-accel_torch.numpy().reshape(4))<tolerance).all()"
   ]
  },
  {
   "cell_type": "code",
   "execution_count": 112,
   "metadata": {},
   "outputs": [
    {
     "data": {
      "text/plain": [
       "torch.Size([1, 4, 1])"
      ]
     },
     "execution_count": 112,
     "metadata": {},
     "output_type": "execute_result"
    }
   ],
   "source": [
    "accel_torch.shape"
   ]
  },
  {
   "cell_type": "code",
   "execution_count": 129,
   "metadata": {},
   "outputs": [],
   "source": [
    "mean_fully_expanded = torch.tensor(np.random.normal(size=(32, 100, 12)))"
   ]
  },
  {
   "cell_type": "code",
   "execution_count": 130,
   "metadata": {},
   "outputs": [],
   "source": [
    "mean_fully_expanded[:,:,[1,3,5,7,9,11]] = torch.zeros(1, \n",
    "                                                        dtype = torch.double)"
   ]
  },
  {
   "cell_type": "code",
   "execution_count": 131,
   "metadata": {},
   "outputs": [
    {
     "data": {
      "text/plain": [
       "tensor([[[ 0.3832,  0.0000,  0.5264,  ...,  0.0000, -0.1202,  0.0000],\n",
       "         [ 0.0925,  0.0000, -0.3966,  ...,  0.0000,  0.3664,  0.0000],\n",
       "         [-0.7108,  0.0000, -0.6515,  ...,  0.0000, -0.5444,  0.0000],\n",
       "         ...,\n",
       "         [ 1.1376,  0.0000, -0.0855,  ...,  0.0000, -0.5793,  0.0000],\n",
       "         [ 1.1626,  0.0000, -1.6926,  ...,  0.0000, -0.2253,  0.0000],\n",
       "         [-0.0437,  0.0000,  0.4778,  ...,  0.0000,  0.0829,  0.0000]],\n",
       "\n",
       "        [[ 0.0812,  0.0000,  0.0664,  ...,  0.0000, -2.1563,  0.0000],\n",
       "         [ 0.4721,  0.0000, -0.3681,  ...,  0.0000, -1.1282,  0.0000],\n",
       "         [ 1.0165,  0.0000, -0.5722,  ...,  0.0000, -0.3996,  0.0000],\n",
       "         ...,\n",
       "         [-1.2281,  0.0000, -0.1163,  ...,  0.0000,  0.6322,  0.0000],\n",
       "         [ 0.1245,  0.0000, -1.0935,  ...,  0.0000,  1.1863,  0.0000],\n",
       "         [-0.4456,  0.0000, -1.1137,  ...,  0.0000, -0.2440,  0.0000]],\n",
       "\n",
       "        [[-0.4961,  0.0000, -0.4521,  ...,  0.0000,  1.5372,  0.0000],\n",
       "         [-0.4989,  0.0000,  0.7467,  ...,  0.0000, -0.3482,  0.0000],\n",
       "         [ 1.1727,  0.0000, -0.1733,  ...,  0.0000, -0.7900,  0.0000],\n",
       "         ...,\n",
       "         [-1.6889,  0.0000, -2.1205,  ...,  0.0000, -0.2678,  0.0000],\n",
       "         [-1.2770,  0.0000, -0.4340,  ...,  0.0000,  0.4085,  0.0000],\n",
       "         [-1.6496,  0.0000,  2.4154,  ...,  0.0000,  1.3573,  0.0000]],\n",
       "\n",
       "        ...,\n",
       "\n",
       "        [[-0.7516,  0.0000,  4.0554,  ...,  0.0000, -0.9747,  0.0000],\n",
       "         [ 0.3350,  0.0000, -0.0926,  ...,  0.0000, -0.3604,  0.0000],\n",
       "         [ 2.0154,  0.0000, -0.3190,  ...,  0.0000, -0.2356,  0.0000],\n",
       "         ...,\n",
       "         [-0.5395,  0.0000,  0.5682,  ...,  0.0000, -0.3897,  0.0000],\n",
       "         [-0.4871,  0.0000,  0.9025,  ...,  0.0000, -0.5626,  0.0000],\n",
       "         [-0.4079,  0.0000,  0.1264,  ...,  0.0000, -0.1213,  0.0000]],\n",
       "\n",
       "        [[ 2.2164,  0.0000, -1.0441,  ...,  0.0000, -0.5508,  0.0000],\n",
       "         [-1.5448,  0.0000,  0.9037,  ...,  0.0000,  0.2646,  0.0000],\n",
       "         [ 0.3210,  0.0000, -1.2171,  ...,  0.0000,  0.6435,  0.0000],\n",
       "         ...,\n",
       "         [-0.3232,  0.0000, -0.3088,  ...,  0.0000,  0.0922,  0.0000],\n",
       "         [-0.8362,  0.0000, -0.2802,  ...,  0.0000, -1.0156,  0.0000],\n",
       "         [ 1.0748,  0.0000,  0.8932,  ...,  0.0000,  0.3810,  0.0000]],\n",
       "\n",
       "        [[ 1.0647,  0.0000,  2.5077,  ...,  0.0000,  0.1590,  0.0000],\n",
       "         [ 0.8054,  0.0000,  0.0683,  ...,  0.0000, -1.1046,  0.0000],\n",
       "         [ 1.3898,  0.0000,  0.5781,  ...,  0.0000,  1.8739,  0.0000],\n",
       "         ...,\n",
       "         [-1.6308,  0.0000, -0.1275,  ...,  0.0000, -0.2972,  0.0000],\n",
       "         [-0.7375,  0.0000,  0.1941,  ...,  0.0000,  0.4795,  0.0000],\n",
       "         [ 0.7046,  0.0000, -1.6231,  ...,  0.0000,  1.3786,  0.0000]]],\n",
       "       dtype=torch.float64)"
      ]
     },
     "execution_count": 131,
     "metadata": {},
     "output_type": "execute_result"
    }
   ],
   "source": [
    "# simulate forward"
   ]
  },
  {
   "cell_type": "code",
   "execution_count": null,
   "metadata": {},
   "outputs": [],
   "source": []
  }
 ],
 "metadata": {
  "kernelspec": {
   "display_name": "Python [conda env:pytorch_env]",
   "language": "python",
   "name": "conda-env-pytorch_env-py"
  },
  "language_info": {
   "codemirror_mode": {
    "name": "ipython",
    "version": 3
   },
   "file_extension": ".py",
   "mimetype": "text/x-python",
   "name": "python",
   "nbconvert_exporter": "python",
   "pygments_lexer": "ipython3",
   "version": "3.6.7"
  }
 },
 "nbformat": 4,
 "nbformat_minor": 2
}
