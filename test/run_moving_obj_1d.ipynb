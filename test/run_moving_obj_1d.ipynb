{
 "cells": [
  {
   "cell_type": "markdown",
   "metadata": {},
   "source": [
    "## Tracking a moving object in 1D\n",
    "Using Kalman-Filter model specification.\n",
    "our state space is:\n",
    "\n",
    "$\\mathbf{x}_k = \\begin{bmatrix} x \\\\ \\dot{x} \\end{bmatrix}$,\n",
    "\n",
    "We model the influence of uncontrolled forces that effect our state space through the acceleration $a_k$, which we model as a constant,\n",
    "that is $a_k \\sim \\mathcal{N}(0,\\sigma_{a}^2)$.\n",
    "With Newton's laws of motion:\n",
    "\n",
    "$\\mathbf{x}_k = \\underbrace{\\begin{bmatrix} 1 & \\Delta{t} \\\\ 0 & 1 \\end{bmatrix}}_{\\mathbf{F}} \\mathbf{x}_{k-1} + \\underbrace{\\begin{bmatrix} \\frac{1}{2}\\Delta{t^2} \\\\ \\Delta{t} \\end{bmatrix}}_{\\mathbf{G}} a_k $\n",
    "\n",
    "(first row is second order approximation for $x_k$, second row is first order approximation for $\\dot{x}_k$\n",
    "\n",
    "alternatively, \n",
    "\n",
    "$\\mathbf{x}_k = \\mathbf{F}\\mathbf{x}_{k-1} + \\mathbf{w}_k $\n",
    "\n",
    "where\n",
    "\n",
    "$\\mathbf{w}_k \\sim \\mathcal{N}(0,\\mathbf{Q})$,\n",
    "\n",
    "$\\mathbf{Q} = \\mathbf{G}\\mathbf{G}^{T}\\sigma_{a}^2 = \\begin{bmatrix} \\frac{1}{4}\\Delta{t^4} & \\frac{1}{2}\\Delta{t^3} \\\\ \\frac{1}{2}\\Delta{t^3} & \\Delta{t^2} \\end{bmatrix}\\sigma_{a}^2$,\n",
    "\n",
    "Note that the matrix $\\mathbf{Q}$ is of rank one (first row = $\\frac{1}{2}\\Delta_t \\ \\times$ second row), which means that $\\mathbf{w}_k$ has a degenerate distribution. \n",
    "\n",
    "In our model script we use `torch.distributions.lowrank_multivariate_normal.\n",
    "                    LowRankMultivariateNormal` to sample from that object but we cannot evaluate log density - we get `nan`s. Instead, I manually set the log density to be `-200` but it doesn't matter if you use bootsrap particle filter, where proposal = transition.\n",
    "                    \n",
    "Our emission simply selects $x$ and adds observation noise\n",
    "\n",
    "$\\mathbf{y}_k = \\mathbf{H}\\mathbf{x}_k + \\mathbf{v}_k$\n",
    "\n",
    "where \n",
    "\n",
    "$\\mathbf{H} = \\begin{bmatrix} 1 & 0 \\end{bmatrix}, \\mathbf{v}_k \\sim \\mathcal{N}(0,\\sigma_{v}^2)$\n",
    "\n",
    "in fact in this simple example, my emission is just 1D:\n",
    "\n",
    "$y_k = x_k^{(1)} + v_k$\n",
    "\n"
   ]
  },
  {
   "cell_type": "code",
   "execution_count": 1,
   "metadata": {},
   "outputs": [
    {
     "data": {
      "text/plain": [
       "'/Users/danbiderman/Dropbox/Columbia/1.Dan/John/aesmc/test'"
      ]
     },
     "execution_count": 1,
     "metadata": {},
     "output_type": "execute_result"
    }
   ],
   "source": [
    "import os\n",
    "os.getcwd()"
   ]
  },
  {
   "cell_type": "code",
   "execution_count": 2,
   "metadata": {},
   "outputs": [
    {
     "name": "stdout",
     "output_type": "stream",
     "text": [
      "imported stats\n"
     ]
    }
   ],
   "source": [
    "# change dir to import from aesmc\n",
    "os.chdir(\"/Users/danbiderman/Dropbox/Columbia/1.Dan/John/aesmc\")\n",
    "import aesmc.statistics as statistics\n",
    "import aesmc.inference as inference\n",
    "import aesmc.train as train\n",
    "import aesmc.losses as losses\n",
    "import aesmc.state as state"
   ]
  },
  {
   "cell_type": "code",
   "execution_count": 3,
   "metadata": {},
   "outputs": [],
   "source": [
    "# change dir to import from aesmc/test\n",
    "os.chdir(\"/Users/danbiderman/Dropbox/Columbia/1.Dan/John/aesmc/test\")\n",
    "from arm_models import moving_obj_1D # the model script -- distribution objects are defined there"
   ]
  },
  {
   "cell_type": "code",
   "execution_count": 4,
   "metadata": {},
   "outputs": [],
   "source": [
    "import matplotlib.pyplot as plt\n",
    "import numpy as np\n",
    "import torch\n",
    "import torch.nn as nn"
   ]
  },
  {
   "cell_type": "code",
   "execution_count": 43,
   "metadata": {},
   "outputs": [],
   "source": [
    "# define global params which we're not ineferring \n",
    "transition_scale = 2 # Note: 5 is big balue\n",
    "emission_scale = 0.2\n",
    "# proposal_scale_0 = 1\n",
    "# proposal_scale_t = 0.1\n",
    "initial_loc = torch.zeros(2)\n",
    "initial_scale = 1 # * torch.eye(2)\n",
    "# define train/infer params\n",
    "num_timesteps = 200\n",
    "test_inference_num_particles = 1000\n",
    "saving_interval = 10\n",
    "logging_interval = 10\n",
    "batch_size = 10\n",
    "num_iterations = 500\n",
    "num_particles = 100\n",
    "dt = 0.03"
   ]
  },
  {
   "cell_type": "code",
   "execution_count": 44,
   "metadata": {},
   "outputs": [],
   "source": [
    "initial = moving_obj_1D.Initial(initial_loc, initial_scale)\n",
    "transition = moving_obj_1D.Transition(dt, transition_scale)\n",
    "emission = moving_obj_1D.Emission(emission_scale)"
   ]
  },
  {
   "cell_type": "code",
   "execution_count": 45,
   "metadata": {},
   "outputs": [],
   "source": [
    "# define proposal here\n",
    "'''we are using the parameters of the initial and transition.'''\n",
    "proposal = moving_obj_1D.Bootstrap_Proposal(\n",
    "                        dt, scale_0=initial_scale, \n",
    "                                            mu_0 = initial_loc,\n",
    "                                           scale_t=transition_scale)"
   ]
  },
  {
   "cell_type": "code",
   "execution_count": 46,
   "metadata": {},
   "outputs": [
    {
     "data": {
      "text/plain": [
       "<torch._C.Generator at 0xb2606d2b0>"
      ]
     },
     "execution_count": 46,
     "metadata": {},
     "output_type": "execute_result"
    }
   ],
   "source": [
    "np.random.seed(0)\n",
    "torch.manual_seed(0)"
   ]
  },
  {
   "cell_type": "code",
   "execution_count": 47,
   "metadata": {},
   "outputs": [
    {
     "name": "stdout",
     "output_type": "stream",
     "text": [
      "torch.Size([10, 2])\n",
      "torch.Size([10, 1])\n"
     ]
    }
   ],
   "source": [
    "sim_lats , sim_observs = statistics.sample_from_prior(initial,\n",
    "                                transition,\n",
    "                                emission, \n",
    "                                num_timesteps,\n",
    "                                batch_size)\n",
    "print(sim_lats[-1].size()) # [batch_size, dim_latents]\n",
    "print(sim_observs[-1].size()) # [batch_size, dim_obs]"
   ]
  },
  {
   "cell_type": "code",
   "execution_count": 48,
   "metadata": {},
   "outputs": [
    {
     "name": "stdout",
     "output_type": "stream",
     "text": [
      "torch.Size([10, 2, 200])\n",
      "torch.Size([10, 1, 200])\n"
     ]
    }
   ],
   "source": [
    "lat_data = torch.cat([lat.unsqueeze(-1) for\n",
    "                           lat in sim_lats], dim=2)\n",
    "print(lat_data.shape) # [batch_size, dim_latents, num_timesteps]\n",
    "sim_data = torch.cat([obs.unsqueeze(-1) for\n",
    "                           obs in sim_observs], dim=2)\n",
    "print(sim_data.shape)"
   ]
  },
  {
   "cell_type": "code",
   "execution_count": 131,
   "metadata": {},
   "outputs": [
    {
     "data": {
      "image/png": "[encoded data removed]",
      "text/plain": [
       "<Figure size 432x288 with 1 Axes>"
      ]
     },
     "metadata": {
      "needs_background": "light"
     },
     "output_type": "display_data"
    }
   ],
   "source": [
    "ind_in_batch = 3 # could be between 0 and batch_size-1\n",
    "plt.plot(lat_data[ind_in_batch,0,:].detach().numpy(), 'gray', \n",
    "         label=\"$x_k^{(1)}$\", linewidth = 3);\n",
    "plt.plot(lat_data[ind_in_batch,1,:].detach().numpy(), 'red', \n",
    "         label = \"$x_k^{(2)}$\", linewidth = 3);\n",
    "plt.plot(sim_data[ind_in_batch,0,:].detach().numpy(), 'black', \n",
    "          label = \"$y_k= x_k^{(1)} + \\epsilon$\");#plt.plot(smooth_var[ind_in_batch,dim_lat_plot,:].detach().numpy(), 'gray'); # 0! it's also not on the same scale\n",
    "plt.title('simulated states and observation')\n",
    "plt.ylabel('variable values')\n",
    "plt.xlabel('time / dt')\n",
    "plt.legend();\n",
    "#plt.savefig('first_fig_aesmc.png')"
   ]
  },
  {
   "cell_type": "code",
   "execution_count": 82,
   "metadata": {},
   "outputs": [],
   "source": [
    "inference_result = inference.infer(\n",
    "            inference_algorithm='smc',\n",
    "            observations=sim_observs, \n",
    "            initial=initial,\n",
    "            transition=transition,\n",
    "            emission=emission,\n",
    "            proposal=proposal,\n",
    "            num_particles=100,\n",
    "            return_log_weights=True,\n",
    "        )"
   ]
  },
  {
   "cell_type": "code",
   "execution_count": 83,
   "metadata": {},
   "outputs": [],
   "source": [
    "# extract mean and variance of the latents\n",
    "smc_smoothed_state_means = []\n",
    "smc_smoothed_state_variances = []\n",
    "for latent in inference_result['latents']:\n",
    "    smc_smoothed_state_means.append(statistics.empirical_mean(\n",
    "        latent, inference_result['log_weight']\n",
    "    ))\n",
    "    smc_smoothed_state_variances.append(statistics.empirical_variance(\n",
    "        latent, inference_result['log_weight']\n",
    "    ))"
   ]
  },
  {
   "cell_type": "code",
   "execution_count": 84,
   "metadata": {},
   "outputs": [],
   "source": [
    "# Note: we extracted sim_data and lat_data above\n",
    "smooth_mean =  torch.cat([mean.unsqueeze(-1) for\n",
    "                           mean in smc_smoothed_state_means], dim=2)\n",
    "smooth_var = torch.cat([var.unsqueeze(-1) for\n",
    "                           var in smc_smoothed_state_variances], dim=2)"
   ]
  },
  {
   "cell_type": "code",
   "execution_count": 85,
   "metadata": {},
   "outputs": [],
   "source": [
    "sim_data_np = sim_data.detach().numpy()\n",
    "smooth_mean_np = smooth_mean.detach().numpy()"
   ]
  },
  {
   "cell_type": "code",
   "execution_count": 134,
   "metadata": {},
   "outputs": [
    {
     "data": {
      "image/png": "[encoded data removed]",
      "text/plain": [
       "<Figure size 432x288 with 1 Axes>"
      ]
     },
     "metadata": {
      "needs_background": "light"
     },
     "output_type": "display_data"
    }
   ],
   "source": [
    "ind_in_batch = 4 # could be between 0 and batch_size-1\n",
    "dim_lat_plot = 1\n",
    "plt.plot(lat_data[ind_in_batch,dim_lat_plot,:].\\\n",
    "         detach().numpy(), 'red', linewidth = 3, label= \"true x\" + \n",
    "         str(dim_lat_plot+1));\n",
    "plt.plot(smooth_mean[ind_in_batch,dim_lat_plot,:].\\\n",
    "         detach().numpy(), 'black', \n",
    "         linestyle = 'dashed', label= \"recovered x\" + \n",
    "         str(dim_lat_plot+1));\n",
    "plt.fill_between(np.arange(200), \\\n",
    "                 smooth_mean[ind_in_batch,dim_lat_plot,:].detach().numpy() -\\\n",
    "                smooth_var[ind_in_batch,dim_lat_plot,:].detach().numpy(), \n",
    "                smooth_mean[ind_in_batch,dim_lat_plot,:].detach().numpy() +\\\n",
    "                smooth_var[ind_in_batch,dim_lat_plot,:].detach().numpy()),\n",
    "plt.title('latent ind ' + str(dim_lat_plot) + \n",
    "        ' batch ind ' + str(ind_in_batch))\n",
    "plt.ylabel('latent value')\n",
    "plt.xlabel('time/dt')\n",
    "#plt.ylim([-10,10])\n",
    "plt.legend();\n",
    "#plt.savefig('first_fig_aesmc.png')"
   ]
  },
  {
   "cell_type": "code",
   "execution_count": 108,
   "metadata": {},
   "outputs": [
    {
     "name": "stdout",
     "output_type": "stream",
     "text": [
      "torch.Size([10, 100])\n"
     ]
    },
    {
     "data": {
      "text/plain": [
       "(100, 200)"
      ]
     },
     "execution_count": 108,
     "metadata": {},
     "output_type": "execute_result"
    }
   ],
   "source": [
    "print(inference_result['log_weights'][-1].shape)\n",
    "log_weights =  torch.cat([weights.unsqueeze(-1) for\n",
    "                           weights in inference_result[\"log_weights\"]],\n",
    "                         dim=2)\n",
    "ws = log_weights[ind_in_batch,:,:].detach().numpy()\n",
    "ws.shape"
   ]
  },
  {
   "cell_type": "code",
   "execution_count": 90,
   "metadata": {},
   "outputs": [
    {
     "data": {
      "image/png": "[encoded data removed]",
      "text/plain": [
       "<Figure size 432x288 with 1 Axes>"
      ]
     },
     "metadata": {
      "needs_background": "light"
     },
     "output_type": "display_data"
    }
   ],
   "source": [
    "plt.hist(inference_result['log_weights'][-199].\n",
    "         detach().numpy()[ind_in_batch,:], bins = 100);"
   ]
  },
  {
   "cell_type": "code",
   "execution_count": 101,
   "metadata": {},
   "outputs": [
    {
     "name": "stdout",
     "output_type": "stream",
     "text": [
      "(200,)\n"
     ]
    }
   ],
   "source": [
    "x_1 = lat_data[ind_in_batch,0,:].\\\n",
    "         detach().numpy()\n",
    "x_2 = lat_data[ind_in_batch,1,:].\\\n",
    "         detach().numpy()\n",
    "print(x_1.shape)"
   ]
  },
  {
   "cell_type": "code",
   "execution_count": 112,
   "metadata": {},
   "outputs": [
    {
     "data": {
      "text/plain": [
       "(200,)"
      ]
     },
     "execution_count": 112,
     "metadata": {},
     "output_type": "execute_result"
    }
   ],
   "source": [
    "expect_x1 = smooth_mean[ind_in_batch,0,:].\\\n",
    "         detach().numpy()\n",
    "expect_x2 = smooth_mean[ind_in_batch,1,:].\\\n",
    "         detach().numpy()\n",
    "expect_x1.shape"
   ]
  },
  {
   "cell_type": "code",
   "execution_count": 100,
   "metadata": {},
   "outputs": [
    {
     "name": "stdout",
     "output_type": "stream",
     "text": [
      "torch.Size([10, 100, 2, 200])\n",
      "(100, 200)\n"
     ]
    }
   ],
   "source": [
    "print(inference_result[\"latents\"][-1].shape)\n",
    "latents_raw =  torch.cat([particles.unsqueeze(-1) for\n",
    "                           particles in inference_result[\"latents\"]],\n",
    "                         dim=3)\n",
    "print(latents_raw.shape)\n",
    "particles_1 = latents_raw[ind_in_batch, :, 0, :].detach().numpy()\n",
    "particles_2 = latents_raw[ind_in_batch, :, 1, :].detach().numpy()\n",
    "print(particles_2.shape)"
   ]
  },
  {
   "cell_type": "code",
   "execution_count": 128,
   "metadata": {},
   "outputs": [
    {
     "name": "stderr",
     "output_type": "stream",
     "text": [
      "/anaconda3/envs/pytorch_env/lib/python3.6/site-packages/matplotlib/collections.py:874: RuntimeWarning: invalid value encountered in sqrt\n",
      "  scale = np.sqrt(self._sizes) * dpi / 72.0 * self._factor\n"
     ]
    },
    {
     "data": {
      "image/png": "[encoded data removed]",
      "text/plain": [
       "<Figure size 432x288 with 1 Axes>"
      ]
     },
     "metadata": {
      "needs_background": "light"
     },
     "output_type": "display_data"
    }
   ],
   "source": [
    "from celluloid import Camera\n",
    "n_frames = len(x_1)\n",
    "fig = plt.figure()\n",
    "ax = plt.axes(xlim=(-10, 10), ylim=(-10, 10))\n",
    "plt.xlabel(\"$x_1$\", fontsize = 18)\n",
    "plt.ylabel(\"$x_2$\", fontsize = 18)\n",
    "plt.title(\"True latents and sampled particles\", fontsize=16)\n",
    "#plt.title(\"(size = importance weight $w_n^{(l)}$)\", fontsize=14)\n",
    "plt.tight_layout()\n",
    "camera = Camera(fig)\n",
    "for i in np.arange(0, n_frames, 5): # plot every 5th frame\n",
    "    plt.scatter(particles_1[:,i], particles_2[:,i], s=ws[:,i]*500, \n",
    "                label = \"particles\", c= \"gray\", alpha=0.4)\n",
    "    plt.scatter(x_1[i], x_2[i], marker = '*', s=400, c = 'red', label = \"true x\")\n",
    "    plt.scatter(expect_x1[i], expect_x2[i], marker = 'x', s=150, \n",
    "                c = 'black', label = \"$\\mathbb{E}[x|y]$\")\n",
    "    plt.legend(loc= \"lower left\", labels=[\"particles\",\"true $x$\", \n",
    "                                          \"$\\mathbb{E}[x|y]$\"])\n",
    "    plt.text(0.1,0.05, s= \"step \" +str(i), fontsize=14, transform=plt.gcf().transFigure)\n",
    "    plt.text(0.65,0.05, s= \"size = log weight\", fontsize=14, transform=plt.gcf().transFigure)\n",
    "    #plt.subplots_adjust(right=0.3)\n",
    "    camera.snap()\n",
    "animation = camera.animate()\n",
    "animation.save(\"moving_obj_1D_plots/sample_illust.gif\", \n",
    "               writer='pillow')"
   ]
  },
  {
   "cell_type": "code",
   "execution_count": 106,
   "metadata": {},
   "outputs": [
    {
     "data": {
      "text/plain": [
       "(100,)"
      ]
     },
     "execution_count": 106,
     "metadata": {},
     "output_type": "execute_result"
    }
   ],
   "source": [
    "particles_1[:,i].shape"
   ]
  },
  {
   "cell_type": "code",
   "execution_count": null,
   "metadata": {},
   "outputs": [],
   "source": []
  }
 ],
 "metadata": {
  "kernelspec": {
   "display_name": "Python [conda env:pytorch_env]",
   "language": "python",
   "name": "conda-env-pytorch_env-py"
  },
  "language_info": {
   "codemirror_mode": {
    "name": "ipython",
    "version": 3
   },
   "file_extension": ".py",
   "mimetype": "text/x-python",
   "name": "python",
   "nbconvert_exporter": "python",
   "pygments_lexer": "ipython3",
   "version": "3.6.7"
  }
 },
 "nbformat": 4,
 "nbformat_minor": 2
}
