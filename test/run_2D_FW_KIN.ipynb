{
 "cells": [
  {
   "cell_type": "markdown",
   "metadata": {},
   "source": [
    "## AESMC for a planar arm\n",
    "### Infer latent joint angles given noisy coordinates\n",
    "The first part of this notebook validates that with a fixed transition and emission models, we can infer the latent variables using SMC. That is, only inference, without parameter learning. We use the Bootstrap proposal, sampling \"particles\" from the transition model and weighing them by the probability of explaining the data.\n",
    "\n",
    "In the second part, we learn the static parameters that appear in the emission distribution.\n",
    "\n",
    "In the third part, we will learn the parameters of a proposal distribution that maps the previous latents and observations, through a neural network to parameters of a normal distribution from which we take samples."
   ]
  },
  {
   "cell_type": "code",
   "execution_count": 1,
   "metadata": {},
   "outputs": [],
   "source": [
    "import aesmc.train as train\n",
    "import aesmc.losses as losses\n",
    "import matplotlib.pyplot as plt\n",
    "import numpy as np\n",
    "import torch\n",
    "import torch.nn as nn\n",
    "\n",
    "from arm_models import forward_kin_2D\n",
    "from arm_models import arm_utils\n",
    "from aesmc import statistics"
   ]
  },
  {
   "cell_type": "code",
   "execution_count": 2,
   "metadata": {},
   "outputs": [],
   "source": [
    "# define global params which we're not ineferring \n",
    "# potentially learn or make sure you got them right\n",
    "transition_scale = 0.2\n",
    "emission_scale = 0.05\n",
    "proposal_scale_0 = 1\n",
    "proposal_scale_t = 0.1\n",
    "# define initial params for training\n",
    "L1_init = 1.0\n",
    "L2_init = 1.0\n",
    "initial_loc = torch.zeros(2)\n",
    "initial_scale = 1 # * torch.eye(2)\n",
    "init_transition_mult = 0\n",
    "init_emission_mult = 0\n",
    "# define true params (to simualte data from)\n",
    "L1_true = 1.0\n",
    "L2_true = 1.0\n",
    "true_transition_mult = 1\n",
    "true_emission_mult = 1\n",
    "# define train/infer params\n",
    "num_timesteps = 100\n",
    "num_test_obs = 10\n",
    "test_inference_num_particles = 1000\n",
    "saving_interval = 10\n",
    "logging_interval = 10\n",
    "batch_size = 10\n",
    "num_iterations = 500\n",
    "num_particles = 100"
   ]
  },
  {
   "cell_type": "code",
   "execution_count": 3,
   "metadata": {},
   "outputs": [],
   "source": [
    "dataloader = train.get_synthetic_dataloader(\n",
    "            forward_kin_2D.Initial(initial_loc, initial_scale),\n",
    "            forward_kin_2D.Transition(true_transition_mult, transition_scale),\n",
    "            forward_kin_2D.Emission(forward_kin_2D.FW_kin_2D, \n",
    "                                    L1_true, L2_true, emission_scale, learn_static = True),\n",
    "            num_timesteps, batch_size)"
   ]
  },
  {
   "cell_type": "code",
   "execution_count": 4,
   "metadata": {},
   "outputs": [
    {
     "name": "stdout",
     "output_type": "stream",
     "text": [
      "torch.Size([10, 6])\n",
      "should be [batch_size, dim_observation]\n"
     ]
    }
   ],
   "source": [
    "# test how the simulated observations look like\n",
    "# note that the observations in the current spyder file look differently\n",
    "num_iter_check=3\n",
    "for epoch_iteration_idx, observations in enumerate(dataloader):\n",
    "    if epoch_iteration_idx == num_iter_check:\n",
    "                    break\n",
    "                \n",
    "print(observations[-1].size())\n",
    "print('should be [batch_size, dim_observation]')"
   ]
  },
  {
   "cell_type": "code",
   "execution_count": 5,
   "metadata": {},
   "outputs": [
    {
     "name": "stdout",
     "output_type": "stream",
     "text": [
      "torch.Size([10, 6, 100])\n",
      "should be [batch_size, dim_observation, num_timesteps]\n"
     ]
    }
   ],
   "source": [
    "sim_data = torch.cat([obs.unsqueeze(-1) for\n",
    "                           obs in observations], dim=2)\n",
    "print(sim_data.shape)\n",
    "print('should be [batch_size, dim_observation, num_timesteps]')"
   ]
  },
  {
   "cell_type": "code",
   "execution_count": 6,
   "metadata": {},
   "outputs": [
    {
     "data": {
      "image/png": "[encoded data removed]",
      "text/plain": [
       "<Figure size 432x288 with 1 Axes>"
      ]
     },
     "metadata": {
      "needs_background": "light"
     },
     "output_type": "display_data"
    }
   ],
   "source": [
    "# plot simulated time series for one coordinate\n",
    "coord_ind = 4\n",
    "batch_ind = 0\n",
    "plt.plot(sim_data.detach().numpy()[batch_ind, coord_ind,:]);\n",
    "plt.title('simulated time series, batch %i coord %i' %(batch_ind, coord_ind), fontsize=14);\n",
    "# ToDo: would like to get the video of the 2D arm. would also like to access latents"
   ]
  },
  {
   "cell_type": "code",
   "execution_count": 7,
   "metadata": {},
   "outputs": [
    {
     "name": "stdout",
     "output_type": "stream",
     "text": [
      "torch.Size([10, 2])\n",
      "torch.Size([10, 6])\n"
     ]
    }
   ],
   "source": [
    "# inspect statistics.sample_from_prior\n",
    "'''this function has access to latents and observations. '''\n",
    "a,b = statistics.sample_from_prior(forward_kin_2D.Initial(initial_loc, initial_scale),\n",
    "                              forward_kin_2D.Transition(true_transition_mult, transition_scale),\n",
    "                              forward_kin_2D.Emission(forward_kin_2D.FW_kin_2D, \n",
    "                                 L1_init, L2_init, emission_scale, learn_static = True), num_timesteps,\n",
    "                                         batch_size)\n",
    "print(a[-1].size()) # [batch_size, dim_latents]\n",
    "print(b[-1].size()) # [batch_size, dim_obs]"
   ]
  },
  {
   "cell_type": "code",
   "execution_count": 8,
   "metadata": {},
   "outputs": [
    {
     "data": {
      "text/plain": [
       "torch.Size([10, 2, 100])"
      ]
     },
     "execution_count": 8,
     "metadata": {},
     "output_type": "execute_result"
    }
   ],
   "source": [
    "lat_data = torch.cat([lat.unsqueeze(-1) for\n",
    "                           lat in a], dim=2)\n",
    "lat_data.shape"
   ]
  },
  {
   "cell_type": "code",
   "execution_count": 9,
   "metadata": {},
   "outputs": [],
   "source": [
    "initial = forward_kin_2D.Initial(initial_loc, initial_scale)\n",
    "transition = forward_kin_2D.Transition(true_transition_mult, transition_scale)\n",
    "emission = forward_kin_2D.Emission(forward_kin_2D.FW_kin_2D, \n",
    "                        L1_true, L2_true, emission_scale, False)\n",
    "# model with more elaborate proposal, parameters need to be trained.\n",
    "# proposal = forward_kin_2D.Proposal(proposal_scale_0,\n",
    "#                                     proposal_scale_t)\n",
    "# model with bootstrap proposal\n",
    "# note that in the scales could be twice as large as in the true transition and it'll infer things properly\n",
    "proposal = forward_kin_2D.Bootstrap_Proposal(initial_scale, initial_loc, \n",
    "                                             transition_scale, true_transition_mult)"
   ]
  },
  {
   "cell_type": "code",
   "execution_count": 10,
   "metadata": {},
   "outputs": [
    {
     "name": "stdout",
     "output_type": "stream",
     "text": [
      "100\n",
      "torch.Size([10, 100, 2])\n"
     ]
    }
   ],
   "source": [
    "# # make up a list of inferred latents\n",
    "# the dim should be [batch_size, num_particles, dim_latents]\n",
    "inferred_latents_list = []\n",
    "for i in range(num_timesteps):\n",
    "    inferred_latents_list.append(torch.rand([batch_size, num_particles, 2]))\n",
    "print(len(inferred_latents_list))\n",
    "print(inferred_latents_list[-1].shape)"
   ]
  },
  {
   "cell_type": "code",
   "execution_count": 11,
   "metadata": {},
   "outputs": [
    {
     "name": "stdout",
     "output_type": "stream",
     "text": [
      "<arm_models.forward_kin_2D.Initial object at 0xb2245e358>\n",
      "Transition()\n",
      "Emission()\n",
      "Bootstrap_Proposal()\n"
     ]
    }
   ],
   "source": [
    "print(initial)\n",
    "print(transition)\n",
    "print(emission)\n",
    "print(proposal)"
   ]
  },
  {
   "cell_type": "code",
   "execution_count": 12,
   "metadata": {},
   "outputs": [
    {
     "name": "stdout",
     "output_type": "stream",
     "text": [
      "Normal(loc: torch.Size([10, 2]), scale: torch.Size([10, 2]))\n",
      "Normal(loc: torch.Size([10, 100, 2]), scale: torch.Size([10, 100, 2]))\n"
     ]
    }
   ],
   "source": [
    "print(proposal(time=0, observations=observations)) # first call\n",
    "print(proposal(time=2, previous_latents= inferred_latents_list, observations=observations)) # second call\n",
    "# note that the inferred latents_list is longer than needed and not appropriate"
   ]
  },
  {
   "cell_type": "code",
   "execution_count": 13,
   "metadata": {},
   "outputs": [],
   "source": [
    "from aesmc import inference\n",
    "\n",
    "inference_result = inference.infer(\n",
    "            inference_algorithm='smc',\n",
    "            observations=b, # USE OBSERVATIONS- b is temporary. created above when we played with creating data\n",
    "            initial=initial,\n",
    "            transition=transition,\n",
    "            emission=emission,\n",
    "            proposal=proposal,\n",
    "            num_particles=1000\n",
    "        )"
   ]
  },
  {
   "cell_type": "code",
   "execution_count": 14,
   "metadata": {},
   "outputs": [
    {
     "name": "stdout",
     "output_type": "stream",
     "text": [
      "7\n"
     ]
    }
   ],
   "source": [
    "print(len(inference_result))"
   ]
  },
  {
   "cell_type": "markdown",
   "metadata": {},
   "source": [
    "that's it, inference seems to run properly! let's check if it is indeed making sense."
   ]
  },
  {
   "cell_type": "code",
   "execution_count": 15,
   "metadata": {},
   "outputs": [],
   "source": [
    "# ToDo: consider wrapping in a function e.g., summarize_posterior(latents, their weights)\n",
    "smc_smoothed_state_means = []\n",
    "smc_smoothed_state_variances = []\n",
    "for latent in inference_result['latents']:\n",
    "    smc_smoothed_state_means.append(statistics.empirical_mean(\n",
    "        latent, inference_result['log_weight']\n",
    "    ))\n",
    "    smc_smoothed_state_variances.append(statistics.empirical_variance(\n",
    "        latent, inference_result['log_weight']\n",
    "    ))"
   ]
  },
  {
   "cell_type": "code",
   "execution_count": 16,
   "metadata": {},
   "outputs": [],
   "source": [
    "sim_data = torch.cat([obs.unsqueeze(-1) for\n",
    "                           obs in b], dim=2) # now b, should be obs in observations\n",
    "smooth_mean =  torch.cat([mean.unsqueeze(-1) for\n",
    "                           mean in smc_smoothed_state_means], dim=2)\n",
    "smooth_var = torch.cat([var.unsqueeze(-1) for\n",
    "                           var in smc_smoothed_state_variances], dim=2)"
   ]
  },
  {
   "cell_type": "code",
   "execution_count": 17,
   "metadata": {},
   "outputs": [
    {
     "data": {
      "text/plain": [
       "torch.Size([10, 2, 100])"
      ]
     },
     "execution_count": 17,
     "metadata": {},
     "output_type": "execute_result"
    }
   ],
   "source": [
    "smooth_mean.shape"
   ]
  },
  {
   "cell_type": "code",
   "execution_count": 18,
   "metadata": {},
   "outputs": [
    {
     "data": {
      "text/plain": [
       "0.0025463104"
      ]
     },
     "execution_count": 18,
     "metadata": {},
     "output_type": "execute_result"
    }
   ],
   "source": [
    "ind_in_batch = 4\n",
    "dim_lat_plot = 0\n",
    "np.max(smooth_var[ind_in_batch,dim_lat_plot,:].detach().numpy()) # 0! it's also not on the same scale"
   ]
  },
  {
   "cell_type": "code",
   "execution_count": 19,
   "metadata": {},
   "outputs": [
    {
     "data": {
      "image/png": "[encoded data removed]",
      "text/plain": [
       "<Figure size 432x288 with 1 Axes>"
      ]
     },
     "metadata": {
      "needs_background": "light"
     },
     "output_type": "display_data"
    }
   ],
   "source": [
    "ind_in_batch = 6 # could be between 0 and batch_size-1\n",
    "dim_lat_plot = 0\n",
    "plt.plot(lat_data[ind_in_batch,dim_lat_plot,:].detach().numpy(), 'black', label=\"true\");\n",
    "plt.plot(smooth_mean[ind_in_batch,dim_lat_plot,:].detach().numpy(), 'red', \n",
    "         linestyle = 'dashed', label = \"AESMC recovered\");\n",
    "#plt.plot(smooth_var[ind_in_batch,dim_lat_plot,:].detach().numpy(), 'gray'); # 0! it's also not on the same scale\n",
    "plt.title('shoulder angle')\n",
    "plt.ylabel('rad')\n",
    "plt.xlabel('time')\n",
    "plt.legend();\n",
    "#plt.savefig('first_fig_aesmc.png')"
   ]
  },
  {
   "cell_type": "code",
   "execution_count": 20,
   "metadata": {},
   "outputs": [
    {
     "data": {
      "image/png": "[encoded data removed]",
      "text/plain": [
       "<Figure size 432x288 with 1 Axes>"
      ]
     },
     "metadata": {
      "needs_background": "light"
     },
     "output_type": "display_data"
    }
   ],
   "source": [
    "plt.hist(inference_result[\"log_weight\"][0,:].detach().numpy(), bins=100);"
   ]
  },
  {
   "cell_type": "code",
   "execution_count": 21,
   "metadata": {},
   "outputs": [],
   "source": [
    "# predicted coordinates\n",
    "ind_in_batch = 8 # could be between 0 and batch_size-1\n",
    "x_hat , y_hat = arm_utils.coords_from_params_mat(smooth_mean[ind_in_batch,0,:].detach().numpy(), \n",
    "                                       smooth_mean[ind_in_batch,1,:].detach().numpy(), L1_true, L2_true)"
   ]
  },
  {
   "cell_type": "code",
   "execution_count": 22,
   "metadata": {},
   "outputs": [],
   "source": [
    "x_obs = sim_data[ind_in_batch, [0,2,4], :].detach().numpy().T\n",
    "y_obs = sim_data[ind_in_batch, [1,3,5], :].detach().numpy().T"
   ]
  },
  {
   "cell_type": "code",
   "execution_count": 23,
   "metadata": {},
   "outputs": [],
   "source": [
    "# print(y_obs.shape)\n",
    "# print(x_hat.shape)"
   ]
  },
  {
   "cell_type": "code",
   "execution_count": 46,
   "metadata": {},
   "outputs": [
    {
     "data": {
      "image/png": "[encoded data removed]",
      "text/plain": [
       "<Figure size 432x288 with 1 Axes>"
      ]
     },
     "metadata": {
      "needs_background": "light"
     },
     "output_type": "display_data"
    }
   ],
   "source": [
    "arm_utils.video_sim_plane_2D(x_obs, y_obs, x_hat, y_hat, 'FW-KIN-2D_plots/fw-kin-2d-recovered', \n",
    "                   \"AESMC- recovering simulated data\", x_hat.shape[0], L1_true + L2_true + 1)"
   ]
  },
  {
   "cell_type": "code",
   "execution_count": null,
   "metadata": {},
   "outputs": [],
   "source": [
    "# ind_in_batch = 5 # could be between 0 and batch_size-1\n",
    "# plt.plot(sim_data[ind_in_batch,:].detach().numpy(), \n",
    "#          label = '$x$', color = 'gray', linewidth=2)\n",
    "# plt.plot(smooth_data[ind_in_batch,:].detach().numpy(), \n",
    "#          label = '$\\mathbb{E}[z|x]$', color = 'red', linewidth=1)\n",
    "# plt.fill_between(\n",
    "#             np.arange(num_timesteps),\n",
    "#             smooth_mean[ind_in_batch,:].detach().numpy() -\n",
    "#             np.sqrt(smooth_var[ind_in_batch,:].detach().numpy()),\n",
    "#             smooth_mean[ind_in_batch,:].detach().numpy() +\n",
    "#             np.sqrt(smooth_var[ind_in_batch,:].detach().numpy()),\n",
    "#             alpha=0.8,\n",
    "#             color='gray'\n",
    "#         )\n",
    "# plt.legend();"
   ]
  },
  {
   "cell_type": "code",
   "execution_count": 33,
   "metadata": {},
   "outputs": [
    {
     "name": "stdout",
     "output_type": "stream",
     "text": [
      "Iteration 0: Loss = 2288.419921875\n",
      "0.7009999752044678\n",
      "0.36\n",
      "Iteration 10: Loss = 1483.375244140625\n",
      "0.7109480500221252\n",
      "0.35\n",
      "Iteration 20: Loss = 1901.817138671875\n",
      "0.720813512802124\n",
      "0.33\n",
      "Iteration 30: Loss = 1812.079345703125\n",
      "0.7306028008460999\n",
      "0.32\n",
      "Iteration 40: Loss = 1282.349609375\n",
      "0.7401880621910095\n",
      "0.31\n",
      "Iteration 50: Loss = 998.4625854492188\n",
      "0.7495774030685425\n",
      "0.3\n",
      "Iteration 60: Loss = 884.6585693359375\n",
      "0.7588164210319519\n",
      "0.29\n",
      "Iteration 70: Loss = 1121.002197265625\n",
      "0.7679347991943359\n",
      "0.27\n",
      "Iteration 80: Loss = 887.4382934570312\n",
      "0.776839554309845\n",
      "0.26\n",
      "Iteration 90: Loss = 718.6417236328125\n",
      "0.7855589985847473\n",
      "0.25\n",
      "Iteration 100: Loss = 742.7118530273438\n",
      "0.7940768599510193\n",
      "0.24\n",
      "Iteration 110: Loss = 508.52069091796875\n",
      "0.8024902939796448\n",
      "0.23\n",
      "Iteration 120: Loss = 395.66455078125\n",
      "0.8106695413589478\n",
      "0.22\n",
      "Iteration 130: Loss = 294.18115234375\n",
      "0.8185823559761047\n",
      "0.21\n",
      "Iteration 140: Loss = 410.48516845703125\n",
      "0.826337456703186\n",
      "0.2\n",
      "Iteration 150: Loss = 152.9845428466797\n",
      "0.8339644074440002\n",
      "0.19\n",
      "Iteration 160: Loss = 138.27407836914062\n",
      "0.8413527011871338\n",
      "0.18\n",
      "Iteration 170: Loss = 50.517784118652344\n",
      "0.8485439419746399\n",
      "0.17\n",
      "Iteration 180: Loss = 9.204185485839844\n",
      "0.8554150462150574\n",
      "0.17\n",
      "Iteration 190: Loss = 33.80244064331055\n",
      "0.8621178269386292\n",
      "0.16\n",
      "Iteration 200: Loss = -24.8420352935791\n",
      "0.8688382506370544\n",
      "0.15\n",
      "Iteration 210: Loss = -158.87130737304688\n",
      "0.8753420114517212\n",
      "0.14\n",
      "Iteration 220: Loss = -211.6514129638672\n",
      "0.8815783858299255\n",
      "0.13\n",
      "Iteration 230: Loss = -199.4065704345703\n",
      "0.8876548409461975\n",
      "0.13\n",
      "Iteration 240: Loss = -174.9021453857422\n",
      "0.8934565782546997\n",
      "0.12\n",
      "Iteration 250: Loss = -232.97720336914062\n",
      "0.8990033268928528\n",
      "0.11\n",
      "Iteration 260: Loss = -284.5426940917969\n",
      "0.9044272899627686\n",
      "0.11\n",
      "Iteration 270: Loss = -326.9064636230469\n",
      "0.9096258878707886\n",
      "0.1\n",
      "Iteration 280: Loss = -339.55523681640625\n",
      "0.9146384000778198\n",
      "0.1\n",
      "Iteration 290: Loss = -352.0397033691406\n",
      "0.9194608926773071\n",
      "0.09\n",
      "Iteration 300: Loss = -412.6293029785156\n",
      "0.9240742921829224\n",
      "0.08\n",
      "Iteration 310: Loss = -334.0030822753906\n",
      "0.928501307964325\n",
      "0.08\n",
      "Iteration 320: Loss = -443.5252990722656\n",
      "0.9327827095985413\n",
      "0.07\n",
      "Iteration 330: Loss = -436.7145080566406\n",
      "0.9368795156478882\n",
      "0.07\n",
      "Iteration 340: Loss = -446.59674072265625\n",
      "0.9407173991203308\n",
      "0.06\n",
      "Iteration 350: Loss = -484.5353088378906\n",
      "0.9444019794464111\n",
      "0.06\n",
      "Iteration 360: Loss = -425.02764892578125\n",
      "0.9478845596313477\n",
      "0.06\n",
      "Iteration 370: Loss = -484.4994201660156\n",
      "0.9511533379554749\n",
      "0.05\n",
      "Iteration 380: Loss = -479.57171630859375\n",
      "0.9542626738548279\n",
      "0.05\n",
      "Iteration 390: Loss = -473.7721252441406\n",
      "0.9572343826293945\n",
      "0.05\n",
      "Iteration 400: Loss = -534.7135009765625\n",
      "0.9600364565849304\n",
      "0.04\n",
      "Iteration 410: Loss = -521.4803466796875\n",
      "0.9627099633216858\n",
      "0.04\n",
      "Iteration 420: Loss = -486.5390625\n",
      "0.9652199149131775\n",
      "0.04\n",
      "Iteration 430: Loss = -524.7341918945312\n",
      "0.9676090478897095\n",
      "0.03\n",
      "Iteration 440: Loss = -525.6829223632812\n",
      "0.9698347449302673\n",
      "0.03\n",
      "Iteration 450: Loss = -507.4339904785156\n",
      "0.9719287157058716\n",
      "0.03\n",
      "Iteration 460: Loss = -535.8073120117188\n",
      "0.9739407896995544\n",
      "0.03\n",
      "Iteration 470: Loss = -560.6078491210938\n",
      "0.9758449792861938\n",
      "0.03\n",
      "Iteration 480: Loss = -328.1136779785156\n",
      "0.977604866027832\n",
      "0.02\n",
      "Iteration 490: Loss = -570.5272216796875\n",
      "0.9792303442955017\n",
      "0.02\n",
      "Iteration 500: Loss = -545.6004638671875\n",
      "0.9807382225990295\n",
      "0.02\n",
      "Iteration 510: Loss = -544.8445434570312\n",
      "0.9821406602859497\n",
      "0.02\n",
      "Iteration 520: Loss = -547.6329345703125\n",
      "0.9834452867507935\n",
      "0.02\n",
      "Iteration 530: Loss = -558.0969848632812\n",
      "0.9846556186676025\n",
      "0.02\n",
      "Iteration 540: Loss = -512.457275390625\n",
      "0.9858553409576416\n",
      "0.01\n",
      "Iteration 550: Loss = -560.2390747070312\n",
      "0.9869192242622375\n",
      "0.01\n",
      "Iteration 560: Loss = -493.982177734375\n",
      "0.9878991842269897\n",
      "0.01\n",
      "Iteration 570: Loss = -569.8096923828125\n",
      "0.9887635707855225\n",
      "0.01\n",
      "Iteration 580: Loss = -556.1724243164062\n",
      "0.9895941615104675\n",
      "0.01\n",
      "Iteration 590: Loss = -557.7606201171875\n",
      "0.9903930425643921\n",
      "0.01\n"
     ]
    }
   ],
   "source": [
    "# if we wanna train try that here\n",
    "num_iterations = 600 # override previous statements. ToDo: define those here\n",
    "\n",
    "training_stats = forward_kin_2D.TrainingStats(\n",
    "                initial_loc, initial_scale, true_transition_mult,\n",
    "                transition_scale,  L1_true, L2_true, emission_scale,\n",
    "                num_timesteps, num_test_obs, test_inference_num_particles,\n",
    "                saving_interval, logging_interval)\n",
    "\n",
    "train.train(dataloader=dataloader, # loads ground truth observations\n",
    "            num_particles=num_particles,\n",
    "            algorithm='aesmc',\n",
    "            initial=initial,\n",
    "            transition=transition,\n",
    "            emission= forward_kin_2D.Emission(forward_kin_2D.FW_kin_2D, \n",
    "                        0.7, 1.2, emission_scale, True), # trainable\n",
    "            proposal=proposal,\n",
    "            num_epochs=1,\n",
    "            num_iterations_per_epoch=num_iterations,\n",
    "            callback=training_stats)"
   ]
  },
  {
   "cell_type": "code",
   "execution_count": 34,
   "metadata": {},
   "outputs": [],
   "source": [
    "L1_in_train = np.asarray(training_stats.curr_L1)\n",
    "L2_in_train = np.asarray(training_stats.curr_L2)"
   ]
  },
  {
   "cell_type": "code",
   "execution_count": 45,
   "metadata": {},
   "outputs": [
    {
     "data": {
      "image/png": "[encoded data removed]",
      "text/plain": [
       "<Figure size 432x288 with 1 Axes>"
      ]
     },
     "metadata": {
      "needs_background": "light"
     },
     "output_type": "display_data"
    }
   ],
   "source": [
    "plt.hlines(xmin=-2, xmax=62, y=1, label = \"true link lengths\")\n",
    "plt.plot(L1_in_train, label= \"L1\", color = 'blue')\n",
    "plt.plot(L2_in_train, label=\"L2\", color = 'red')\n",
    "plt.xlabel(\"training iteration / 10\")\n",
    "plt.ylabel(\"param. value\")\n",
    "plt.title('AESMC: learning static parameters for a planar arm')\n",
    "plt.legend();\n",
    "plt.savefig('FW-KIN-2D_plots/fw-kin-2d-stat-param.png')"
   ]
  },
  {
   "cell_type": "code",
   "execution_count": 107,
   "metadata": {},
   "outputs": [],
   "source": [
    "# ToDo: define Proposal class here once and then delegate to the main script once your happy with the results\n",
    "class Proposal(nn.Module):\n",
    "    def __init__(self, scale_0, scale_t):\n",
    "        super(Proposal, self).__init__()\n",
    "        self.scale_0 = scale_0\n",
    "        self.scale_t = scale_t\n",
    "        self.lin_0 = nn.Linear(6, 2) # observations[0] -> mu[0]\n",
    "        self.lin_t = nn.Linear(8, 2) # {previous_latents[t-1], observations[t]} -> mu[t]\n",
    "\n",
    "    def forward(self, previous_latents=None, time=None, observations=None):\n",
    "        if time == 0:\n",
    "            return aesmc.state.set_batch_shape_mode(\n",
    "                torch.distributions.Normal(\n",
    "                    loc=self.lin_0(observations[0]),\n",
    "                    scale=self.scale_0),\n",
    "                aesmc.state.BatchShapeMode.BATCH_EXPANDED)\n",
    "        else:\n",
    "            batch_size, num_particles, dim_latents = previous_latents[-1].shape\n",
    "            expanded_obs = aesmc.state.expand_observation(observations[time], num_particles) # expand current obs\n",
    "            # concat previous latents with current expanded observation. then squeeze to batch_expanded mode\n",
    "            # i.e., [batch_size*num_particles, dim_latent+dim_observation]\n",
    "            # to apply a linear layer.\n",
    "            concat_squeezed = torch.cat([previous_latents[-1], \n",
    "                        expanded_obs\n",
    "                        ], \n",
    "                        dim=2).view(-1, previous_latents[-1].shape[2]+ expanded_obs.shape[2])\n",
    "            activ = self.lin_t(concat_squeezed)\n",
    "            mu_t = activ.view(batch_size, num_particles, dim_latents)\n",
    "            return aesmc.state.set_batch_shape_mode(\n",
    "                torch.distributions.Normal(\n",
    "                    loc=mu_t,\n",
    "                    scale=self.scale_t),\n",
    "                aesmc.state.BatchShapeMode.FULLY_EXPANDED)"
   ]
  },
  {
   "cell_type": "markdown",
   "metadata": {},
   "source": [
    "so need to:\n",
    "at time t, use `state.expand_observation()`, then concatanate with `previous_latents[-1]`,\n",
    "then compress the batch size expansion, then apply FF network, then expand to full `[batch_size, num_particles,dim_latent]`"
   ]
  },
  {
   "cell_type": "code",
   "execution_count": 9,
   "metadata": {},
   "outputs": [],
   "source": [
    "proposal_instance = Proposal(proposal_scale_0, proposal_scale_t)"
   ]
  },
  {
   "cell_type": "code",
   "execution_count": 28,
   "metadata": {},
   "outputs": [
    {
     "data": {
      "text/plain": [
       "torch.Size([10, 6])"
      ]
     },
     "execution_count": 28,
     "metadata": {},
     "output_type": "execute_result"
    }
   ],
   "source": [
    "observations[0].shape"
   ]
  },
  {
   "cell_type": "code",
   "execution_count": 10,
   "metadata": {},
   "outputs": [
    {
     "name": "stdout",
     "output_type": "stream",
     "text": [
      "torch.Size([10, 2])\n"
     ]
    }
   ],
   "source": [
    "prop_0_mu = proposal_instance.lin_0(observations[0])\n",
    "print(prop_0_mu.shape)"
   ]
  },
  {
   "cell_type": "code",
   "execution_count": 11,
   "metadata": {},
   "outputs": [],
   "source": [
    "import aesmc.state as state"
   ]
  },
  {
   "cell_type": "code",
   "execution_count": 13,
   "metadata": {},
   "outputs": [
    {
     "data": {
      "text/plain": [
       "torch.Size([10, 2])"
      ]
     },
     "execution_count": 13,
     "metadata": {},
     "output_type": "execute_result"
    }
   ],
   "source": [
    "# how to expand a scalar to dimensions of interest\n",
    "a = torch.rand(10,2)\n",
    "b = torch.tensor(1)\n",
    "b.expand(a.shape).shape"
   ]
  },
  {
   "cell_type": "code",
   "execution_count": 15,
   "metadata": {},
   "outputs": [
    {
     "name": "stdout",
     "output_type": "stream",
     "text": [
      "Normal(loc: torch.Size([10, 2]), scale: torch.Size([10, 2]))\n"
     ]
    }
   ],
   "source": [
    "# at time t=0 (this will go inside the proposal forward method)\n",
    "# ToDo: check if we prefer/can have a MVN with covariance\n",
    "distr_obj_0 = state.set_batch_shape_mode(\n",
    "                torch.distributions.Normal(\n",
    "                    loc=prop_0_mu,\n",
    "                    scale=torch.tensor(initial_scale).expand(prop_0_mu.shape)),\n",
    "                state.BatchShapeMode.BATCH_EXPANDED)\n",
    "print(distr_obj_0)"
   ]
  },
  {
   "cell_type": "code",
   "execution_count": 98,
   "metadata": {},
   "outputs": [
    {
     "name": "stdout",
     "output_type": "stream",
     "text": [
      "torch.Size([10, 6])\n",
      "torch.Size([10, 1, 6])\n",
      "tensor([-0.0062, -0.0019,  0.3602, -0.9463,  1.2763, -1.3362])\n",
      "tensor([-0.0062, -0.0019,  0.3602, -0.9463,  1.2763, -1.3362])\n",
      "torch.Size([10, 100, 6])\n",
      "that is [batch_size, num_particles, dim_observations]\n",
      "tensor([-0.0062, -0.0019,  0.3602, -0.9463,  1.2763, -1.3362])\n",
      "torch.Size([10, 100, 8])\n",
      "that is [batch_size, num_particles, dim_observations + dim_latents]\n",
      "now we have to push things through a linear layer\n",
      "so first view in two dimensions [batch_size*num_particles, dim_observations + dim_latents]\n",
      "torch.Size([1000, 8])\n",
      "push through FF layer\n",
      "torch.Size([1000, 2])\n",
      "get [batch_size*num_particles, dim_latents], and reshape again to canonical form\n",
      "torch.Size([10, 100, 2])\n"
     ]
    }
   ],
   "source": [
    "# we would like to keep these dimesions, expand the observations to be \n",
    "# [batch_size, num_particles, dim_observations] and then concatanate \n",
    "print(observations[0].shape)\n",
    "print(observations[0].view(-1, 1, 6).shape)\n",
    "print(observations[0][0,:])\n",
    "print(observations[0].view(-1, 1, 6)[0,0,:])\n",
    "print(observations[0].view(-1, 1, 6).expand(10,num_particles,6).shape)\n",
    "print(\"that is [batch_size, num_particles, dim_observations]\")\n",
    "print(observations[0].view(-1, 1, 6).expand(10,num_particles,6)[0,89,:]) # 0th batch, 89th particle, all obs dims\n",
    "cat = torch.cat([inferred_latents_list[-1], \n",
    "           observations[0].view(-1, 1, 6).expand(10,num_particles,6)\n",
    "                ], \n",
    "                dim=2)\n",
    "print(cat.shape) # print out cat vals below\n",
    "print(\"that is [batch_size, num_particles, dim_observations + dim_latents]\")\n",
    "print(\"now we have to push things through a linear layer\")\n",
    "print(\"so first view in two dimensions [batch_size*num_particles, dim_observations + dim_latents]\")\n",
    "print(cat.view(-1,8).shape)\n",
    "print(\"push through FF layer\")\n",
    "activ = proposal_instance.lin_t(cat.view(-1,8))\n",
    "print(activ.shape)\n",
    "print(\"get [batch_size*num_particles, dim_latents], and reshape again to canonical form\")\n",
    "print(activ.view(batch_size,num_particles,2).shape)\n",
    "prop_t_mu = activ.view(batch_size,num_particles,2)"
   ]
  },
  {
   "cell_type": "code",
   "execution_count": 106,
   "metadata": {},
   "outputs": [
    {
     "name": "stdout",
     "output_type": "stream",
     "text": [
      "Normal(loc: torch.Size([10, 100, 2]), scale: torch.Size([10, 100, 2]))\n"
     ]
    }
   ],
   "source": [
    "distr_obj_t = state.set_batch_shape_mode(\n",
    "                torch.distributions.Normal(\n",
    "                    loc=prop_t_mu,\n",
    "                    scale=proposal_scale_t),#torch.tensor(proposal_scale_t).expand(prop_t_mu.shape)),\n",
    "                state.BatchShapeMode.FULLY_EXPANDED)\n",
    "print(distr_obj_t)\n",
    "#print(distr_obj_t.scale)\n",
    "# same output obtained by expanding\n",
    "# distr_obj_t = state.set_batch_shape_mode(\n",
    "#                 torch.distributions.Normal(\n",
    "#                     loc=prop_t_mu,\n",
    "#                     scale=torch.tensor(proposal_scale_t).expand(prop_t_mu.shape)),\n",
    "#                 state.BatchShapeMode.FULLY_EXPANDED)\n",
    "# print(distr_obj_t.scale)"
   ]
  },
  {
   "cell_type": "code",
   "execution_count": 64,
   "metadata": {},
   "outputs": [
    {
     "name": "stdout",
     "output_type": "stream",
     "text": [
      "torch.Size([10, 100, 6])\n",
      "tensor(0.)\n"
     ]
    }
   ],
   "source": [
    "# we could also use state.expand_observation and its fine\n",
    "# ToDo -- add state.compress to batch_expanded mode\n",
    "expanded_obs = state.expand_observation(observations[0], num_particles)\n",
    "print(expanded_obs.shape)\n",
    "print(torch.max(observations[0].view(-1, 1, 6).expand(10,num_particles,6)-expanded_obs))"
   ]
  },
  {
   "cell_type": "code",
   "execution_count": 93,
   "metadata": {},
   "outputs": [
    {
     "name": "stdout",
     "output_type": "stream",
     "text": [
      "tensor([[ 0,  0],\n",
      "        [ 1, 10]])\n",
      "torch.Size([2, 2])\n"
     ]
    }
   ],
   "source": [
    "lin_toy = torch.tensor([[0,0],[1,10]])\n",
    "print(lin_toy)\n",
    "print(lin_toy.shape)\n",
    "# both units see just the second column of the input (for each batch). \n",
    "# the second unit scales the second column by ten"
   ]
  },
  {
   "cell_type": "code",
   "execution_count": 94,
   "metadata": {},
   "outputs": [
    {
     "name": "stdout",
     "output_type": "stream",
     "text": [
      "tensor([0, 1, 2, 3, 4, 5, 6, 7])\n",
      "tensor([[[0, 1],\n",
      "         [2, 3]],\n",
      "\n",
      "        [[4, 5],\n",
      "         [6, 7]]])\n",
      "tensor([[0, 1],\n",
      "        [2, 3],\n",
      "        [4, 5],\n",
      "        [6, 7]])\n",
      "tensor([[[0, 1],\n",
      "         [2, 3]],\n",
      "\n",
      "        [[4, 5],\n",
      "         [6, 7]]])\n",
      "tensor(0)\n"
     ]
    }
   ],
   "source": [
    "# want to have full batch size mode, and view it in different ways and see what happens\n",
    "vec_tens = torch.tensor(np.arange(8))\n",
    "print(vec_tens)\n",
    "vec_tens_full_expanded = vec_tens.view(2,2,2)\n",
    "print(vec_tens_full_expanded)\n",
    "vec_tens_batch_expanded = vec_tens_full_expanded.view(4,2)\n",
    "print(vec_tens_batch_expanded)\n",
    "vec_tens_full_expanded_2 = vec_tens_batch_expanded.view(2,2,2)\n",
    "print(vec_tens_full_expanded_2)\n",
    "print(torch.max(vec_tens_full_expanded-vec_tens_full_expanded_2))"
   ]
  },
  {
   "cell_type": "code",
   "execution_count": 97,
   "metadata": {},
   "outputs": [
    {
     "name": "stdout",
     "output_type": "stream",
     "text": [
      "torch.Size([4, 2])\n",
      "tensor([[ 1, 10],\n",
      "        [ 3, 30],\n",
      "        [ 5, 50],\n",
      "        [ 7, 70]])\n",
      "torch.Size([4, 2])\n",
      "tensor([[[ 1, 10],\n",
      "         [ 3, 30]],\n",
      "\n",
      "        [[ 5, 50],\n",
      "         [ 7, 70]]])\n",
      "tensor([[ 1, 10],\n",
      "        [ 3, 30]])\n",
      "compare to the zero-th batch in the input:\n",
      "tensor([[0, 1],\n",
      "        [2, 3]])\n",
      "and we see that the two output units do what we expect for that batch\n"
     ]
    }
   ],
   "source": [
    "print(vec_tens_batch_expanded.shape)\n",
    "matmul_batch = torch.mm(vec_tens_batch_expanded,lin_toy)\n",
    "print(matmul_batch)\n",
    "print(matmul_batch.shape)\n",
    "print(matmul_batch.view(2,2,2))\n",
    "print(matmul_batch.view(2,2,2)[0,:,:])\n",
    "print(\"compare to the zero-th batch in the input:\" )\n",
    "print(vec_tens_full_expanded[0,:,:])\n",
    "print(\"and we see that the two output units do what we expect for that batch\")"
   ]
  },
  {
   "cell_type": "code",
   "execution_count": 91,
   "metadata": {},
   "outputs": [
    {
     "data": {
      "text/plain": [
       "tensor([0, 1])"
      ]
     },
     "execution_count": 91,
     "metadata": {},
     "output_type": "execute_result"
    }
   ],
   "source": [
    "vec_tens_full_expanded[0,0,:]"
   ]
  },
  {
   "cell_type": "code",
   "execution_count": 20,
   "metadata": {},
   "outputs": [],
   "source": [
    "# at some later time: \n",
    "# note that we cannot play this game with forward 'latents' unless we have access to the particles; so it has\n",
    "# to be 'inference_result['latents']''.\n",
    "time = 16\n",
    "num_particles = inferred_latents_list[time-1].shape[1]\n",
    "prop_t_mu = proposal_instance.lin_t()\n",
    "# prop_t_mu = lin_t(torch.cat(\n",
    "#                     [inference_result['latents'][time-1].unsqueeze(-1),\n",
    "#                      observations[time].view(-1, 1, 1).expand(\n",
    "#                         -1, num_particles, 1\n",
    "#                      )],\n",
    "#                     dim=2\n",
    "#                 ).view(-1, 2)).squeeze(-1).view(-1, num_particles)\n",
    "# print(prop_t_mu.shape)"
   ]
  },
  {
   "cell_type": "code",
   "execution_count": 21,
   "metadata": {},
   "outputs": [
    {
     "data": {
      "text/plain": [
       "100"
      ]
     },
     "execution_count": 21,
     "metadata": {},
     "output_type": "execute_result"
    }
   ],
   "source": [
    "num_particles"
   ]
  },
  {
   "cell_type": "code",
   "execution_count": 27,
   "metadata": {},
   "outputs": [
    {
     "name": "stdout",
     "output_type": "stream",
     "text": [
      "torch.Size([10, 6])\n",
      "torch.Size([60, 1, 1])\n",
      "torch.Size([60, 100, 1])\n",
      "it seems that these dimensions do not make sense in our case\n"
     ]
    }
   ],
   "source": [
    "# print the intermediate reshapes from the lgssm case:\n",
    "print(observations[time].shape)\n",
    "print(observations[time].view(-1, 1, 1).shape)\n",
    "print(observations[time].view(-1, 1, 1).expand(\n",
    "                         -1, num_particles, 1\n",
    "                     ).shape)\n",
    "print('it seems that these dimensions do not make sense in our case')"
   ]
  },
  {
   "cell_type": "code",
   "execution_count": null,
   "metadata": {},
   "outputs": [],
   "source": []
  }
 ],
 "metadata": {
  "kernelspec": {
   "display_name": "Python [conda env:pytorch_env]",
   "language": "python",
   "name": "conda-env-pytorch_env-py"
  },
  "language_info": {
   "codemirror_mode": {
    "name": "ipython",
    "version": 3
   },
   "file_extension": ".py",
   "mimetype": "text/x-python",
   "name": "python",
   "nbconvert_exporter": "python",
   "pygments_lexer": "ipython3",
   "version": "3.6.7"
  }
 },
 "nbformat": 4,
 "nbformat_minor": 2
}
