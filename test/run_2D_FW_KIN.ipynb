{
 "cells": [
  {
   "cell_type": "markdown",
   "metadata": {},
   "source": [
    "## AESMC for a planar arm\n",
    "### Infer latent joint angles given noisy coordinates\n",
    "The first part of this notebook validates that with a fixed transition and emission models, we can infer the latent variables using SMC. That is, only inference, without parameter learning. We use the Bootstrap proposal, sampling \"particles\" from the transition model and weighing them by the probability of explaining the data.\n",
    "\n",
    "In the second part, we learn the static parameters that appear in the emission distribution.\n",
    "\n",
    "Maybe remove: In the third part, we will learn the parameters of a proposal distribution that maps the previous latents and observations, through a neural network to parameters of a normal distribution from which we take samples."
   ]
  },
  {
   "cell_type": "code",
   "execution_count": 1,
   "metadata": {},
   "outputs": [],
   "source": [
    "import aesmc.train as train\n",
    "import aesmc.losses as losses\n",
    "import matplotlib.pyplot as plt\n",
    "import numpy as np\n",
    "import torch\n",
    "import torch.nn as nn\n",
    "\n",
    "from arm_models import forward_kin_2D # the model script -- distribution objects are defined there\n",
    "from arm_models import arm_utils # video plotting + params to coords\n",
    "from aesmc import statistics # to simulate from prior and summarize post."
   ]
  },
  {
   "cell_type": "code",
   "execution_count": 2,
   "metadata": {},
   "outputs": [],
   "source": [
    "# define global params which we're not ineferring \n",
    "transition_scale = 0.2\n",
    "emission_scale = 0.05\n",
    "proposal_scale_0 = 1\n",
    "proposal_scale_t = 0.1\n",
    "initial_loc = torch.zeros(2)\n",
    "initial_scale = 1 # * torch.eye(2)\n",
    "# define true params (to simualte data from)\n",
    "L1_true = 1.0\n",
    "L2_true = 1.0\n",
    "true_transition_mult = 1\n",
    "true_emission_mult = 1\n",
    "# if learning distributions:\n",
    "L1_init = 1.0\n",
    "L2_init = 1.0\n",
    "init_transition_mult = 0\n",
    "init_emission_mult = 0\n",
    "# define train/infer params\n",
    "num_timesteps = 100\n",
    "num_test_obs = 10\n",
    "test_inference_num_particles = 1000\n",
    "saving_interval = 10\n",
    "logging_interval = 10\n",
    "batch_size = 10\n",
    "num_iterations = 500\n",
    "num_particles = 100"
   ]
  },
  {
   "cell_type": "markdown",
   "metadata": {},
   "source": [
    "### define true distributions\n",
    "we will use those for creating a `dataloader` with simulated data from the true process and we will also use those in the inference in combination with `proposal`."
   ]
  },
  {
   "cell_type": "code",
   "execution_count": 3,
   "metadata": {},
   "outputs": [],
   "source": [
    "initial = forward_kin_2D.Initial(initial_loc, initial_scale)\n",
    "transition = forward_kin_2D.Transition(true_transition_mult, transition_scale)\n",
    "emission = forward_kin_2D.Emission(forward_kin_2D.FW_kin_2D, \n",
    "                        L1_true, L2_true, emission_scale, False)"
   ]
  },
  {
   "cell_type": "markdown",
   "metadata": {},
   "source": [
    "define proposal distribution -- that's the only distribution from which we're taking samples during inference/training. We could define arbitrarily complicated functions here that use latents up to the previous time point, and all observations. \n",
    "For simplicity, we are using the bootstrap particle filter which samples from the prior."
   ]
  },
  {
   "cell_type": "code",
   "execution_count": 4,
   "metadata": {},
   "outputs": [],
   "source": [
    "# model with more elaborate proposal, parameters need to be trained.\n",
    "# proposal = forward_kin_2D.Proposal(proposal_scale_0,\n",
    "#                                     proposal_scale_t)\n",
    "# model with bootstrap proposal\n",
    "# note that even if the scales are twice as large as in the true transition it'll infer things properly\n",
    "proposal = forward_kin_2D.Bootstrap_Proposal(initial_scale, initial_loc, \n",
    "                                             transition_scale, true_transition_mult)"
   ]
  },
  {
   "cell_type": "code",
   "execution_count": 6,
   "metadata": {},
   "outputs": [],
   "source": [
    "# define dataloader which we'll later use\n",
    "dataloader = train.get_synthetic_dataloader(\n",
    "            initial,\n",
    "            transition,\n",
    "            emission,\n",
    "            num_timesteps, batch_size)"
   ]
  },
  {
   "cell_type": "code",
   "execution_count": 7,
   "metadata": {},
   "outputs": [
    {
     "name": "stdout",
     "output_type": "stream",
     "text": [
      "torch.Size([10, 6])\n",
      "should be [batch_size, dim_observation]\n"
     ]
    }
   ],
   "source": [
    "observations = next(iter(dataloader))\n",
    "print(observations[-1].size())\n",
    "print('should be [batch_size, dim_observation]')"
   ]
  },
  {
   "cell_type": "code",
   "execution_count": 8,
   "metadata": {},
   "outputs": [
    {
     "name": "stdout",
     "output_type": "stream",
     "text": [
      "torch.Size([10, 6, 100])\n",
      "should be [batch_size, dim_observation, num_timesteps]\n"
     ]
    }
   ],
   "source": [
    "sim_data = torch.cat([obs.unsqueeze(-1) for\n",
    "                           obs in observations], dim=2)\n",
    "print(sim_data.shape)\n",
    "print('should be [batch_size, dim_observation, num_timesteps]')"
   ]
  },
  {
   "cell_type": "code",
   "execution_count": 9,
   "metadata": {},
   "outputs": [
    {
     "data": {
      "image/png": "[encoded data removed]",
      "text/plain": [
       "<Figure size 432x288 with 1 Axes>"
      ]
     },
     "metadata": {
      "needs_background": "light"
     },
     "output_type": "display_data"
    }
   ],
   "source": [
    "# plot simulated time series for one coordinate\n",
    "coord_ind = 4\n",
    "batch_ind = 0\n",
    "plt.plot(sim_data.detach().numpy()[batch_ind, coord_ind,:]);\n",
    "plt.title('simulated time series, batch %i coord %i' %(batch_ind, coord_ind), fontsize=14);"
   ]
  },
  {
   "cell_type": "code",
   "execution_count": 10,
   "metadata": {},
   "outputs": [
    {
     "name": "stdout",
     "output_type": "stream",
     "text": [
      "torch.Size([10, 2])\n",
      "torch.Size([10, 6])\n"
     ]
    }
   ],
   "source": [
    "# use statistics.sample_from_prior to obtain simulated latens and observations\n",
    "sim_lats , sim_observs = statistics.sample_from_prior(initial,\n",
    "                                transition,\n",
    "                                emission, \n",
    "                                num_timesteps,\n",
    "                                batch_size)\n",
    "print(sim_lats[-1].size()) # [batch_size, dim_latents]\n",
    "print(sim_observs[-1].size()) # [batch_size, dim_obs]"
   ]
  },
  {
   "cell_type": "code",
   "execution_count": 12,
   "metadata": {},
   "outputs": [
    {
     "data": {
      "text/plain": [
       "torch.Size([10, 2, 100])"
      ]
     },
     "execution_count": 12,
     "metadata": {},
     "output_type": "execute_result"
    }
   ],
   "source": [
    "lat_data = torch.cat([lat.unsqueeze(-1) for\n",
    "                           lat in sim_lats], dim=2)\n",
    "lat_data.shape # [batch_size, dim_latents, num_timesteps]"
   ]
  },
  {
   "cell_type": "code",
   "execution_count": 15,
   "metadata": {},
   "outputs": [],
   "source": [
    "from aesmc import inference\n",
    "\n",
    "inference_result = inference.infer(\n",
    "            inference_algorithm='smc',\n",
    "            observations=sim_observs, \n",
    "            initial=initial,\n",
    "            transition=transition,\n",
    "            emission=emission,\n",
    "            proposal=proposal,\n",
    "            num_particles=1000\n",
    "        )"
   ]
  },
  {
   "cell_type": "code",
   "execution_count": 16,
   "metadata": {},
   "outputs": [
    {
     "name": "stdout",
     "output_type": "stream",
     "text": [
      "7\n"
     ]
    }
   ],
   "source": [
    "print(len(inference_result))"
   ]
  },
  {
   "cell_type": "markdown",
   "metadata": {},
   "source": [
    "inference runs properly; now let's check if it is indeed making sense."
   ]
  },
  {
   "cell_type": "code",
   "execution_count": 17,
   "metadata": {},
   "outputs": [],
   "source": [
    "# ToDo: consider wrapping in a function e.g., summarize_posterior(latents, their weights)\n",
    "smc_smoothed_state_means = []\n",
    "smc_smoothed_state_variances = []\n",
    "for latent in inference_result['latents']:\n",
    "    smc_smoothed_state_means.append(statistics.empirical_mean(\n",
    "        latent, inference_result['log_weight']\n",
    "    ))\n",
    "    smc_smoothed_state_variances.append(statistics.empirical_variance(\n",
    "        latent, inference_result['log_weight']\n",
    "    ))"
   ]
  },
  {
   "cell_type": "code",
   "execution_count": 18,
   "metadata": {},
   "outputs": [],
   "source": [
    "sim_data = torch.cat([obs.unsqueeze(-1) for\n",
    "                           obs in sim_observs], dim=2) # now b, should be obs in observations\n",
    "smooth_mean =  torch.cat([mean.unsqueeze(-1) for\n",
    "                           mean in smc_smoothed_state_means], dim=2)\n",
    "smooth_var = torch.cat([var.unsqueeze(-1) for\n",
    "                           var in smc_smoothed_state_variances], dim=2)"
   ]
  },
  {
   "cell_type": "code",
   "execution_count": 19,
   "metadata": {},
   "outputs": [
    {
     "data": {
      "text/plain": [
       "torch.Size([10, 2, 100])"
      ]
     },
     "execution_count": 19,
     "metadata": {},
     "output_type": "execute_result"
    }
   ],
   "source": [
    "smooth_mean.shape"
   ]
  },
  {
   "cell_type": "code",
   "execution_count": 20,
   "metadata": {},
   "outputs": [
    {
     "data": {
      "text/plain": [
       "0.0031602383"
      ]
     },
     "execution_count": 20,
     "metadata": {},
     "output_type": "execute_result"
    }
   ],
   "source": [
    "ind_in_batch = 4\n",
    "dim_lat_plot = 0\n",
    "np.max(smooth_var[ind_in_batch,dim_lat_plot,:].detach().numpy()) # 0! it's also not on the same scale"
   ]
  },
  {
   "cell_type": "code",
   "execution_count": 21,
   "metadata": {},
   "outputs": [
    {
     "data": {
      "image/png": "[encoded data removed]",
      "text/plain": [
       "<Figure size 432x288 with 1 Axes>"
      ]
     },
     "metadata": {
      "needs_background": "light"
     },
     "output_type": "display_data"
    }
   ],
   "source": [
    "ind_in_batch = 5 # could be between 0 and batch_size-1\n",
    "dim_lat_plot = 0\n",
    "plt.plot(lat_data[ind_in_batch,dim_lat_plot,:].detach().numpy(), 'black', label=\"true\");\n",
    "plt.plot(smooth_mean[ind_in_batch,dim_lat_plot,:].detach().numpy(), 'red', \n",
    "         linestyle = 'dashed', label = \"AESMC recovered\");\n",
    "#plt.plot(smooth_var[ind_in_batch,dim_lat_plot,:].detach().numpy(), 'gray'); # 0! it's also not on the same scale\n",
    "plt.title('shoulder angle')\n",
    "plt.ylabel('rad')\n",
    "plt.xlabel('time')\n",
    "plt.legend();\n",
    "#plt.savefig('first_fig_aesmc.png')"
   ]
  },
  {
   "cell_type": "code",
   "execution_count": 22,
   "metadata": {},
   "outputs": [
    {
     "data": {
      "image/png": "[encoded data removed]",
      "text/plain": [
       "<Figure size 432x288 with 1 Axes>"
      ]
     },
     "metadata": {
      "needs_background": "light"
     },
     "output_type": "display_data"
    }
   ],
   "source": [
    "plt.hist(inference_result[\"log_weight\"][0,:].detach().numpy(), bins=100);"
   ]
  },
  {
   "cell_type": "code",
   "execution_count": 23,
   "metadata": {},
   "outputs": [],
   "source": [
    "# predicted coordinates\n",
    "ind_in_batch = 8 # could be between 0 and batch_size-1\n",
    "x_hat , y_hat = arm_utils.coords_from_params_mat(smooth_mean[ind_in_batch,0,:].detach().numpy(), \n",
    "                                       smooth_mean[ind_in_batch,1,:].detach().numpy(), L1_true, L2_true)"
   ]
  },
  {
   "cell_type": "code",
   "execution_count": 24,
   "metadata": {},
   "outputs": [],
   "source": [
    "x_obs = sim_data[ind_in_batch, [0,2,4], :].detach().numpy().T\n",
    "y_obs = sim_data[ind_in_batch, [1,3,5], :].detach().numpy().T"
   ]
  },
  {
   "cell_type": "code",
   "execution_count": 45,
   "metadata": {},
   "outputs": [
    {
     "data": {
      "image/png": "[encoded data removed]",
      "text/plain": [
       "<Figure size 432x288 with 1 Axes>"
      ]
     },
     "metadata": {
      "needs_background": "light"
     },
     "output_type": "display_data"
    }
   ],
   "source": [
    "arm_utils.video_sim_plane_2D(x_obs, y_obs, x_hat, y_hat, 'FW-KIN-2D_plots/fw-kin-2d-recovered', \n",
    "                   \"AESMC- recovering simulated data\", x_hat.shape[0], L1_true + L2_true + 1)"
   ]
  },
  {
   "cell_type": "code",
   "execution_count": 25,
   "metadata": {},
   "outputs": [
    {
     "name": "stdout",
     "output_type": "stream",
     "text": [
      "Iteration 0: Loss = 2425.797607421875\n",
      "0.42\n",
      "Iteration 10: Loss = 2336.669921875\n",
      "0.41\n",
      "Iteration 20: Loss = 1874.929931640625\n",
      "0.39\n",
      "Iteration 30: Loss = 2499.093017578125\n",
      "0.38\n",
      "Iteration 40: Loss = 1473.1455078125\n",
      "0.37\n",
      "Iteration 50: Loss = 1874.2884521484375\n",
      "0.35\n",
      "Iteration 60: Loss = 1555.5086669921875\n",
      "0.34\n",
      "Iteration 70: Loss = 1519.94091796875\n",
      "0.33\n",
      "Iteration 80: Loss = 933.16845703125\n",
      "0.31\n",
      "Iteration 90: Loss = 1025.158447265625\n",
      "0.3\n",
      "Iteration 100: Loss = 1350.9305419921875\n",
      "0.29\n",
      "Iteration 110: Loss = 694.0690307617188\n",
      "0.28\n",
      "Iteration 120: Loss = 717.2086181640625\n",
      "0.27\n",
      "Iteration 130: Loss = 521.9531860351562\n",
      "0.26\n",
      "Iteration 140: Loss = 689.6055908203125\n",
      "0.25\n",
      "Iteration 150: Loss = 249.54574584960938\n",
      "0.24\n",
      "Iteration 160: Loss = 234.2554168701172\n",
      "0.23\n",
      "Iteration 170: Loss = 397.1158447265625\n",
      "0.22\n",
      "Iteration 180: Loss = 136.1350555419922\n",
      "0.21\n",
      "Iteration 190: Loss = 138.78709411621094\n",
      "0.2\n",
      "Iteration 200: Loss = 6.268255710601807\n",
      "0.19\n",
      "Iteration 210: Loss = 93.26509094238281\n",
      "0.18\n",
      "Iteration 220: Loss = -129.07398986816406\n",
      "0.17\n",
      "Iteration 230: Loss = -43.29901885986328\n",
      "0.16\n",
      "Iteration 240: Loss = -193.85801696777344\n",
      "0.15\n",
      "Iteration 250: Loss = -99.46034240722656\n",
      "0.14\n",
      "Iteration 260: Loss = -303.19183349609375\n",
      "0.14\n",
      "Iteration 270: Loss = -269.2728576660156\n",
      "0.13\n",
      "Iteration 280: Loss = -248.9684600830078\n",
      "0.12\n",
      "Iteration 290: Loss = -344.1849365234375\n",
      "0.12\n",
      "Iteration 300: Loss = -384.7273864746094\n",
      "0.11\n",
      "Iteration 310: Loss = -412.02362060546875\n",
      "0.1\n",
      "Iteration 320: Loss = -396.23828125\n",
      "0.1\n",
      "Iteration 330: Loss = -440.6864318847656\n",
      "0.09\n",
      "Iteration 340: Loss = -439.71258544921875\n",
      "0.09\n",
      "Iteration 350: Loss = -419.01702880859375\n",
      "0.08\n",
      "Iteration 360: Loss = -428.92608642578125\n",
      "0.08\n",
      "Iteration 370: Loss = -467.31414794921875\n",
      "0.07\n",
      "Iteration 380: Loss = -451.6297912597656\n",
      "0.07\n",
      "Iteration 390: Loss = -461.3702697753906\n",
      "0.06\n",
      "Iteration 400: Loss = -487.35992431640625\n",
      "0.06\n",
      "Iteration 410: Loss = -509.37969970703125\n",
      "0.05\n",
      "Iteration 420: Loss = -474.96685791015625\n",
      "0.05\n",
      "Iteration 430: Loss = -521.6536865234375\n",
      "0.05\n",
      "Iteration 440: Loss = -517.1138916015625\n",
      "0.04\n",
      "Iteration 450: Loss = -484.50360107421875\n",
      "0.04\n",
      "Iteration 460: Loss = -547.6155395507812\n",
      "0.04\n",
      "Iteration 470: Loss = -565.4417724609375\n",
      "0.03\n",
      "Iteration 480: Loss = -444.86773681640625\n",
      "0.03\n",
      "Iteration 490: Loss = -532.5056762695312\n",
      "0.03\n",
      "Iteration 500: Loss = -486.2884216308594\n",
      "0.03\n",
      "Iteration 510: Loss = -570.068115234375\n",
      "0.02\n",
      "Iteration 520: Loss = -566.2572021484375\n",
      "0.02\n",
      "Iteration 530: Loss = -565.009765625\n",
      "0.02\n",
      "Iteration 540: Loss = -547.826171875\n",
      "0.02\n",
      "Iteration 550: Loss = -545.2068481445312\n",
      "0.02\n",
      "Iteration 560: Loss = -528.5814208984375\n",
      "0.02\n",
      "Iteration 570: Loss = -552.5882568359375\n",
      "0.01\n",
      "Iteration 580: Loss = -496.72662353515625\n",
      "0.01\n",
      "Iteration 590: Loss = -574.101806640625\n",
      "0.01\n"
     ]
    }
   ],
   "source": [
    "# if we wanna train try that here\n",
    "num_iterations = 600 # override previous statements. ToDo: define those here\n",
    "L1_init =  0.7\n",
    "L2_init = 1.3\n",
    "training_stats = forward_kin_2D.TrainingStats(\n",
    "                L1_true, L2_true, \n",
    "                num_timesteps,\n",
    "                logging_interval)\n",
    "\n",
    "train.train(dataloader=dataloader, # loads ground truth observations\n",
    "            num_particles=num_particles,\n",
    "            algorithm='aesmc',\n",
    "            initial=initial, # the true distribution, assume we're not learning\n",
    "            transition=transition, # same here\n",
    "            emission= forward_kin_2D.Emission(forward_kin_2D.FW_kin_2D, \n",
    "                        L1_init, L2_init, emission_scale, True), # new trainable instance\n",
    "            proposal=proposal,\n",
    "            num_epochs=1,\n",
    "            num_iterations_per_epoch=num_iterations,\n",
    "            callback=training_stats)"
   ]
  },
  {
   "cell_type": "code",
   "execution_count": 26,
   "metadata": {},
   "outputs": [],
   "source": [
    "# convert static parameters as arrays for plotting\n",
    "L1_in_train = np.asarray(training_stats.curr_L1)\n",
    "L2_in_train = np.asarray(training_stats.curr_L2)"
   ]
  },
  {
   "cell_type": "code",
   "execution_count": 27,
   "metadata": {},
   "outputs": [
    {
     "data": {
      "image/png": "[encoded data removed]",
      "text/plain": [
       "<Figure size 432x288 with 1 Axes>"
      ]
     },
     "metadata": {
      "needs_background": "light"
     },
     "output_type": "display_data"
    }
   ],
   "source": [
    "plt.hlines(xmin=-2, xmax=62, y=1, label = \"true link lengths\")\n",
    "plt.plot(L1_in_train, label= \"L1\", color = 'blue')\n",
    "plt.plot(L2_in_train, label=\"L2\", color = 'red')\n",
    "plt.xlabel(\"training iteration / 10\")\n",
    "plt.ylabel(\"param. value\")\n",
    "plt.title('AESMC: learning static parameters for a planar arm')\n",
    "plt.legend();\n",
    "plt.savefig('FW-KIN-2D_plots/fw-kin-2d-stat-param.png')"
   ]
  },
  {
   "cell_type": "code",
   "execution_count": 28,
   "metadata": {},
   "outputs": [],
   "source": [
    "loss_in_training = np.asarray(training_stats.loss)"
   ]
  },
  {
   "cell_type": "code",
   "execution_count": 31,
   "metadata": {},
   "outputs": [
    {
     "data": {
      "image/png": "[encoded data removed]",
      "text/plain": [
       "<Figure size 432x288 with 1 Axes>"
      ]
     },
     "metadata": {
      "needs_background": "light"
     },
     "output_type": "display_data"
    }
   ],
   "source": [
    "plt.plot(loss_in_training, label= \"loss\")\n",
    "plt.xlabel(\"training iteration / 10\")\n",
    "plt.ylabel(\"log loss\")\n",
    "plt.title('AESMC for a planar arm: loss in training')\n",
    "#plt.legend();\n",
    "plt.savefig('FW-KIN-2D_plots/fw-kin-2d-loss.png')"
   ]
  },
  {
   "cell_type": "markdown",
   "metadata": {},
   "source": [
    "## Miscellaneous \n",
    "Bunch of things I have played with, like changing dimensions of tensors and distribution objects."
   ]
  },
  {
   "cell_type": "code",
   "execution_count": 32,
   "metadata": {},
   "outputs": [],
   "source": [
    "import aesmc.state as state"
   ]
  },
  {
   "cell_type": "code",
   "execution_count": 33,
   "metadata": {},
   "outputs": [
    {
     "data": {
      "text/plain": [
       "torch.Size([10, 2])"
      ]
     },
     "execution_count": 33,
     "metadata": {},
     "output_type": "execute_result"
    }
   ],
   "source": [
    "# how to expand a scalar to dimensions of interest\n",
    "a = torch.rand(10,2)\n",
    "b = torch.tensor(1)\n",
    "b.expand(a.shape).shape"
   ]
  },
  {
   "cell_type": "code",
   "execution_count": 35,
   "metadata": {},
   "outputs": [
    {
     "name": "stdout",
     "output_type": "stream",
     "text": [
      "100\n",
      "torch.Size([10, 100, 2])\n"
     ]
    }
   ],
   "source": [
    "# # # make up a list of inferred latents\n",
    "# # the dim should be [batch_size, num_particles, dim_latents]\n",
    "inferred_latents_list = []\n",
    "for i in range(num_timesteps):\n",
    "    inferred_latents_list.append(torch.rand([batch_size, num_particles, 2]))\n",
    "print(len(inferred_latents_list))\n",
    "print(inferred_latents_list[-1].shape)"
   ]
  },
  {
   "cell_type": "code",
   "execution_count": 14,
   "metadata": {},
   "outputs": [],
   "source": [
    "# # check how the output of the proposal looks like\n",
    "# print(proposal(time=0, observations=observations)) # first call\n",
    "# print(proposal(time=2, previous_latents= inferred_latents_list, observations=observations)) # second call\n",
    "# # note that the inferred latents_list is longer than needed and not appropriate"
   ]
  },
  {
   "cell_type": "code",
   "execution_count": 36,
   "metadata": {},
   "outputs": [
    {
     "name": "stdout",
     "output_type": "stream",
     "text": [
      "torch.Size([10, 6])\n",
      "torch.Size([10, 1, 6])\n",
      "tensor([ 0.0133, -0.0323,  0.7073, -0.7605,  1.7456, -0.6420])\n",
      "tensor([ 0.0133, -0.0323,  0.7073, -0.7605,  1.7456, -0.6420])\n",
      "torch.Size([10, 100, 6])\n",
      "that is [batch_size, num_particles, dim_observations]\n",
      "tensor([ 0.0133, -0.0323,  0.7073, -0.7605,  1.7456, -0.6420])\n",
      "torch.Size([10, 100, 8])\n",
      "that is [batch_size, num_particles, dim_observations + dim_latents]\n",
      "now we have to push things through a linear layer\n",
      "so first view in two dimensions [batch_size*num_particles, dim_observations + dim_latents]\n",
      "torch.Size([1000, 8])\n",
      "push through FF layer\n"
     ]
    },
    {
     "ename": "NameError",
     "evalue": "name 'proposal_instance' is not defined",
     "output_type": "error",
     "traceback": [
      "\u001b[0;31m---------------------------------------------------------------------------\u001b[0m",
      "\u001b[0;31mNameError\u001b[0m                                 Traceback (most recent call last)",
      "\u001b[0;32m<ipython-input-36-df09ea5ee34a>\u001b[0m in \u001b[0;36m<module>\u001b[0;34m\u001b[0m\n\u001b[1;32m     18\u001b[0m \u001b[0mprint\u001b[0m\u001b[0;34m(\u001b[0m\u001b[0mcat\u001b[0m\u001b[0;34m.\u001b[0m\u001b[0mview\u001b[0m\u001b[0;34m(\u001b[0m\u001b[0;34m-\u001b[0m\u001b[0;36m1\u001b[0m\u001b[0;34m,\u001b[0m\u001b[0;36m8\u001b[0m\u001b[0;34m)\u001b[0m\u001b[0;34m.\u001b[0m\u001b[0mshape\u001b[0m\u001b[0;34m)\u001b[0m\u001b[0;34m\u001b[0m\u001b[0;34m\u001b[0m\u001b[0m\n\u001b[1;32m     19\u001b[0m \u001b[0mprint\u001b[0m\u001b[0;34m(\u001b[0m\u001b[0;34m\"push through FF layer\"\u001b[0m\u001b[0;34m)\u001b[0m\u001b[0;34m\u001b[0m\u001b[0;34m\u001b[0m\u001b[0m\n\u001b[0;32m---> 20\u001b[0;31m \u001b[0mactiv\u001b[0m \u001b[0;34m=\u001b[0m \u001b[0mproposal_instance\u001b[0m\u001b[0;34m.\u001b[0m\u001b[0mlin_t\u001b[0m\u001b[0;34m(\u001b[0m\u001b[0mcat\u001b[0m\u001b[0;34m.\u001b[0m\u001b[0mview\u001b[0m\u001b[0;34m(\u001b[0m\u001b[0;34m-\u001b[0m\u001b[0;36m1\u001b[0m\u001b[0;34m,\u001b[0m\u001b[0;36m8\u001b[0m\u001b[0;34m)\u001b[0m\u001b[0;34m)\u001b[0m\u001b[0;34m\u001b[0m\u001b[0;34m\u001b[0m\u001b[0m\n\u001b[0m\u001b[1;32m     21\u001b[0m \u001b[0mprint\u001b[0m\u001b[0;34m(\u001b[0m\u001b[0mactiv\u001b[0m\u001b[0;34m.\u001b[0m\u001b[0mshape\u001b[0m\u001b[0;34m)\u001b[0m\u001b[0;34m\u001b[0m\u001b[0;34m\u001b[0m\u001b[0m\n\u001b[1;32m     22\u001b[0m \u001b[0mprint\u001b[0m\u001b[0;34m(\u001b[0m\u001b[0;34m\"get [batch_size*num_particles, dim_latents], and reshape again to canonical form\"\u001b[0m\u001b[0;34m)\u001b[0m\u001b[0;34m\u001b[0m\u001b[0;34m\u001b[0m\u001b[0m\n",
      "\u001b[0;31mNameError\u001b[0m: name 'proposal_instance' is not defined"
     ]
    }
   ],
   "source": [
    "# we would like to keep these dimesions, expand the observations to be \n",
    "# [batch_size, num_particles, dim_observations] and then concatanate \n",
    "print(observations[0].shape)\n",
    "print(observations[0].view(-1, 1, 6).shape)\n",
    "print(observations[0][0,:])\n",
    "print(observations[0].view(-1, 1, 6)[0,0,:])\n",
    "print(observations[0].view(-1, 1, 6).expand(10,num_particles,6).shape)\n",
    "print(\"that is [batch_size, num_particles, dim_observations]\")\n",
    "print(observations[0].view(-1, 1, 6).expand(10,num_particles,6)[0,89,:]) # 0th batch, 89th particle, all obs dims\n",
    "cat = torch.cat([inferred_latents_list[-1], \n",
    "           observations[0].view(-1, 1, 6).expand(10,num_particles,6)\n",
    "                ], \n",
    "                dim=2)\n",
    "print(cat.shape) # print out cat vals below\n",
    "print(\"that is [batch_size, num_particles, dim_observations + dim_latents]\")\n",
    "print(\"now we have to push things through a linear layer\")\n",
    "print(\"so first view in two dimensions [batch_size*num_particles, dim_observations + dim_latents]\")\n",
    "print(cat.view(-1,8).shape)\n",
    "print(\"push through FF layer\")\n",
    "activ = proposal_instance.lin_t(cat.view(-1,8))\n",
    "print(activ.shape)\n",
    "print(\"get [batch_size*num_particles, dim_latents], and reshape again to canonical form\")\n",
    "print(activ.view(batch_size,num_particles,2).shape)\n",
    "prop_t_mu = activ.view(batch_size,num_particles,2)"
   ]
  },
  {
   "cell_type": "code",
   "execution_count": 37,
   "metadata": {},
   "outputs": [
    {
     "ename": "NameError",
     "evalue": "name 'prop_t_mu' is not defined",
     "output_type": "error",
     "traceback": [
      "\u001b[0;31m---------------------------------------------------------------------------\u001b[0m",
      "\u001b[0;31mNameError\u001b[0m                                 Traceback (most recent call last)",
      "\u001b[0;32m<ipython-input-37-ef2989727ce9>\u001b[0m in \u001b[0;36m<module>\u001b[0;34m\u001b[0m\n\u001b[1;32m      1\u001b[0m distr_obj_t = state.set_batch_shape_mode(\n\u001b[1;32m      2\u001b[0m                 torch.distributions.Normal(\n\u001b[0;32m----> 3\u001b[0;31m                     \u001b[0mloc\u001b[0m\u001b[0;34m=\u001b[0m\u001b[0mprop_t_mu\u001b[0m\u001b[0;34m,\u001b[0m\u001b[0;34m\u001b[0m\u001b[0;34m\u001b[0m\u001b[0m\n\u001b[0m\u001b[1;32m      4\u001b[0m                     scale=proposal_scale_t),#torch.tensor(proposal_scale_t).expand(prop_t_mu.shape)),\n\u001b[1;32m      5\u001b[0m                 state.BatchShapeMode.FULLY_EXPANDED)\n",
      "\u001b[0;31mNameError\u001b[0m: name 'prop_t_mu' is not defined"
     ]
    }
   ],
   "source": [
    "distr_obj_t = state.set_batch_shape_mode(\n",
    "                torch.distributions.Normal(\n",
    "                    loc=prop_t_mu,\n",
    "                    scale=proposal_scale_t),#torch.tensor(proposal_scale_t).expand(prop_t_mu.shape)),\n",
    "                state.BatchShapeMode.FULLY_EXPANDED)\n",
    "print(distr_obj_t)\n",
    "#print(distr_obj_t.scale)\n",
    "# same output obtained by expanding\n",
    "# distr_obj_t = state.set_batch_shape_mode(\n",
    "#                 torch.distributions.Normal(\n",
    "#                     loc=prop_t_mu,\n",
    "#                     scale=torch.tensor(proposal_scale_t).expand(prop_t_mu.shape)),\n",
    "#                 state.BatchShapeMode.FULLY_EXPANDED)\n",
    "# print(distr_obj_t.scale)"
   ]
  },
  {
   "cell_type": "code",
   "execution_count": 64,
   "metadata": {},
   "outputs": [
    {
     "name": "stdout",
     "output_type": "stream",
     "text": [
      "torch.Size([10, 100, 6])\n",
      "tensor(0.)\n"
     ]
    }
   ],
   "source": [
    "# we could also use state.expand_observation and its fine\n",
    "# ToDo -- add state.compress to batch_expanded mode\n",
    "expanded_obs = state.expand_observation(observations[0], num_particles)\n",
    "print(expanded_obs.shape)\n",
    "print(torch.max(observations[0].view(-1, 1, 6).expand(10,num_particles,6)-expanded_obs))"
   ]
  },
  {
   "cell_type": "code",
   "execution_count": 93,
   "metadata": {},
   "outputs": [
    {
     "name": "stdout",
     "output_type": "stream",
     "text": [
      "tensor([[ 0,  0],\n",
      "        [ 1, 10]])\n",
      "torch.Size([2, 2])\n"
     ]
    }
   ],
   "source": [
    "lin_toy = torch.tensor([[0,0],[1,10]])\n",
    "print(lin_toy)\n",
    "print(lin_toy.shape)\n",
    "# both units see just the second column of the input (for each batch). \n",
    "# the second unit scales the second column by ten"
   ]
  },
  {
   "cell_type": "code",
   "execution_count": 94,
   "metadata": {},
   "outputs": [
    {
     "name": "stdout",
     "output_type": "stream",
     "text": [
      "tensor([0, 1, 2, 3, 4, 5, 6, 7])\n",
      "tensor([[[0, 1],\n",
      "         [2, 3]],\n",
      "\n",
      "        [[4, 5],\n",
      "         [6, 7]]])\n",
      "tensor([[0, 1],\n",
      "        [2, 3],\n",
      "        [4, 5],\n",
      "        [6, 7]])\n",
      "tensor([[[0, 1],\n",
      "         [2, 3]],\n",
      "\n",
      "        [[4, 5],\n",
      "         [6, 7]]])\n",
      "tensor(0)\n"
     ]
    }
   ],
   "source": [
    "# want to have full batch size mode, and view it in different ways and see what happens\n",
    "vec_tens = torch.tensor(np.arange(8))\n",
    "print(vec_tens)\n",
    "vec_tens_full_expanded = vec_tens.view(2,2,2)\n",
    "print(vec_tens_full_expanded)\n",
    "vec_tens_batch_expanded = vec_tens_full_expanded.view(4,2)\n",
    "print(vec_tens_batch_expanded)\n",
    "vec_tens_full_expanded_2 = vec_tens_batch_expanded.view(2,2,2)\n",
    "print(vec_tens_full_expanded_2)\n",
    "print(torch.max(vec_tens_full_expanded-vec_tens_full_expanded_2))"
   ]
  },
  {
   "cell_type": "code",
   "execution_count": 97,
   "metadata": {},
   "outputs": [
    {
     "name": "stdout",
     "output_type": "stream",
     "text": [
      "torch.Size([4, 2])\n",
      "tensor([[ 1, 10],\n",
      "        [ 3, 30],\n",
      "        [ 5, 50],\n",
      "        [ 7, 70]])\n",
      "torch.Size([4, 2])\n",
      "tensor([[[ 1, 10],\n",
      "         [ 3, 30]],\n",
      "\n",
      "        [[ 5, 50],\n",
      "         [ 7, 70]]])\n",
      "tensor([[ 1, 10],\n",
      "        [ 3, 30]])\n",
      "compare to the zero-th batch in the input:\n",
      "tensor([[0, 1],\n",
      "        [2, 3]])\n",
      "and we see that the two output units do what we expect for that batch\n"
     ]
    }
   ],
   "source": [
    "print(vec_tens_batch_expanded.shape)\n",
    "matmul_batch = torch.mm(vec_tens_batch_expanded,lin_toy)\n",
    "print(matmul_batch)\n",
    "print(matmul_batch.shape)\n",
    "print(matmul_batch.view(2,2,2))\n",
    "print(matmul_batch.view(2,2,2)[0,:,:])\n",
    "print(\"compare to the zero-th batch in the input:\" )\n",
    "print(vec_tens_full_expanded[0,:,:])\n",
    "print(\"and we see that the two output units do what we expect for that batch\")"
   ]
  }
 ],
 "metadata": {
  "kernelspec": {
   "display_name": "Python [conda env:pytorch_env]",
   "language": "python",
   "name": "conda-env-pytorch_env-py"
  },
  "language_info": {
   "codemirror_mode": {
    "name": "ipython",
    "version": 3
   },
   "file_extension": ".py",
   "mimetype": "text/x-python",
   "name": "python",
   "nbconvert_exporter": "python",
   "pygments_lexer": "ipython3",
   "version": "3.6.7"
  }
 },
 "nbformat": 4,
 "nbformat_minor": 2
}
