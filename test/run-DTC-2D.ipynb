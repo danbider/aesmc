{
 "cells": [
  {
   "cell_type": "code",
   "execution_count": 1,
   "metadata": {},
   "outputs": [],
   "source": [
    "import aesmc.train as train\n",
    "import aesmc.losses as losses\n",
    "import matplotlib.pyplot as plt\n",
    "import numpy as np\n",
    "import torch\n",
    "import torch.nn as nn\n",
    "from arm_models import DTC_2D_model # the model script -- distribution objects are defined there\n",
    "from arm_models import arm_utils # video plotting + params to coords\n",
    "from aesmc import statistics # to simulate from prior and summarize post.\n",
    "from aesmc import state"
   ]
  },
  {
   "cell_type": "code",
   "execution_count": 2,
   "metadata": {},
   "outputs": [],
   "source": [
    "# define global params which we're not inferring \n",
    "# ToDo: onsider having consts dict\n",
    "g= 0.2\n",
    "dt=0.03\n",
    "transition_scale = 0.1#0.05\n",
    "emission_scale = 0.1#0.01\n",
    "proposal_scale_0 = 0.1\n",
    "proposal_scale_t = 0.05\n",
    "initial_loc = torch.zeros(2)\n",
    "initial_scale = 0.1 # * torch.eye(2)\n",
    "# define true params (to simualte data from)\n",
    "true_transition_mult = 1\n",
    "true_emission_mult = 1\n",
    "# if learning distributions:\n",
    "init_transition_mult = 0\n",
    "init_emission_mult = 0\n",
    "# define train/infer params\n",
    "num_timesteps = 100\n",
    "num_test_obs = 10\n",
    "test_inference_num_particles = 1000\n",
    "saving_interval = 10\n",
    "logging_interval = 10\n",
    "batch_size = 10\n",
    "num_iterations = 500\n",
    "num_particles = 100"
   ]
  },
  {
   "cell_type": "code",
   "execution_count": 3,
   "metadata": {},
   "outputs": [],
   "source": [
    "# set up true values. later, we'll initialize from a different point and see how well\n",
    "# we're doing.\n",
    "inits_dict_true = {}\n",
    "inits_dict_true[\"L1\"] = 1.25\n",
    "inits_dict_true[\"L2\"] = 0.75\n",
    "inits_dict_true[\"M1\"] = 0.5\n",
    "inits_dict_true[\"M2\"] = 0.35 \n",
    "# init values for intermediate variables in the emission model\n",
    "inits_dict_true[\"velocity_vec\"] = torch.zeros([batch_size*num_particles, 2])\n",
    "inits_dict_true[\"angle_vec\"] = torch.zeros([batch_size*num_particles, 2])"
   ]
  },
  {
   "cell_type": "markdown",
   "metadata": {},
   "source": [
    "### Define true distributions\n",
    "To simulate data from the true model."
   ]
  },
  {
   "cell_type": "code",
   "execution_count": 4,
   "metadata": {},
   "outputs": [],
   "source": [
    "initial = DTC_2D_model.Initial(initial_loc, initial_scale)\n",
    "transition = DTC_2D_model.Transition(true_transition_mult, transition_scale)\n",
    "emission = DTC_2D_model.Emission(inits_dict_true, dt, g, emission_scale, False)"
   ]
  },
  {
   "cell_type": "markdown",
   "metadata": {},
   "source": [
    "Define bootsrap or other proposal. It will serve us later for inference."
   ]
  },
  {
   "cell_type": "code",
   "execution_count": 48,
   "metadata": {},
   "outputs": [],
   "source": [
    "# proposal = DTC_2D_model.Proposal(proposal_scale_0, proposal_scale_t)\n",
    "\n",
    "proposal = DTC_2D_model.Bootstrap_Proposal(initial_scale, initial_loc, \n",
    "                                             transition_scale, true_transition_mult)"
   ]
  },
  {
   "cell_type": "code",
   "execution_count": 49,
   "metadata": {},
   "outputs": [],
   "source": [
    "# # ToDo: decide whether or not it's relevant here\n",
    "# # set up data loader for simulated data from true distribution\n",
    "# dataloader = train.get_synthetic_dataloader(\n",
    "#             initial,\n",
    "#             transition,\n",
    "#             emission,\n",
    "#             num_timesteps, batch_size)"
   ]
  },
  {
   "cell_type": "markdown",
   "metadata": {},
   "source": [
    "my understanding - `statistics.sample_from_prior` instructs the objects to sample one particle no matter what is my num particles. now, when i'm giving an initial value that has `torch.Size[batch_size, num_particles, 2]` for the angles, with `num_particles` different from zero, this messes things up. Every intermediate quantity in the emmision should be aligned with the desired number of particles."
   ]
  },
  {
   "cell_type": "code",
   "execution_count": 7,
   "metadata": {},
   "outputs": [
    {
     "name": "stdout",
     "output_type": "stream",
     "text": [
      "torch.Size([10, 2])\n",
      "torch.Size([10, 6])\n"
     ]
    }
   ],
   "source": [
    "# use statistics.sample_from_prior to obtain simulated latens and observations\n",
    "# now we're setting it to be a \"one particle sample\". it seems to work.\n",
    "# but we'll have to reset number of particles to 100. ToDo: fix, generalize\n",
    "# num_particles = 1\n",
    "# inits_dict_true[\"velocity_vec\"] = torch.zeros([batch_size*num_particles, 2])\n",
    "# inits_dict_true[\"angle_vec\"] = torch.zeros([batch_size*num_particles, 2])\n",
    "# set random seed\n",
    "np.random.seed(0)\n",
    "torch.manual_seed(0)\n",
    "\n",
    "sim_lats , sim_observs = statistics.sample_from_prior(initial,\n",
    "                                transition,\n",
    "                                emission, \n",
    "                                num_timesteps,\n",
    "                                batch_size)\n",
    "print(sim_lats[-1].size()) # [batch_size, dim_latents]\n",
    "print(sim_observs[-1].size()) # [batch_size, dim_obs]"
   ]
  },
  {
   "cell_type": "code",
   "execution_count": 8,
   "metadata": {},
   "outputs": [
    {
     "data": {
      "text/plain": [
       "torch.Size([10, 100, 6])"
      ]
     },
     "execution_count": 8,
     "metadata": {},
     "output_type": "execute_result"
    }
   ],
   "source": [
    "expanded = state.expand_observation(sim_observs[-1], num_particles)\n",
    "expanded.shape"
   ]
  },
  {
   "cell_type": "code",
   "execution_count": 8,
   "metadata": {},
   "outputs": [
    {
     "data": {
      "text/plain": [
       "0"
      ]
     },
     "execution_count": 8,
     "metadata": {},
     "output_type": "execute_result"
    }
   ],
   "source": [
    "# len(emission.angles)\n",
    "# emission.angles[-1].shape\n",
    "# len(emission.angles)\n",
    "len(emission.acceleration) # one timestep less than others."
   ]
  },
  {
   "cell_type": "code",
   "execution_count": 49,
   "metadata": {},
   "outputs": [
    {
     "ename": "RuntimeError",
     "evalue": "expected a non-empty list of Tensors",
     "output_type": "error",
     "traceback": [
      "\u001b[0;31m---------------------------------------------------------------------------\u001b[0m",
      "\u001b[0;31mRuntimeError\u001b[0m                              Traceback (most recent call last)",
      "\u001b[0;32m<ipython-input-49-a77af3d21c5a>\u001b[0m in \u001b[0;36m<module>\u001b[0;34m\u001b[0m\n\u001b[1;32m      4\u001b[0m \u001b[0mtrue_acceleration_list\u001b[0m \u001b[0;34m=\u001b[0m \u001b[0memission\u001b[0m\u001b[0;34m.\u001b[0m\u001b[0macceleration\u001b[0m\u001b[0;34m\u001b[0m\u001b[0;34m\u001b[0m\u001b[0m\n\u001b[1;32m      5\u001b[0m sim_accel = torch.cat([acc.unsqueeze(-1) for\n\u001b[0;32m----> 6\u001b[0;31m                            acc in true_acceleration_list], dim=2)\n\u001b[0m\u001b[1;32m      7\u001b[0m \u001b[0msim_accel\u001b[0m\u001b[0;34m.\u001b[0m\u001b[0mshape\u001b[0m\u001b[0;34m\u001b[0m\u001b[0;34m\u001b[0m\u001b[0m\n",
      "\u001b[0;31mRuntimeError\u001b[0m: expected a non-empty list of Tensors"
     ]
    }
   ],
   "source": [
    "# save ground truth variables\n",
    "true_angles_list = emission.angles\n",
    "true_velocity_list = emission.velocity\n",
    "true_acceleration_list = emission.acceleration\n",
    "sim_accel = torch.cat([acc.unsqueeze(-1) for\n",
    "                           acc in true_acceleration_list], dim=2)\n",
    "sim_accel.shape"
   ]
  },
  {
   "cell_type": "code",
   "execution_count": 9,
   "metadata": {},
   "outputs": [
    {
     "name": "stdout",
     "output_type": "stream",
     "text": [
      "torch.Size([10, 2, 100])\n",
      "torch.Size([10, 6, 100])\n"
     ]
    }
   ],
   "source": [
    "lat_data = torch.cat([lat.unsqueeze(-1) for\n",
    "                           lat in sim_lats], dim=2)\n",
    "print(lat_data.shape) # [batch_size, dim_latents, num_timesteps]\n",
    "sim_data = torch.cat([obs.unsqueeze(-1) for\n",
    "                           obs in sim_observs], dim=2)\n",
    "print(sim_data.shape)"
   ]
  },
  {
   "cell_type": "code",
   "execution_count": 10,
   "metadata": {},
   "outputs": [
    {
     "data": {
      "image/png": "[encoded data removed]",
      "text/plain": [
       "<Figure size 432x288 with 1 Axes>"
      ]
     },
     "metadata": {
      "needs_background": "light"
     },
     "output_type": "display_data"
    }
   ],
   "source": [
    "ind_in_batch = 6 # could be between 0 and batch_size-1\n",
    "plt.plot(lat_data[ind_in_batch,0,:].detach().numpy(), 'black', label=\"shoulder\");\n",
    "plt.plot(lat_data[ind_in_batch,1,:].detach().numpy(), 'red', \n",
    "         linestyle = 'dashed', label = \"elbow\");\n",
    "#plt.plot(smooth_var[ind_in_batch,dim_lat_plot,:].detach().numpy(), 'gray'); # 0! it's also not on the same scale\n",
    "plt.title('latents')\n",
    "plt.ylabel('torque')\n",
    "plt.xlabel('time')\n",
    "plt.legend();\n",
    "#plt.savefig('first_fig_aesmc.png')"
   ]
  },
  {
   "cell_type": "code",
   "execution_count": 11,
   "metadata": {},
   "outputs": [
    {
     "data": {
      "image/png": "[encoded data removed]",
      "text/plain": [
       "<Figure size 432x288 with 1 Axes>"
      ]
     },
     "metadata": {
      "needs_background": "light"
     },
     "output_type": "display_data"
    }
   ],
   "source": [
    "plt.plot(sim_data[ind_in_batch,0,:].detach().numpy(), label=\"coord 0\");\n",
    "plt.plot(sim_data[ind_in_batch,1,:].detach().numpy(), \n",
    "          label = \"coord 1\");\n",
    "plt.plot(sim_data[ind_in_batch,2,:].detach().numpy(), \n",
    "         label = \"coord 2\");\n",
    "plt.plot(sim_data[ind_in_batch,5,:].detach().numpy(), \n",
    "         label = \"coord 5\");\n",
    "#plt.plot(smooth_var[ind_in_batch,dim_lat_plot,:].detach().numpy(), 'gray'); # 0! it's also not on the same scale\n",
    "plt.title('fake coords')\n",
    "plt.ylabel('fake vals')\n",
    "plt.xlabel('time')\n",
    "plt.legend();"
   ]
  },
  {
   "cell_type": "code",
   "execution_count": null,
   "metadata": {},
   "outputs": [],
   "source": []
  },
  {
   "cell_type": "code",
   "execution_count": 12,
   "metadata": {},
   "outputs": [],
   "source": [
    "num_iterations = 600 # override previous statements. ToDo: define those here\n",
    "# L1_init =  0.7\n",
    "# L2_init = 1.3\n",
    "training_stats = DTC_2D_model.TrainingStats(\n",
    "                inits_dict_true[\"L1\"], inits_dict_true[\"L2\"],  # older func. update when working\n",
    "                num_timesteps,\n",
    "                logging_interval)"
   ]
  },
  {
   "cell_type": "code",
   "execution_count": 13,
   "metadata": {},
   "outputs": [],
   "source": [
    "# define dataloader which we'll later use\n",
    "dataloader = train.get_synthetic_dataloader(\n",
    "            initial,\n",
    "            transition,\n",
    "            emission,\n",
    "            num_timesteps, batch_size)"
   ]
  },
  {
   "cell_type": "code",
   "execution_count": 47,
   "metadata": {},
   "outputs": [
    {
     "name": "stdout",
     "output_type": "stream",
     "text": [
      "Iteration 0: Loss = 5867.6923828125\n",
      "Iteration 10: Loss = 7722.50927734375\n",
      "Iteration 20: Loss = 5883.15234375\n",
      "Iteration 30: Loss = 2633.76513671875\n",
      "Iteration 40: Loss = 5497.9853515625\n",
      "Iteration 50: Loss = 1460.0240478515625\n",
      "Iteration 60: Loss = 2289.110107421875\n",
      "Iteration 70: Loss = 2622.110595703125\n",
      "Iteration 80: Loss = 3478.158203125\n",
      "Iteration 90: Loss = 717.2371215820312\n",
      "Iteration 100: Loss = 7372.7236328125\n",
      "Iteration 110: Loss = 547.9981689453125\n",
      "Iteration 120: Loss = 5820.716796875\n",
      "Iteration 130: Loss = 2212.25634765625\n",
      "Iteration 140: Loss = 3511.276611328125\n",
      "Iteration 150: Loss = 3789.08251953125\n",
      "Iteration 160: Loss = 6674.3720703125\n",
      "Iteration 170: Loss = 11269.134765625\n",
      "Iteration 180: Loss = 2102.82373046875\n",
      "Iteration 190: Loss = 7422.17333984375\n",
      "Iteration 200: Loss = 1476.8824462890625\n",
      "Iteration 210: Loss = 4990.208984375\n",
      "Iteration 220: Loss = 7920.94677734375\n",
      "Iteration 230: Loss = 3813.83203125\n",
      "Iteration 240: Loss = 6864.1943359375\n",
      "Iteration 250: Loss = 5554.736328125\n",
      "Iteration 260: Loss = 3266.275390625\n",
      "Iteration 270: Loss = 6884.58447265625\n",
      "Iteration 280: Loss = 6825.32421875\n",
      "Iteration 290: Loss = 4301.509765625\n",
      "Iteration 300: Loss = 5663.2529296875\n",
      "Iteration 310: Loss = 5948.4599609375\n",
      "Iteration 320: Loss = 2750.429931640625\n",
      "Iteration 330: Loss = 7513.07177734375\n",
      "Iteration 340: Loss = 3696.682373046875\n",
      "Iteration 350: Loss = 2665.53076171875\n",
      "Iteration 360: Loss = 631.09619140625\n",
      "Iteration 370: Loss = 6631.63525390625\n",
      "Iteration 380: Loss = 7098.4248046875\n",
      "Iteration 390: Loss = 7275.12109375\n",
      "Iteration 400: Loss = 5125.04052734375\n",
      "Iteration 410: Loss = 5292.1328125\n",
      "Iteration 420: Loss = 2858.79052734375\n",
      "Iteration 430: Loss = 1916.0615234375\n",
      "Iteration 440: Loss = 8273.5146484375\n",
      "Iteration 450: Loss = 1395.110107421875\n",
      "Iteration 460: Loss = 4621.5859375\n",
      "Iteration 470: Loss = 2896.214599609375\n",
      "Iteration 480: Loss = 7609.77587890625\n",
      "Iteration 490: Loss = 3095.194580078125\n",
      "Iteration 500: Loss = 7104.6552734375\n",
      "Iteration 510: Loss = 4702.8427734375\n",
      "Iteration 520: Loss = 5890.962890625\n",
      "Iteration 530: Loss = 5854.10595703125\n",
      "Iteration 540: Loss = 4536.791015625\n",
      "Iteration 550: Loss = 7621.75537109375\n",
      "Iteration 560: Loss = 3103.276123046875\n",
      "Iteration 570: Loss = 13023.904296875\n",
      "Iteration 580: Loss = 4691.4228515625\n",
      "Iteration 590: Loss = 3624.03955078125\n",
      "Iteration 0: Loss = 8761.0126953125\n",
      "Iteration 10: Loss = 5505.3330078125\n",
      "Iteration 20: Loss = 5265.3447265625\n",
      "Iteration 30: Loss = 3818.917236328125\n",
      "Iteration 40: Loss = 3617.08203125\n",
      "Iteration 50: Loss = 7115.71875\n",
      "Iteration 60: Loss = 13236.2373046875\n"
     ]
    },
    {
     "ename": "KeyboardInterrupt",
     "evalue": "",
     "output_type": "error",
     "traceback": [
      "\u001b[0;31m---------------------------------------------------------------------------\u001b[0m",
      "\u001b[0;31mKeyboardInterrupt\u001b[0m                         Traceback (most recent call last)",
      "\u001b[0;32m<ipython-input-47-c15ff14f3310>\u001b[0m in \u001b[0;36m<module>\u001b[0;34m\u001b[0m\n\u001b[1;32m     10\u001b[0m             \u001b[0mnum_epochs\u001b[0m\u001b[0;34m=\u001b[0m\u001b[0;36m5\u001b[0m\u001b[0;34m,\u001b[0m\u001b[0;34m\u001b[0m\u001b[0;34m\u001b[0m\u001b[0m\n\u001b[1;32m     11\u001b[0m             \u001b[0mnum_iterations_per_epoch\u001b[0m\u001b[0;34m=\u001b[0m\u001b[0mnum_iterations\u001b[0m\u001b[0;34m,\u001b[0m\u001b[0;34m\u001b[0m\u001b[0;34m\u001b[0m\u001b[0m\n\u001b[0;32m---> 12\u001b[0;31m             callback=training_stats)\n\u001b[0m",
      "\u001b[0;32m/anaconda3/envs/pytorch_env/lib/python3.6/site-packages/aesmc/train.py\u001b[0m in \u001b[0;36mtrain\u001b[0;34m(dataloader, num_particles, algorithm, initial, transition, emission, proposal, num_epochs, num_iterations_per_epoch, optimizer_algorithm, optimizer_kwargs, callback)\u001b[0m\n\u001b[1;32m     33\u001b[0m             \u001b[0moptimizer\u001b[0m\u001b[0;34m.\u001b[0m\u001b[0mzero_grad\u001b[0m\u001b[0;34m(\u001b[0m\u001b[0;34m)\u001b[0m\u001b[0;34m\u001b[0m\u001b[0;34m\u001b[0m\u001b[0m\n\u001b[1;32m     34\u001b[0m             loss = losses.get_loss(observations, num_particles, algorithm,\n\u001b[0;32m---> 35\u001b[0;31m                                    initial, transition, emission, proposal)\n\u001b[0m\u001b[1;32m     36\u001b[0m             \u001b[0mloss\u001b[0m\u001b[0;34m.\u001b[0m\u001b[0mbackward\u001b[0m\u001b[0;34m(\u001b[0m\u001b[0;34m)\u001b[0m\u001b[0;34m\u001b[0m\u001b[0;34m\u001b[0m\u001b[0m\n\u001b[1;32m     37\u001b[0m             \u001b[0moptimizer\u001b[0m\u001b[0;34m.\u001b[0m\u001b[0mstep\u001b[0m\u001b[0;34m(\u001b[0m\u001b[0;34m)\u001b[0m\u001b[0;34m\u001b[0m\u001b[0;34m\u001b[0m\u001b[0m\n",
      "\u001b[0;32m/anaconda3/envs/pytorch_env/lib/python3.6/site-packages/aesmc/losses.py\u001b[0m in \u001b[0;36mget_loss\u001b[0;34m(observations, num_particles, algorithm, initial, transition, emission, proposal)\u001b[0m\n\u001b[1;32m     60\u001b[0m                                        \u001b[0mreturn_log_weight\u001b[0m\u001b[0;34m=\u001b[0m\u001b[0;32mFalse\u001b[0m\u001b[0;34m,\u001b[0m\u001b[0;34m\u001b[0m\u001b[0;34m\u001b[0m\u001b[0m\n\u001b[1;32m     61\u001b[0m                                        \u001b[0mreturn_log_weights\u001b[0m\u001b[0;34m=\u001b[0m\u001b[0;32mFalse\u001b[0m\u001b[0;34m,\u001b[0m\u001b[0;34m\u001b[0m\u001b[0;34m\u001b[0m\u001b[0m\n\u001b[0;32m---> 62\u001b[0;31m                                        return_ancestral_indices=False)\n\u001b[0m\u001b[1;32m     63\u001b[0m     \u001b[0melbo\u001b[0m \u001b[0;34m=\u001b[0m \u001b[0minference_result\u001b[0m\u001b[0;34m[\u001b[0m\u001b[0;34m'log_marginal_likelihood'\u001b[0m\u001b[0;34m]\u001b[0m\u001b[0;34m\u001b[0m\u001b[0;34m\u001b[0m\u001b[0m\n\u001b[1;32m     64\u001b[0m     \u001b[0mloss\u001b[0m \u001b[0;34m=\u001b[0m \u001b[0;34m-\u001b[0m\u001b[0mtorch\u001b[0m\u001b[0;34m.\u001b[0m\u001b[0mmean\u001b[0m\u001b[0;34m(\u001b[0m\u001b[0melbo\u001b[0m\u001b[0;34m)\u001b[0m\u001b[0;34m\u001b[0m\u001b[0;34m\u001b[0m\u001b[0m\n",
      "\u001b[0;32m/anaconda3/envs/pytorch_env/lib/python3.6/site-packages/aesmc/inference.py\u001b[0m in \u001b[0;36minfer\u001b[0;34m(inference_algorithm, observations, initial, transition, emission, proposal, num_particles, return_log_marginal_likelihood, return_latents, return_original_latents, return_log_weight, return_log_weights, return_ancestral_indices)\u001b[0m\n\u001b[1;32m    118\u001b[0m             emission(latents=latents_bar, time=time,\n\u001b[1;32m    119\u001b[0m                      previous_observations=observations[:time]),\n\u001b[0;32m--> 120\u001b[0;31m             state.expand_observation(observations[time], num_particles))\n\u001b[0m\u001b[1;32m    121\u001b[0m \u001b[0;34m\u001b[0m\u001b[0m\n\u001b[1;32m    122\u001b[0m         \u001b[0;32mif\u001b[0m \u001b[0mreturn_original_latents\u001b[0m \u001b[0;32mor\u001b[0m \u001b[0mreturn_latents\u001b[0m\u001b[0;34m:\u001b[0m\u001b[0;34m\u001b[0m\u001b[0;34m\u001b[0m\u001b[0m\n",
      "\u001b[0;32m/anaconda3/envs/pytorch_env/lib/python3.6/site-packages/aesmc/state.py\u001b[0m in \u001b[0;36mlog_prob\u001b[0;34m(distribution, value)\u001b[0m\n\u001b[1;32m    141\u001b[0m         ):\n\u001b[1;32m    142\u001b[0m             \u001b[0mdistribution\u001b[0m\u001b[0;34m.\u001b[0m\u001b[0m_validate_sample\u001b[0m\u001b[0;34m(\u001b[0m\u001b[0mvalue\u001b[0m\u001b[0;34m)\u001b[0m\u001b[0;34m\u001b[0m\u001b[0;34m\u001b[0m\u001b[0m\n\u001b[0;32m--> 143\u001b[0;31m             \u001b[0mlogp\u001b[0m \u001b[0;34m=\u001b[0m \u001b[0mdistribution\u001b[0m\u001b[0;34m.\u001b[0m\u001b[0mlog_prob\u001b[0m\u001b[0;34m(\u001b[0m\u001b[0mvalue\u001b[0m\u001b[0;34m)\u001b[0m\u001b[0;34m\u001b[0m\u001b[0;34m\u001b[0m\u001b[0m\n\u001b[0m\u001b[1;32m    144\u001b[0m         \u001b[0;32melif\u001b[0m \u001b[0;34m(\u001b[0m\u001b[0mvalue_batch_shape_ndim\u001b[0m \u001b[0;34m-\u001b[0m \u001b[0;36m1\u001b[0m\u001b[0;34m)\u001b[0m \u001b[0;34m==\u001b[0m \u001b[0mbatch_shape_ndim\u001b[0m\u001b[0;34m:\u001b[0m\u001b[0;34m\u001b[0m\u001b[0;34m\u001b[0m\u001b[0m\n\u001b[1;32m    145\u001b[0m             \u001b[0mlogp\u001b[0m \u001b[0;34m=\u001b[0m \u001b[0mdistribution\u001b[0m\u001b[0;34m.\u001b[0m\u001b[0mlog_prob\u001b[0m\u001b[0;34m(\u001b[0m\u001b[0mvalue\u001b[0m\u001b[0;34m.\u001b[0m\u001b[0mtranspose\u001b[0m\u001b[0;34m(\u001b[0m\u001b[0;36m0\u001b[0m\u001b[0;34m,\u001b[0m \u001b[0;36m1\u001b[0m\u001b[0;34m)\u001b[0m\u001b[0;34m)\u001b[0m\u001b[0;34m.\u001b[0m\u001b[0mtranspose\u001b[0m\u001b[0;34m(\u001b[0m\u001b[0;36m0\u001b[0m\u001b[0;34m,\u001b[0m \u001b[0;36m1\u001b[0m\u001b[0;34m)\u001b[0m\u001b[0;34m\u001b[0m\u001b[0;34m\u001b[0m\u001b[0m\n",
      "\u001b[0;32m/anaconda3/envs/pytorch_env/lib/python3.6/site-packages/torch/distributions/normal.py\u001b[0m in \u001b[0;36mlog_prob\u001b[0;34m(self, value)\u001b[0m\n\u001b[1;32m     74\u001b[0m         \u001b[0mvar\u001b[0m \u001b[0;34m=\u001b[0m \u001b[0;34m(\u001b[0m\u001b[0mself\u001b[0m\u001b[0;34m.\u001b[0m\u001b[0mscale\u001b[0m \u001b[0;34m**\u001b[0m \u001b[0;36m2\u001b[0m\u001b[0;34m)\u001b[0m\u001b[0;34m\u001b[0m\u001b[0;34m\u001b[0m\u001b[0m\n\u001b[1;32m     75\u001b[0m         \u001b[0mlog_scale\u001b[0m \u001b[0;34m=\u001b[0m \u001b[0mmath\u001b[0m\u001b[0;34m.\u001b[0m\u001b[0mlog\u001b[0m\u001b[0;34m(\u001b[0m\u001b[0mself\u001b[0m\u001b[0;34m.\u001b[0m\u001b[0mscale\u001b[0m\u001b[0;34m)\u001b[0m \u001b[0;32mif\u001b[0m \u001b[0misinstance\u001b[0m\u001b[0;34m(\u001b[0m\u001b[0mself\u001b[0m\u001b[0;34m.\u001b[0m\u001b[0mscale\u001b[0m\u001b[0;34m,\u001b[0m \u001b[0mNumber\u001b[0m\u001b[0;34m)\u001b[0m \u001b[0;32melse\u001b[0m \u001b[0mself\u001b[0m\u001b[0;34m.\u001b[0m\u001b[0mscale\u001b[0m\u001b[0;34m.\u001b[0m\u001b[0mlog\u001b[0m\u001b[0;34m(\u001b[0m\u001b[0;34m)\u001b[0m\u001b[0;34m\u001b[0m\u001b[0;34m\u001b[0m\u001b[0m\n\u001b[0;32m---> 76\u001b[0;31m         \u001b[0;32mreturn\u001b[0m \u001b[0;34m-\u001b[0m\u001b[0;34m(\u001b[0m\u001b[0;34m(\u001b[0m\u001b[0mvalue\u001b[0m \u001b[0;34m-\u001b[0m \u001b[0mself\u001b[0m\u001b[0;34m.\u001b[0m\u001b[0mloc\u001b[0m\u001b[0;34m)\u001b[0m \u001b[0;34m**\u001b[0m \u001b[0;36m2\u001b[0m\u001b[0;34m)\u001b[0m \u001b[0;34m/\u001b[0m \u001b[0;34m(\u001b[0m\u001b[0;36m2\u001b[0m \u001b[0;34m*\u001b[0m \u001b[0mvar\u001b[0m\u001b[0;34m)\u001b[0m \u001b[0;34m-\u001b[0m \u001b[0mlog_scale\u001b[0m \u001b[0;34m-\u001b[0m \u001b[0mmath\u001b[0m\u001b[0;34m.\u001b[0m\u001b[0mlog\u001b[0m\u001b[0;34m(\u001b[0m\u001b[0mmath\u001b[0m\u001b[0;34m.\u001b[0m\u001b[0msqrt\u001b[0m\u001b[0;34m(\u001b[0m\u001b[0;36m2\u001b[0m \u001b[0;34m*\u001b[0m \u001b[0mmath\u001b[0m\u001b[0;34m.\u001b[0m\u001b[0mpi\u001b[0m\u001b[0;34m)\u001b[0m\u001b[0;34m)\u001b[0m\u001b[0;34m\u001b[0m\u001b[0;34m\u001b[0m\u001b[0m\n\u001b[0m\u001b[1;32m     77\u001b[0m \u001b[0;34m\u001b[0m\u001b[0m\n\u001b[1;32m     78\u001b[0m     \u001b[0;32mdef\u001b[0m \u001b[0mcdf\u001b[0m\u001b[0;34m(\u001b[0m\u001b[0mself\u001b[0m\u001b[0;34m,\u001b[0m \u001b[0mvalue\u001b[0m\u001b[0;34m)\u001b[0m\u001b[0;34m:\u001b[0m\u001b[0;34m\u001b[0m\u001b[0;34m\u001b[0m\u001b[0m\n",
      "\u001b[0;31mKeyboardInterrupt\u001b[0m: "
     ]
    }
   ],
   "source": [
    "# train model to learn proposal\n",
    "\n",
    "train.train(dataloader=dataloader, # loads ground truth observations\n",
    "            num_particles=num_particles,\n",
    "            algorithm='aesmc',\n",
    "            initial=initial, # the true distribution, assume we're not learning\n",
    "            transition=transition, # same here\n",
    "            emission= emission, # same here\n",
    "            proposal=proposal,# trainable instance\n",
    "            num_epochs=5,\n",
    "            num_iterations_per_epoch=num_iterations,\n",
    "            callback=training_stats)"
   ]
  },
  {
   "cell_type": "code",
   "execution_count": 37,
   "metadata": {},
   "outputs": [
    {
     "name": "stdout",
     "output_type": "stream",
     "text": [
      "Parameter containing:\n",
      "tensor([[ 0.4004,  0.3705,  0.0114, -0.0095, -0.0531, -0.0786, -0.0559, -0.0174,\n",
      "          0.0084, -0.0065, -0.1805,  0.2658,  0.1119,  0.1466],\n",
      "        [ 0.2475,  0.2330, -0.0026,  0.0017,  0.0994,  0.0119, -0.1410,  0.2712,\n",
      "         -0.0158,  0.0048,  0.1963, -0.1006, -0.4382, -0.0707]],\n",
      "       requires_grad=True)\n",
      "Parameter containing:\n",
      "tensor([[ 0.1538, -0.1683, -0.0064, -0.0252,  0.1292,  0.2762],\n",
      "        [-0.1798,  0.1120,  0.1054,  0.2376,  0.0131, -0.2093]],\n",
      "       requires_grad=True)\n"
     ]
    }
   ],
   "source": [
    "print(proposal.lin_t[0].weight)\n",
    "print(proposal.lin_0[0].weight)"
   ]
  },
  {
   "cell_type": "code",
   "execution_count": 50,
   "metadata": {},
   "outputs": [],
   "source": [
    "from aesmc import inference\n",
    "\n",
    "inference_result = inference.infer(\n",
    "            inference_algorithm='smc',\n",
    "            observations=sim_observs, \n",
    "            initial=initial,\n",
    "            transition=transition,\n",
    "            emission=emission,\n",
    "            proposal=proposal,\n",
    "            num_particles=1000\n",
    "        )"
   ]
  },
  {
   "cell_type": "code",
   "execution_count": 51,
   "metadata": {},
   "outputs": [],
   "source": [
    "# ToDo: consider wrapping in a function e.g., summarize_posterior(latents, their weights)\n",
    "smc_smoothed_state_means = []\n",
    "smc_smoothed_state_variances = []\n",
    "for latent in inference_result['latents']:\n",
    "    smc_smoothed_state_means.append(statistics.empirical_mean(\n",
    "        latent, inference_result['log_weight']\n",
    "    ))\n",
    "    smc_smoothed_state_variances.append(statistics.empirical_variance(\n",
    "        latent, inference_result['log_weight']\n",
    "    ))"
   ]
  },
  {
   "cell_type": "code",
   "execution_count": 52,
   "metadata": {},
   "outputs": [],
   "source": [
    "sim_data = torch.cat([obs.unsqueeze(-1) for\n",
    "                           obs in sim_observs], dim=2) # now b, should be obs in observations\n",
    "smooth_mean =  torch.cat([mean.unsqueeze(-1) for\n",
    "                           mean in smc_smoothed_state_means], dim=2)\n",
    "smooth_var = torch.cat([var.unsqueeze(-1) for\n",
    "                           var in smc_smoothed_state_variances], dim=2)"
   ]
  },
  {
   "cell_type": "code",
   "execution_count": 19,
   "metadata": {},
   "outputs": [
    {
     "data": {
      "text/plain": [
       "torch.Size([10, 2, 100])"
      ]
     },
     "execution_count": 19,
     "metadata": {},
     "output_type": "execute_result"
    }
   ],
   "source": [
    "smooth_mean.shape"
   ]
  },
  {
   "cell_type": "code",
   "execution_count": 28,
   "metadata": {},
   "outputs": [
    {
     "data": {
      "text/plain": [
       "0.0071208477"
      ]
     },
     "execution_count": 28,
     "metadata": {},
     "output_type": "execute_result"
    }
   ],
   "source": [
    "ind_in_batch = 4\n",
    "dim_lat_plot = 0\n",
    "np.max(smooth_var[ind_in_batch,dim_lat_plot,:].detach().numpy()) # 0! it's also not on the same scale"
   ]
  },
  {
   "cell_type": "code",
   "execution_count": 18,
   "metadata": {},
   "outputs": [],
   "source": [
    "# ToDo: consider wrapping in a function e.g., summarize_posterior(latents, their weights)\n",
    "smc_smoothed_accel_means = []\n",
    "smc_smoothed_accel_variances = []\n",
    "for accel in emission.acceleration:\n",
    "    smc_smoothed_accel_means.append(statistics.empirical_mean(\n",
    "        accel.view(batch_size, 1000, 2), inference_result['log_weight']\n",
    "    ))\n",
    "    smc_smoothed_accel_variances.append(statistics.empirical_variance(\n",
    "        accel.view(batch_size, 1000, 2), inference_result['log_weight']\n",
    "    ))"
   ]
  },
  {
   "cell_type": "code",
   "execution_count": null,
   "metadata": {},
   "outputs": [],
   "source": []
  },
  {
   "cell_type": "code",
   "execution_count": 19,
   "metadata": {},
   "outputs": [],
   "source": [
    "recovered_accel = torch.cat([acc.unsqueeze(-1) for\n",
    "                           acc in smc_smoothed_accel_means], dim=2) # now b, should be obs in observations"
   ]
  },
  {
   "cell_type": "code",
   "execution_count": 20,
   "metadata": {},
   "outputs": [
    {
     "data": {
      "text/plain": [
       "torch.Size([10, 2, 100])"
      ]
     },
     "execution_count": 20,
     "metadata": {},
     "output_type": "execute_result"
    }
   ],
   "source": [
    "recovered_accel.shape"
   ]
  },
  {
   "cell_type": "code",
   "execution_count": 57,
   "metadata": {},
   "outputs": [
    {
     "data": {
      "image/png": "[encoded data removed]",
      "text/plain": [
       "<Figure size 432x288 with 1 Axes>"
      ]
     },
     "metadata": {
      "needs_background": "light"
     },
     "output_type": "display_data"
    }
   ],
   "source": [
    "ind_in_batch = 9 # could be between 0 and batch_size-1\n",
    "dim_lat_plot = 1\n",
    "plt.plot(lat_data[ind_in_batch,dim_lat_plot,:].detach().numpy(), 'red', label=\"true latent\");\n",
    "plt.plot(smooth_mean[ind_in_batch,dim_lat_plot,:].detach().numpy(), 'black', \n",
    "         linestyle = 'dashed', label = \"latent recovered\");\n",
    "# plt.plot(recovered_accel[ind_in_batch,dim_lat_plot,:].detach().numpy(), 'black', \n",
    "#          linestyle = 'dashed', label = \"accel recovered\");\n",
    "# plt.plot(sim_accel[ind_in_batch,dim_lat_plot,:].detach().numpy(), 'blue', \n",
    "#           label = \"true accel\");\n",
    "#plt.plot(smooth_var[ind_in_batch,dim_lat_plot,:].detach().numpy(), 'gray'); # 0! it's also not on the same scale\n",
    "plt.title('latent ' + str(dim_lat_plot) + \n",
    "        ' batch ' + str(ind_in_batch))\n",
    "plt.ylabel('latent value')\n",
    "plt.xlabel('time')\n",
    "#plt.ylim([-10,10])\n",
    "plt.legend();\n",
    "#plt.savefig('first_fig_aesmc.png')"
   ]
  },
  {
   "cell_type": "code",
   "execution_count": null,
   "metadata": {},
   "outputs": [],
   "source": []
  },
  {
   "cell_type": "code",
   "execution_count": 23,
   "metadata": {},
   "outputs": [
    {
     "name": "stdout",
     "output_type": "stream",
     "text": [
      "100\n",
      "100\n"
     ]
    }
   ],
   "source": [
    "print(len(emission.angles))\n",
    "print(len(inference_result[\"latents\"]))"
   ]
  },
  {
   "cell_type": "code",
   "execution_count": 22,
   "metadata": {},
   "outputs": [
    {
     "data": {
      "image/png": "[encoded data removed]",
      "text/plain": [
       "<Figure size 432x288 with 1 Axes>"
      ]
     },
     "metadata": {
      "needs_background": "light"
     },
     "output_type": "display_data"
    }
   ],
   "source": [
    "plt.plot(recovered_accel[ind_in_batch,dim_lat_plot,:].detach().numpy() - \n",
    "         sim_accel[ind_in_batch,dim_lat_plot,:].detach().numpy(), 'blue', \n",
    "          label = \"true accel\");"
   ]
  },
  {
   "cell_type": "code",
   "execution_count": 23,
   "metadata": {},
   "outputs": [
    {
     "data": {
      "image/png": "[encoded data removed]",
      "text/plain": [
       "<Figure size 432x288 with 1 Axes>"
      ]
     },
     "metadata": {
      "needs_background": "light"
     },
     "output_type": "display_data"
    }
   ],
   "source": [
    "ind_in_batch = 7 # could be between 0 and batch_size-1\n",
    "dim_lat_plot = 0\n",
    "#plt.plot(lat_data[ind_in_batch,dim_lat_plot,:].detach().numpy(), 'black', label=\"true\");\n",
    "plt.plot(smooth_mean[ind_in_batch,dim_lat_plot,:].detach().numpy()-\n",
    "         lat_data[ind_in_batch,dim_lat_plot,:].detach().numpy(), 'red', \n",
    "         linestyle = 'dashed', label = \"AESMC recovered\");\n",
    "#plt.plot(smooth_var[ind_in_batch,dim_lat_plot,:].detach().numpy(), 'gray'); # 0! it's also not on the same scale\n",
    "plt.title('latent ' + str(dim_lat_plot) + \n",
    "        ' batch ' + str(ind_in_batch))\n",
    "plt.ylabel('latent value')\n",
    "plt.xlabel('time')\n",
    "plt.ylim([-5,5])\n",
    "plt.legend();\n",
    "#plt.savefig('first_fig_aesmc.png')"
   ]
  },
  {
   "cell_type": "code",
   "execution_count": 59,
   "metadata": {},
   "outputs": [
    {
     "data": {
      "image/png": "[encoded data removed]",
      "text/plain": [
       "<Figure size 432x288 with 1 Axes>"
      ]
     },
     "metadata": {
      "needs_background": "light"
     },
     "output_type": "display_data"
    }
   ],
   "source": [
    "plt.hist(inference_result[\"log_weight\"][ind_in_batch,:].detach().numpy(), bins=100);\n",
    "plt.title(\"final log weights in batch \"  + str(ind_in_batch));"
   ]
  },
  {
   "cell_type": "code",
   "execution_count": 43,
   "metadata": {},
   "outputs": [
    {
     "data": {
      "text/plain": [
       "tensor([[[0.],\n",
       "         [0.]],\n",
       "\n",
       "        [[0.],\n",
       "         [0.]],\n",
       "\n",
       "        [[0.],\n",
       "         [0.]],\n",
       "\n",
       "        [[0.],\n",
       "         [0.]],\n",
       "\n",
       "        [[0.],\n",
       "         [0.]],\n",
       "\n",
       "        [[0.],\n",
       "         [0.]],\n",
       "\n",
       "        [[0.],\n",
       "         [0.]],\n",
       "\n",
       "        [[0.],\n",
       "         [0.]],\n",
       "\n",
       "        [[0.],\n",
       "         [0.]],\n",
       "\n",
       "        [[0.],\n",
       "         [0.]]])"
      ]
     },
     "execution_count": 43,
     "metadata": {},
     "output_type": "execute_result"
    }
   ],
   "source": [
    "torch.zeros(10*1,2,1)"
   ]
  },
  {
   "cell_type": "code",
   "execution_count": 46,
   "metadata": {},
   "outputs": [
    {
     "data": {
      "text/plain": [
       "torch.Size([10000, 2, 2])"
      ]
     },
     "execution_count": 46,
     "metadata": {},
     "output_type": "execute_result"
    }
   ],
   "source": [
    "emission.D(torch.zeros(10*1000)).shape"
   ]
  },
  {
   "cell_type": "code",
   "execution_count": null,
   "metadata": {},
   "outputs": [],
   "source": [
    "plt.plot(sim_data[ind_in_batch,0,:].detach().numpy(), label=\"coord 0\");\n",
    "plt.plot(sim_data[ind_in_batch,1,:].detach().numpy(), \n",
    "          label = \"coord 1\");\n",
    "plt.plot(sim_data[ind_in_batch,2,:].detach().numpy(), \n",
    "         label = \"coord 2\");\n",
    "plt.plot(sim_data[ind_in_batch,5,:].detach().numpy(), \n",
    "         label = \"coord 5\");\n",
    "#plt.plot(smooth_var[ind_in_batch,dim_lat_plot,:].detach().numpy(), 'gray'); # 0! it's also not on the same scale\n",
    "plt.title('fake coords')\n",
    "plt.ylabel('fake vals')\n",
    "plt.xlabel('time')\n",
    "plt.legend();"
   ]
  },
  {
   "cell_type": "code",
   "execution_count": 37,
   "metadata": {},
   "outputs": [
    {
     "name": "stdout",
     "output_type": "stream",
     "text": [
      "10\n",
      "1000\n",
      "2\n"
     ]
    }
   ],
   "source": [
    "print(emission.batch_size)\n",
    "print(emission.num_particles)\n",
    "print(emission.dim_latents)"
   ]
  },
  {
   "cell_type": "code",
   "execution_count": 34,
   "metadata": {},
   "outputs": [
    {
     "data": {
      "text/plain": [
       "torch.Size([10000, 2])"
      ]
     },
     "execution_count": 34,
     "metadata": {},
     "output_type": "execute_result"
    }
   ],
   "source": [
    "last_accel_raw = emission.acceleration[-1]\n",
    "last_accel_raw.shape"
   ]
  },
  {
   "cell_type": "code",
   "execution_count": 35,
   "metadata": {},
   "outputs": [
    {
     "data": {
      "text/plain": [
       "True"
      ]
     },
     "execution_count": 35,
     "metadata": {},
     "output_type": "execute_result"
    }
   ],
   "source": [
    "logi = last_accel_raw.contiguous().view(batch_size * 1000, 2, 1)[:,:,0] == last_accel_raw\n",
    "logi.detach().numpy().all()"
   ]
  },
  {
   "cell_type": "code",
   "execution_count": 36,
   "metadata": {},
   "outputs": [],
   "source": [
    "last_accel_raw_reshaped = last_accel_raw.contiguous().view(batch_size, 1000, 2)"
   ]
  },
  {
   "cell_type": "code",
   "execution_count": 41,
   "metadata": {},
   "outputs": [],
   "source": [
    "batch_size_test = 10\n",
    "num_particles_test = 100\n",
    "dim_latents_test = 2\n",
    "\n",
    "test_tens = torch.zeros(batch_size_test*num_particles_test, dim_latents_test, 1)\n",
    "test_tens[321, 0, 0] = 1"
   ]
  },
  {
   "cell_type": "code",
   "execution_count": null,
   "metadata": {},
   "outputs": [],
   "source": []
  },
  {
   "cell_type": "code",
   "execution_count": 42,
   "metadata": {},
   "outputs": [],
   "source": [
    "# what i'm doing here worked for the acceleration.\n",
    "# view (batch_size* num_particles, dim_latents,1)\n",
    "# then squeeze(), view (batch_size* num_particles, dim_latents)\n",
    "tt1 = test_tens.squeeze()\n",
    "# then view (batch_size, num_particles, dim_latents)\n",
    "tt2 = tt1.view(batch_size_test, num_particles_test, dim_latents_test)"
   ]
  },
  {
   "cell_type": "code",
   "execution_count": 45,
   "metadata": {},
   "outputs": [
    {
     "name": "stdout",
     "output_type": "stream",
     "text": [
      "(array([321]), array([0]), array([0]))\n",
      "(array([321]), array([0]))\n",
      "(array([3]), array([21]), array([0]))\n"
     ]
    }
   ],
   "source": [
    "print(np.where(test_tens==1))\n",
    "print(np.where(tt1==1))\n",
    "print(np.where(tt2==1))"
   ]
  },
  {
   "cell_type": "code",
   "execution_count": 38,
   "metadata": {},
   "outputs": [
    {
     "data": {
      "text/plain": [
       "True"
      ]
     },
     "execution_count": 38,
     "metadata": {},
     "output_type": "execute_result"
    }
   ],
   "source": [
    "logi = last_accel_raw.contiguous().view(batch_size * 1000, 2, 1).squeeze() == last_accel_raw\n",
    "logi.detach().numpy().all()"
   ]
  },
  {
   "cell_type": "code",
   "execution_count": 23,
   "metadata": {},
   "outputs": [],
   "source": [
    "# ToDo: consider wrapping in a function e.g., summarize_posterior(latents, their weights)\n",
    "smc_smoothed_angle_means = []\n",
    "smc_smoothed_angle_variances = []\n",
    "for angle in emission.angles:\n",
    "    smc_smoothed_angle_means.append(statistics.empirical_mean(\n",
    "        angle.view(batch_size, 1000, 2), inference_result['log_weight']\n",
    "    ))\n",
    "    smc_smoothed_angle_variances.append(statistics.empirical_variance(\n",
    "        angle.view(batch_size, 1000, 2), inference_result['log_weight']\n",
    "    ))"
   ]
  },
  {
   "cell_type": "code",
   "execution_count": 24,
   "metadata": {},
   "outputs": [
    {
     "ename": "RuntimeError",
     "evalue": "expected a non-empty list of Tensors",
     "output_type": "error",
     "traceback": [
      "\u001b[0;31m---------------------------------------------------------------------------\u001b[0m",
      "\u001b[0;31mRuntimeError\u001b[0m                              Traceback (most recent call last)",
      "\u001b[0;32m<ipython-input-24-72379da7a87d>\u001b[0m in \u001b[0;36m<module>\u001b[0;34m\u001b[0m\n\u001b[1;32m      1\u001b[0m smooth_mean_angle =  torch.cat([mean.unsqueeze(-1) for\n\u001b[0;32m----> 2\u001b[0;31m                            mean in smc_smoothed_angle_means], dim=2)\n\u001b[0m\u001b[1;32m      3\u001b[0m smooth_var_angle = torch.cat([var.unsqueeze(-1) for\n\u001b[1;32m      4\u001b[0m                            var in smc_smoothed_angle_variances], dim=2)\n",
      "\u001b[0;31mRuntimeError\u001b[0m: expected a non-empty list of Tensors"
     ]
    }
   ],
   "source": [
    "smooth_mean_angle =  torch.cat([mean.unsqueeze(-1) for\n",
    "                           mean in smc_smoothed_angle_means], dim=2)\n",
    "smooth_var_angle = torch.cat([var.unsqueeze(-1) for\n",
    "                           var in smc_smoothed_angle_variances], dim=2)"
   ]
  },
  {
   "cell_type": "code",
   "execution_count": 54,
   "metadata": {},
   "outputs": [],
   "source": [
    "ind_in_batch = 8 # could be between 0 and batch_size-1\n",
    "x_hat , y_hat = arm_utils.coords_from_params_mat(smooth_mean_angle[ind_in_batch,0,:].detach().numpy(), \n",
    "                                       smooth_mean_angle[ind_in_batch,1,:].detach().numpy(), \n",
    "                                                 inits_dict_true[\"L1\"], inits_dict_true[\"L2\"])"
   ]
  },
  {
   "cell_type": "code",
   "execution_count": 55,
   "metadata": {},
   "outputs": [],
   "source": [
    "x_obs = sim_data[ind_in_batch, [0,2,4], :].detach().numpy().T\n",
    "y_obs = sim_data[ind_in_batch, [1,3,5], :].detach().numpy().T"
   ]
  },
  {
   "cell_type": "code",
   "execution_count": 56,
   "metadata": {},
   "outputs": [
    {
     "data": {
      "image/png": "[encoded data removed]",
      "text/plain": [
       "<Figure size 432x288 with 1 Axes>"
      ]
     },
     "metadata": {
      "needs_background": "light"
     },
     "output_type": "display_data"
    }
   ],
   "source": [
    "arm_utils.video_sim_plane_2D(x_obs, y_obs, \n",
    "                             x_hat, y_hat, \n",
    "                             'DTC-2D_plots/dtc-2d-recovered', \n",
    "                   \"AESMC- recovering simulated data\", \n",
    "                             x_hat.shape[0], inits_dict_true[\"L1\"] + \n",
    "                             inits_dict_true[\"L2\"] + 1)"
   ]
  },
  {
   "cell_type": "code",
   "execution_count": 84,
   "metadata": {},
   "outputs": [
    {
     "ename": "RuntimeError",
     "evalue": "shape '[10, 100, 2]' is invalid for input of size 20",
     "output_type": "error",
     "traceback": [
      "\u001b[0;31m---------------------------------------------------------------------------\u001b[0m",
      "\u001b[0;31mRuntimeError\u001b[0m                              Traceback (most recent call last)",
      "\u001b[0;32m<ipython-input-84-e5314fec15f3>\u001b[0m in \u001b[0;36m<module>\u001b[0;34m\u001b[0m\n\u001b[0;32m----> 1\u001b[0;31m \u001b[0memission\u001b[0m\u001b[0;34m(\u001b[0m\u001b[0mlatents\u001b[0m\u001b[0;34m=\u001b[0m\u001b[0ma\u001b[0m\u001b[0;34m,\u001b[0m \u001b[0mtime\u001b[0m\u001b[0;34m=\u001b[0m\u001b[0;36m0\u001b[0m\u001b[0;34m)\u001b[0m\u001b[0;34m\u001b[0m\u001b[0;34m\u001b[0m\u001b[0m\n\u001b[0m",
      "\u001b[0;32m/anaconda3/envs/pytorch_env/lib/python3.6/site-packages/torch/nn/modules/module.py\u001b[0m in \u001b[0;36m__call__\u001b[0;34m(self, *input, **kwargs)\u001b[0m\n\u001b[1;32m    487\u001b[0m             \u001b[0mresult\u001b[0m \u001b[0;34m=\u001b[0m \u001b[0mself\u001b[0m\u001b[0;34m.\u001b[0m\u001b[0m_slow_forward\u001b[0m\u001b[0;34m(\u001b[0m\u001b[0;34m*\u001b[0m\u001b[0minput\u001b[0m\u001b[0;34m,\u001b[0m \u001b[0;34m**\u001b[0m\u001b[0mkwargs\u001b[0m\u001b[0;34m)\u001b[0m\u001b[0;34m\u001b[0m\u001b[0;34m\u001b[0m\u001b[0m\n\u001b[1;32m    488\u001b[0m         \u001b[0;32melse\u001b[0m\u001b[0;34m:\u001b[0m\u001b[0;34m\u001b[0m\u001b[0;34m\u001b[0m\u001b[0m\n\u001b[0;32m--> 489\u001b[0;31m             \u001b[0mresult\u001b[0m \u001b[0;34m=\u001b[0m \u001b[0mself\u001b[0m\u001b[0;34m.\u001b[0m\u001b[0mforward\u001b[0m\u001b[0;34m(\u001b[0m\u001b[0;34m*\u001b[0m\u001b[0minput\u001b[0m\u001b[0;34m,\u001b[0m \u001b[0;34m**\u001b[0m\u001b[0mkwargs\u001b[0m\u001b[0;34m)\u001b[0m\u001b[0;34m\u001b[0m\u001b[0;34m\u001b[0m\u001b[0m\n\u001b[0m\u001b[1;32m    490\u001b[0m         \u001b[0;32mfor\u001b[0m \u001b[0mhook\u001b[0m \u001b[0;32min\u001b[0m \u001b[0mself\u001b[0m\u001b[0;34m.\u001b[0m\u001b[0m_forward_hooks\u001b[0m\u001b[0;34m.\u001b[0m\u001b[0mvalues\u001b[0m\u001b[0;34m(\u001b[0m\u001b[0;34m)\u001b[0m\u001b[0;34m:\u001b[0m\u001b[0;34m\u001b[0m\u001b[0;34m\u001b[0m\u001b[0m\n\u001b[1;32m    491\u001b[0m             \u001b[0mhook_result\u001b[0m \u001b[0;34m=\u001b[0m \u001b[0mhook\u001b[0m\u001b[0;34m(\u001b[0m\u001b[0mself\u001b[0m\u001b[0;34m,\u001b[0m \u001b[0minput\u001b[0m\u001b[0;34m,\u001b[0m \u001b[0mresult\u001b[0m\u001b[0;34m)\u001b[0m\u001b[0;34m\u001b[0m\u001b[0;34m\u001b[0m\u001b[0m\n",
      "\u001b[0;32m~/Dropbox/Columbia/1.Dan/John/aesmc/test/arm_models/DTC_2D_model.py\u001b[0m in \u001b[0;36mforward\u001b[0;34m(self, latents, time, previous_observations)\u001b[0m\n\u001b[1;32m    276\u001b[0m         \u001b[0;31m# for every timestep we conclude with forward kinematics given current angles\u001b[0m\u001b[0;34m\u001b[0m\u001b[0;34m\u001b[0m\u001b[0;34m\u001b[0m\u001b[0m\n\u001b[1;32m    277\u001b[0m         mean_tensor = self.FW_kin_2D(self.angles[-1].view(\n\u001b[0;32m--> 278\u001b[0;31m                  self.batch_size, self.num_particles, self.dim_latents))\n\u001b[0m\u001b[1;32m    279\u001b[0m \u001b[0;34m\u001b[0m\u001b[0m\n\u001b[1;32m    280\u001b[0m         return aesmc.state.set_batch_shape_mode(\n",
      "\u001b[0;31mRuntimeError\u001b[0m: shape '[10, 100, 2]' is invalid for input of size 20"
     ]
    }
   ],
   "source": [
    "emission(latents=a, time=0)"
   ]
  },
  {
   "cell_type": "code",
   "execution_count": 86,
   "metadata": {},
   "outputs": [
    {
     "data": {
      "text/plain": [
       "torch.Size([10, 2])"
      ]
     },
     "execution_count": 86,
     "metadata": {},
     "output_type": "execute_result"
    }
   ],
   "source": [
    "emission.angles[-1].shape"
   ]
  },
  {
   "cell_type": "code",
   "execution_count": null,
   "metadata": {},
   "outputs": [],
   "source": []
  }
 ],
 "metadata": {
  "kernelspec": {
   "display_name": "Python [conda env:pytorch_env]",
   "language": "python",
   "name": "conda-env-pytorch_env-py"
  },
  "language_info": {
   "codemirror_mode": {
    "name": "ipython",
    "version": 3
   },
   "file_extension": ".py",
   "mimetype": "text/x-python",
   "name": "python",
   "nbconvert_exporter": "python",
   "pygments_lexer": "ipython3",
   "version": "3.6.7"
  }
 },
 "nbformat": 4,
 "nbformat_minor": 2
}
