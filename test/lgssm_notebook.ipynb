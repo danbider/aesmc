{
 "cells": [
  {
   "cell_type": "markdown",
   "metadata": {},
   "source": [
    "## lgssm\n",
    "In this script, we run the lgssm model from the aesmc package and print intermediate\n",
    "quantities in the goal of understanding it better."
   ]
  },
  {
   "cell_type": "code",
   "execution_count": 1,
   "metadata": {},
   "outputs": [],
   "source": [
    "# running from aesmc/test\n",
    "import aesmc.train as train\n",
    "import aesmc.losses as losses\n",
    "import matplotlib.pyplot as plt\n",
    "import numpy as np\n",
    "import torch\n",
    "import torch.nn as nn\n",
    "import unittest\n",
    "from models import lgssm\n",
    "import pprint as pprint\n",
    "import aesmc.inference as inference\n",
    "import aesmc.statistics as stats"
   ]
  },
  {
   "cell_type": "code",
   "execution_count": 2,
   "metadata": {},
   "outputs": [],
   "source": [
    "# define parameters for ground truth and model\n",
    "initial_loc = 0\n",
    "initial_scale = 1\n",
    "true_transition_mult = 0.9\n",
    "init_transition_mult = 0\n",
    "transition_scale = 1\n",
    "true_emission_mult = 1\n",
    "init_emission_mult = 0\n",
    "emission_scale = 0.01"
   ]
  },
  {
   "cell_type": "code",
   "execution_count": 3,
   "metadata": {},
   "outputs": [],
   "source": [
    "# define parameters for training and testing the model\n",
    "num_timesteps = 200\n",
    "num_test_obs = 10\n",
    "test_inference_num_particles = 1000\n",
    "saving_interval = 10\n",
    "logging_interval = 10\n",
    "batch_size = 10\n",
    "num_iterations = 500\n",
    "num_particles = 200 # could go up for SMC\n",
    "algorithms = ['iwae', 'aesmc']"
   ]
  },
  {
   "cell_type": "code",
   "execution_count": 4,
   "metadata": {},
   "outputs": [],
   "source": [
    "# optimal proposal according to\n",
    "# http://tuananhle.co.uk/notes/optimal-proposal-lgssm.html\n",
    "optimal_proposal_scale_0 = np.sqrt(\n",
    "    initial_scale**2 - initial_scale**2 * true_emission_mult /\n",
    "    (emission_scale**2 + initial_scale**2 * true_emission_mult**2) *\n",
    "    true_emission_mult * initial_scale**2)\n",
    "optimal_proposal_scale_t = np.sqrt(\n",
    "    transition_scale**2 - transition_scale**2 * true_emission_mult /\n",
    "    (emission_scale**2 + transition_scale**2 * true_emission_mult**2)\n",
    "    * true_emission_mult * transition_scale**2)"
   ]
  },
  {
   "cell_type": "markdown",
   "metadata": {},
   "source": [
    "As in the gaussian script, we are defining a dataloader object for PyTorch (in test_gaussian_explained.py we shed light on the data loading process). We are generating a synthetic dataset that is sampled from initial-> transition-> emission. These classes are defined in aesmc/test/models/lgssmwhose. Their `__init__` method is defined by our fixed parameters above, and their `__call__` function spits out a ```torch.distributions.Normal()``` objects according to the initial and current parameters. \n",
    "\n",
    "The forward model is:\n",
    "\n",
    "$$\n",
    "\\mu_{0}(\\vec{z}_0) = \\mathcal{N}(\\mu_{z_0}, \\sigma_{z_0}) \\quad \\text{[init.]}\n",
    "$$\n",
    "\n",
    "$$\n",
    "f(\\vec{z}_t|\\vec{z}_{t-1}) = \\mathcal{N}(\\beta{}\\vec{z}_{t-1}, \\sigma_z) \\quad \\text{[trans.]}\n",
    "$$\n",
    "\n",
    "$$\n",
    "g(\\vec{x}_t|\\vec{z}_t) = \\mathcal{N}(\\alpha{}\\vec{z}_{t}, \\sigma_x) \\quad \\text{[emiss.]}\n",
    "$$\n",
    "\n",
    "the proposal distribution is introduced later for inference."
   ]
  },
  {
   "cell_type": "code",
   "execution_count": 5,
   "metadata": {},
   "outputs": [],
   "source": [
    "# that's the short and efficient path to simulate FW model\n",
    "dataloader = train.get_synthetic_dataloader(\n",
    "    lgssm.Initial(initial_loc, initial_scale),\n",
    "    lgssm.Transition(true_transition_mult, transition_scale),\n",
    "    lgssm.Emission(true_emission_mult, emission_scale),\n",
    "    num_timesteps, batch_size)"
   ]
  },
  {
   "cell_type": "code",
   "execution_count": 6,
   "metadata": {},
   "outputs": [
    {
     "name": "stdout",
     "output_type": "stream",
     "text": [
      "{'dataset': <aesmc.train.SyntheticDataset object at 0xb29a230f0>, 'batch_size': 1, 'num_workers': 0, 'collate_fn': <function get_synthetic_dataloader.<locals>.<lambda> at 0xb29a1f730>, 'pin_memory': False, 'drop_last': False, 'timeout': 0, 'worker_init_fn': None, 'sampler': <torch.utils.data.sampler.SequentialSampler object at 0xb29a23160>, 'batch_sampler': <torch.utils.data.sampler.BatchSampler object at 0xb29a23198>, '_DataLoader__initialized': True}\n"
     ]
    }
   ],
   "source": [
    "print(vars(dataloader))"
   ]
  },
  {
   "cell_type": "markdown",
   "metadata": {},
   "source": [
    "### understanding the data loader and FW model\n",
    "Let's take the longer path. First define objects for simulating forward model with fixed params."
   ]
  },
  {
   "cell_type": "code",
   "execution_count": 7,
   "metadata": {},
   "outputs": [],
   "source": [
    "# objects for simulating synthetic data\n",
    "true_init = lgssm.Initial(initial_loc, initial_scale)\n",
    "true_transition = lgssm.Transition(true_transition_mult, transition_scale)\n",
    "true_emission = lgssm.Emission(true_emission_mult, emission_scale)"
   ]
  },
  {
   "cell_type": "code",
   "execution_count": 8,
   "metadata": {},
   "outputs": [
    {
     "name": "stdout",
     "output_type": "stream",
     "text": [
      "true_emission:\n",
      "{'_backend': <torch.nn.backends.thnn.THNNFunctionBackend object at 0xb2879ae80>, '_parameters': OrderedDict([('mult', Parameter containing:\n",
      "tensor(1., requires_grad=True))]), '_buffers': OrderedDict(), '_backward_hooks': OrderedDict(), '_forward_hooks': OrderedDict(), '_forward_pre_hooks': OrderedDict(), '_state_dict_hooks': OrderedDict(), '_load_state_dict_pre_hooks': OrderedDict(), '_modules': OrderedDict(), 'training': True, 'scale': 0.01}\n",
      "true_transition:\n",
      "{'_backend': <torch.nn.backends.thnn.THNNFunctionBackend object at 0xb2879ae80>, '_parameters': OrderedDict([('mult', Parameter containing:\n",
      "tensor(0.9000, requires_grad=True))]), '_buffers': OrderedDict(), '_backward_hooks': OrderedDict(), '_forward_hooks': OrderedDict(), '_forward_pre_hooks': OrderedDict(), '_state_dict_hooks': OrderedDict(), '_load_state_dict_pre_hooks': OrderedDict(), '_modules': OrderedDict(), 'training': True, 'scale': 1}\n"
     ]
    }
   ],
   "source": [
    "# print out these objects\n",
    "print('true_emission:')\n",
    "print(vars(true_emission))\n",
    "print('true_transition:')\n",
    "print(vars(true_transition))\n",
    "#print(true_emission._parameters)"
   ]
  },
  {
   "cell_type": "markdown",
   "metadata": {},
   "source": [
    "Now redefine data loader using the distributions we defined above.\n",
    "\n",
    "Hiding in there are:\n",
    "1. `train.SyntheticDataset`, and \n",
    "2. `statistics.sample_from_prior`"
   ]
  },
  {
   "cell_type": "code",
   "execution_count": 11,
   "metadata": {},
   "outputs": [],
   "source": [
    "dataloader = train.get_synthetic_dataloader(\n",
    "    true_init,\n",
    "    true_transition,\n",
    "    true_emission,\n",
    "    num_timesteps, batch_size)"
   ]
  },
  {
   "cell_type": "markdown",
   "metadata": {},
   "source": [
    "For a second let's look at the output of  `statistics.sample_from_prior`"
   ]
  },
  {
   "cell_type": "code",
   "execution_count": 12,
   "metadata": {},
   "outputs": [],
   "source": [
    "sim_lat, sim_obs = stats.sample_from_prior(true_init,\n",
    "    true_transition,\n",
    "    true_emission,\n",
    "    num_timesteps, batch_size)"
   ]
  },
  {
   "cell_type": "code",
   "execution_count": 13,
   "metadata": {
    "scrolled": true
   },
   "outputs": [
    {
     "name": "stdout",
     "output_type": "stream",
     "text": [
      "torch.Size([10])\n",
      "torch.Size([10])\n"
     ]
    }
   ],
   "source": [
    "print(sim_lat[-1].shape)\n",
    "print(sim_obs[-1].shape)"
   ]
  },
  {
   "cell_type": "markdown",
   "metadata": {},
   "source": [
    "Inspect how the data are read inside train.train.\n",
    "note that unless we have the if statement, this loop\n",
    "will go on forever. Also , if desired, print indices and tensors. \n",
    "Each tensor has `batch_size` elements in it. We keep the last value of `epoch_iteration_idx` and `observations`."
   ]
  },
  {
   "cell_type": "code",
   "execution_count": 14,
   "metadata": {},
   "outputs": [],
   "source": [
    "num_iter_check=5\n",
    "for epoch_iteration_idx, observations in enumerate(dataloader):\n",
    "    if epoch_iteration_idx == num_iter_check:\n",
    "                    break\n",
    "    # print(epoch_iteration_idx)\n",
    "    # print(observations)"
   ]
  },
  {
   "cell_type": "code",
   "execution_count": 15,
   "metadata": {},
   "outputs": [
    {
     "name": "stdout",
     "output_type": "stream",
     "text": [
      "200\n",
      "Let's look at the tensor for the observation at time T:\n",
      "<class 'torch.Tensor'>\n",
      "torch.Size([10])\n"
     ]
    }
   ],
   "source": [
    "print(len(observations)) # observations is a list of len num_timesteps\n",
    "print(\"Let's look at the tensor for the observation at time T:\")\n",
    "print(type(observations[-1]))\n",
    "print(observations[-1].size()) # each observations[t] is a tensor of size batch_size"
   ]
  },
  {
   "cell_type": "code",
   "execution_count": 16,
   "metadata": {},
   "outputs": [
    {
     "name": "stdout",
     "output_type": "stream",
     "text": [
      "torch.Size([10, 200])\n",
      "=[batch_size, num_timesteps]\n"
     ]
    }
   ],
   "source": [
    "sim_data = torch.cat([obs.unsqueeze(-1) for\n",
    "                           obs in observations], dim=1)\n",
    "print(sim_data.shape)\n",
    "print('=[batch_size, num_timesteps]')"
   ]
  },
  {
   "cell_type": "code",
   "execution_count": 17,
   "metadata": {},
   "outputs": [
    {
     "name": "stdout",
     "output_type": "stream",
     "text": [
      "tensor size before:\n",
      "torch.Size([10])\n",
      "tensor size after unsqueeze(-1):\n",
      "torch.Size([10, 1])\n",
      "after we torch.cat(..., dim=1) the same tensor in this case:\n",
      "tensor([[ 2.2525,  2.2525],\n",
      "        [-3.5686, -3.5686],\n",
      "        [ 1.6363,  1.6363],\n",
      "        [-0.7954, -0.7954],\n",
      "        [ 5.1200,  5.1200],\n",
      "        [-1.4307, -1.4307],\n",
      "        [-0.1373, -0.1373],\n",
      "        [ 2.1707,  2.1707],\n",
      "        [-1.4412, -1.4412],\n",
      "        [-0.8871, -0.8871]])\n"
     ]
    }
   ],
   "source": [
    "# that's what we do what we unsqueeze(-1) a tensor\n",
    "print('tensor size before:')\n",
    "print(observations[-1].size())\n",
    "print('tensor size after unsqueeze(-1):')\n",
    "print(observations[-1].unsqueeze(-1).size())\n",
    "print('after we torch.cat(..., dim=1) the same tensor in this case:')\n",
    "print(torch.cat([observations[-1].unsqueeze(-1), \n",
    "                 observations[-1].unsqueeze(-1)], dim=1))\n",
    "#print('after we torch.cat(..., dim=0) the same tensor in this case:')\n",
    "#print(torch.cat([observations[-1].unsqueeze(-1), \n",
    "#                 observations[-1].unsqueeze(-1)], dim=0))"
   ]
  },
  {
   "cell_type": "code",
   "execution_count": 18,
   "metadata": {},
   "outputs": [
    {
     "data": {
      "image/png": "[encoded data removed]",
      "text/plain": [
       "<Figure size 432x288 with 1 Axes>"
      ]
     },
     "metadata": {
      "needs_background": "light"
     },
     "output_type": "display_data"
    }
   ],
   "source": [
    "plt.plot(sim_data.detach().numpy()[0,:]);\n",
    "plt.title('Batch 0: simulated time series', fontsize=14);"
   ]
  },
  {
   "cell_type": "code",
   "execution_count": 19,
   "metadata": {},
   "outputs": [
    {
     "data": {
      "image/png": "[encoded data removed]",
      "text/plain": [
       "<Figure size 432x288 with 1 Axes>"
      ]
     },
     "metadata": {
      "needs_background": "light"
     },
     "output_type": "display_data"
    }
   ],
   "source": [
    "colors = plt.cm.plasma(np.linspace(0,1,sim_data.shape[0]))\n",
    "for i in range(sim_data.shape[0]):\n",
    "    plt.plot(sim_data.detach().numpy()[i,:], color = colors[i])\n",
    "plt.title('All batches: simulated time series', fontsize=14);"
   ]
  },
  {
   "cell_type": "markdown",
   "metadata": {},
   "source": [
    "`stats.sample_from_prior` is the internal function that does the forward sampling from our `Initial`, `Transition` and `Emission` objects. It outputs sampled latents and observations. The `dataloader` object however only uses the observations."
   ]
  },
  {
   "cell_type": "markdown",
   "metadata": {},
   "source": [
    "### Train using IWAE\n",
    "Now train our model using the IWAE algorithm.\n",
    "\n",
    "First, we define `training_stats`, a class that logs important data throughout training."
   ]
  },
  {
   "cell_type": "code",
   "execution_count": 20,
   "metadata": {},
   "outputs": [],
   "source": [
    "# define training_stats\n",
    "training_stats = lgssm.TrainingStats(\n",
    "        initial_loc, initial_scale, true_transition_mult,\n",
    "        transition_scale, true_emission_mult, emission_scale,\n",
    "        num_timesteps, num_test_obs, test_inference_num_particles,\n",
    "        saving_interval, logging_interval)"
   ]
  },
  {
   "cell_type": "markdown",
   "metadata": {},
   "source": [
    "notice that this function defines again `self.initial`, `self.true_transition`,   `self.true_emission` which are used in a new `dataloader` over which we iterate to get `test_obs`, test data. "
   ]
  },
  {
   "cell_type": "code",
   "execution_count": 21,
   "metadata": {},
   "outputs": [],
   "source": [
    "# print(vars(training_stats))"
   ]
  },
  {
   "cell_type": "code",
   "execution_count": 22,
   "metadata": {},
   "outputs": [
    {
     "name": "stdout",
     "output_type": "stream",
     "text": [
      "200\n",
      "torch.Size([10])\n"
     ]
    }
   ],
   "source": [
    "print(len(training_stats.test_obs))\n",
    "print(training_stats.test_obs[-1].shape) # torch size num_test_obs"
   ]
  },
  {
   "cell_type": "markdown",
   "metadata": {},
   "source": [
    "Now we send the model to train. in this function, we define the trainable classes for `initial`, `transition`, `emission` and `proposal` (the latter is first introduced here)."
   ]
  },
  {
   "cell_type": "code",
   "execution_count": 113,
   "metadata": {},
   "outputs": [
    {
     "name": "stdout",
     "output_type": "stream",
     "text": [
      "Iteration 0: Loss = 5781325.5\n",
      "Iteration 10: Loss = 5554836.0\n",
      "Iteration 20: Loss = 5419377.5\n",
      "Iteration 30: Loss = 5219234.5\n",
      "Iteration 40: Loss = 3476086.0\n",
      "Iteration 50: Loss = 6179873.0\n",
      "Iteration 60: Loss = 4684240.0\n",
      "Iteration 70: Loss = 4889363.5\n",
      "Iteration 80: Loss = 4533052.0\n",
      "Iteration 90: Loss = 5562197.0\n",
      "Iteration 100: Loss = 4778797.5\n",
      "Iteration 110: Loss = 4485346.5\n",
      "Iteration 120: Loss = 4410183.0\n",
      "Iteration 130: Loss = 4178349.5\n",
      "Iteration 140: Loss = 4471520.0\n",
      "Iteration 150: Loss = 4319789.0\n",
      "Iteration 160: Loss = 3272881.0\n",
      "Iteration 170: Loss = 3916316.75\n",
      "Iteration 180: Loss = 3788285.25\n",
      "Iteration 190: Loss = 3260384.0\n",
      "Iteration 200: Loss = 3343532.5\n",
      "Iteration 210: Loss = 2648745.5\n",
      "Iteration 220: Loss = 2945928.5\n",
      "Iteration 230: Loss = 2377706.75\n",
      "Iteration 240: Loss = 2168336.5\n",
      "Iteration 250: Loss = 1767520.25\n",
      "Iteration 260: Loss = 1655879.125\n",
      "Iteration 270: Loss = 1369285.625\n",
      "Iteration 280: Loss = 1323685.75\n",
      "Iteration 290: Loss = 1239687.75\n",
      "Iteration 300: Loss = 1280191.375\n",
      "Iteration 310: Loss = 1197912.25\n",
      "Iteration 320: Loss = 1142396.375\n",
      "Iteration 330: Loss = 1075020.0\n",
      "Iteration 340: Loss = 1193333.625\n",
      "Iteration 350: Loss = 977798.1875\n",
      "Iteration 360: Loss = 1110458.25\n",
      "Iteration 370: Loss = 1063350.375\n",
      "Iteration 380: Loss = 925895.625\n",
      "Iteration 390: Loss = 928864.125\n",
      "Iteration 400: Loss = 888900.1875\n",
      "Iteration 410: Loss = 900151.125\n",
      "Iteration 420: Loss = 928798.125\n",
      "Iteration 430: Loss = 918105.5\n",
      "Iteration 440: Loss = 834538.75\n",
      "Iteration 450: Loss = 804769.1875\n",
      "Iteration 460: Loss = 772227.1875\n",
      "Iteration 470: Loss = 797076.375\n",
      "Iteration 480: Loss = 822232.0625\n",
      "Iteration 490: Loss = 794693.6875\n"
     ]
    }
   ],
   "source": [
    "train.train(dataloader=dataloader,\n",
    "                num_particles=num_particles,\n",
    "                algorithm=algorithms[0], # iwae\n",
    "                initial=lgssm.Initial(initial_loc, initial_scale),\n",
    "                transition=lgssm.Transition(init_transition_mult,\n",
    "                                            transition_scale),\n",
    "                emission=lgssm.Emission(init_emission_mult,\n",
    "                                        emission_scale),\n",
    "                proposal=lgssm.Proposal(optimal_proposal_scale_0,\n",
    "                                        optimal_proposal_scale_t),\n",
    "                num_epochs=1,\n",
    "                num_iterations_per_epoch=num_iterations,\n",
    "                callback=training_stats)"
   ]
  },
  {
   "cell_type": "markdown",
   "metadata": {},
   "source": [
    "### Train using AESMC\n",
    "Everything is the same except fot the resampling of the latent indices."
   ]
  },
  {
   "cell_type": "code",
   "execution_count": 25,
   "metadata": {},
   "outputs": [],
   "source": [
    "'''having the torch objects defined outside the function\n",
    "hopefully means that they will be accessible in the workspace for inference'''\n",
    "initial = lgssm.Initial(initial_loc, initial_scale)\n",
    "transition = lgssm.Transition(init_transition_mult,\n",
    "                                            transition_scale)\n",
    "emission = lgssm.Emission(init_emission_mult,\n",
    "                                        emission_scale)\n",
    "proposal = lgssm.Proposal(optimal_proposal_scale_0,\n",
    "                                        optimal_proposal_scale_t)"
   ]
  },
  {
   "cell_type": "code",
   "execution_count": 23,
   "metadata": {},
   "outputs": [],
   "source": [
    "training_stats_aesmc = lgssm.TrainingStats(\n",
    "    initial_loc, initial_scale, true_transition_mult,\n",
    "    transition_scale, true_emission_mult, emission_scale,\n",
    "    num_timesteps, num_test_obs, test_inference_num_particles,\n",
    "    saving_interval, logging_interval)"
   ]
  },
  {
   "cell_type": "code",
   "execution_count": 24,
   "metadata": {},
   "outputs": [
    {
     "name": "stdout",
     "output_type": "stream",
     "text": [
      "Iteration 0: Loss = 4776177.5\n",
      "Iteration 10: Loss = 5075748.5\n",
      "Iteration 20: Loss = 5077865.5\n",
      "Iteration 30: Loss = 5023513.0\n",
      "Iteration 40: Loss = 6110861.5\n",
      "Iteration 50: Loss = 5227087.0\n",
      "Iteration 60: Loss = 4512863.0\n",
      "Iteration 70: Loss = 4824787.0\n",
      "Iteration 80: Loss = 4877214.5\n",
      "Iteration 90: Loss = 5080458.0\n",
      "Iteration 100: Loss = 4533909.0\n",
      "Iteration 110: Loss = 6098045.0\n",
      "Iteration 120: Loss = 4548313.0\n",
      "Iteration 130: Loss = 3690198.75\n",
      "Iteration 140: Loss = 4140945.5\n",
      "Iteration 150: Loss = 4165244.0\n",
      "Iteration 160: Loss = 4894281.0\n",
      "Iteration 170: Loss = 4490115.0\n",
      "Iteration 180: Loss = 3885428.5\n",
      "Iteration 190: Loss = 4590473.0\n",
      "Iteration 200: Loss = 5155935.0\n",
      "Iteration 210: Loss = 4420293.5\n",
      "Iteration 220: Loss = 3751668.75\n",
      "Iteration 230: Loss = 4242773.0\n",
      "Iteration 240: Loss = 3670115.5\n",
      "Iteration 250: Loss = 3736207.25\n",
      "Iteration 260: Loss = 3595723.25\n",
      "Iteration 270: Loss = 3669318.75\n",
      "Iteration 280: Loss = 3153833.5\n",
      "Iteration 290: Loss = 3399020.75\n",
      "Iteration 300: Loss = 2699820.75\n",
      "Iteration 310: Loss = 2370740.0\n",
      "Iteration 320: Loss = 2314501.5\n",
      "Iteration 330: Loss = 2331996.5\n",
      "Iteration 340: Loss = 2662286.5\n",
      "Iteration 350: Loss = 2470431.5\n",
      "Iteration 360: Loss = 1750946.25\n",
      "Iteration 370: Loss = 1704515.625\n",
      "Iteration 380: Loss = 1497363.75\n",
      "Iteration 390: Loss = 1634802.0\n",
      "Iteration 400: Loss = 1241741.875\n",
      "Iteration 410: Loss = 1000933.5\n",
      "Iteration 420: Loss = 984266.3125\n",
      "Iteration 430: Loss = 797129.625\n",
      "Iteration 440: Loss = 698593.0625\n",
      "Iteration 450: Loss = 598007.125\n",
      "Iteration 460: Loss = 413503.3125\n",
      "Iteration 470: Loss = 365795.9375\n",
      "Iteration 480: Loss = 337278.15625\n",
      "Iteration 490: Loss = 293640.59375\n"
     ]
    }
   ],
   "source": [
    "train.train(dataloader=dataloader,\n",
    "                num_particles=num_particles,\n",
    "                algorithm=algorithms[1], # aesmc\n",
    "                initial=initial,\n",
    "                transition=transition,\n",
    "                emission=emission,\n",
    "                proposal=proposal,\n",
    "                num_epochs=1,\n",
    "                num_iterations_per_epoch=num_iterations,\n",
    "                callback=training_stats_aesmc) # note the unique training_stats func"
   ]
  },
  {
   "cell_type": "code",
   "execution_count": 25,
   "metadata": {},
   "outputs": [
    {
     "data": {
      "image/png": "[encoded data removed]",
      "text/plain": [
       "<Figure size 432x288 with 2 Axes>"
      ]
     },
     "metadata": {
      "needs_background": "light"
     },
     "output_type": "display_data"
    }
   ],
   "source": [
    "fig, axs = plt.subplots(2, 1, sharex=True)\n",
    "# axs[0].plot(training_stats.iteration_idx_history,\n",
    "#                 training_stats.p_l2_history,\n",
    "#                 label=algorithms[0])\n",
    "axs[0].plot(training_stats_aesmc.iteration_idx_history,\n",
    "                training_stats_aesmc.p_l2_history,\n",
    "                label=algorithms[1])\n",
    "# axs[1].plot(training_stats.iteration_idx_history,\n",
    "#             training_stats.q_l2_history,\n",
    "#             label=algorithms[0])\n",
    "axs[1].plot(training_stats_aesmc.iteration_idx_history,\n",
    "            training_stats_aesmc.q_l2_history,\n",
    "            label=algorithms[1])\n",
    "axs[0].set_ylabel('$||\\\\theta - \\\\theta_{true}||$')\n",
    "axs[1].set_ylabel('Avg. L2 of\\nmarginal posterior means')\n",
    "axs[-1].set_xlabel('Iteration')\n",
    "axs[0].legend()\n",
    "fig.tight_layout()"
   ]
  },
  {
   "cell_type": "markdown",
   "metadata": {},
   "source": [
    "so with 1000 particles for SMC, training is much slower. looks even better after training with 200 particles. in both cases - testing is with 1000 particles. losses for learned parameters are decresing as they should. But the lower plot shows a weird trend between iteration 200 and 300."
   ]
  },
  {
   "cell_type": "code",
   "execution_count": 29,
   "metadata": {},
   "outputs": [
    {
     "name": "stdout",
     "output_type": "stream",
     "text": [
      "{'_backend': <torch.nn.backends.thnn.THNNFunctionBackend object at 0xb2612fbe0>, '_parameters': OrderedDict(), '_buffers': OrderedDict(), '_backward_hooks': OrderedDict(), '_forward_hooks': OrderedDict(), '_forward_pre_hooks': OrderedDict(), '_state_dict_hooks': OrderedDict(), '_load_state_dict_pre_hooks': OrderedDict(), '_modules': OrderedDict([('lin_0', Linear(in_features=1, out_features=1, bias=True)), ('lin_t', Linear(in_features=2, out_features=1, bias=True))]), 'training': True, 'scale_0': 0.009999500037497706, 'scale_t': 0.009999500037497706}\n"
     ]
    }
   ],
   "source": [
    "print(vars(proposal))"
   ]
  },
  {
   "cell_type": "code",
   "execution_count": 23,
   "metadata": {},
   "outputs": [
    {
     "name": "stdout",
     "output_type": "stream",
     "text": [
      "200\n"
     ]
    }
   ],
   "source": [
    "# create a time series of observations for test\n",
    "observations = (next(iter(dataloader)))\n",
    "print(len(observations))"
   ]
  },
  {
   "cell_type": "markdown",
   "metadata": {},
   "source": [
    "infer latent variables on a test data, using the trained `initial`, `transition`, `emission` and `proposal` instances."
   ]
  },
  {
   "cell_type": "code",
   "execution_count": 26,
   "metadata": {},
   "outputs": [],
   "source": [
    "inference_result = inference.infer(\n",
    "            inference_algorithm='smc',\n",
    "            observations=observations, # created above when we played with creating data\n",
    "            initial=initial,\n",
    "            transition=transition,\n",
    "            emission=emission,\n",
    "            proposal=proposal,\n",
    "            num_particles=1000\n",
    "        )"
   ]
  },
  {
   "cell_type": "code",
   "execution_count": 27,
   "metadata": {},
   "outputs": [
    {
     "data": {
      "text/plain": [
       "7"
      ]
     },
     "execution_count": 27,
     "metadata": {},
     "output_type": "execute_result"
    }
   ],
   "source": [
    "len(inference_result) # we have many entries from log_weight to latents, etc. "
   ]
  },
  {
   "cell_type": "code",
   "execution_count": 28,
   "metadata": {},
   "outputs": [
    {
     "data": {
      "text/plain": [
       "torch.Size([10, 1000])"
      ]
     },
     "execution_count": 28,
     "metadata": {},
     "output_type": "execute_result"
    }
   ],
   "source": [
    "# delete those cells below after playing with it - just figuring out the dim of latent\n",
    "inference_result['latents'][-1].shape"
   ]
  },
  {
   "cell_type": "code",
   "execution_count": 29,
   "metadata": {},
   "outputs": [],
   "source": [
    "# ToDo: consider wrapping in a function e.g., summarize_posterior(latents, their weights)\n",
    "smc_smoothed_state_means = []\n",
    "smc_smoothed_state_variances = []\n",
    "for latent in inference_result['latents']:\n",
    "    smc_smoothed_state_means.append(stats.empirical_mean(\n",
    "        latent, inference_result['log_weight']\n",
    "    ))\n",
    "    smc_smoothed_state_variances.append(stats.empirical_variance(\n",
    "        latent, inference_result['log_weight']\n",
    "    ))"
   ]
  },
  {
   "cell_type": "code",
   "execution_count": 30,
   "metadata": {},
   "outputs": [],
   "source": [
    "sim_data = torch.cat([obs.unsqueeze(-1) for\n",
    "                           obs in observations], dim=1)\n",
    "smooth_mean =  torch.cat([mean.unsqueeze(-1) for\n",
    "                           mean in smc_smoothed_state_means], dim=1)\n",
    "smooth_var = torch.cat([var.unsqueeze(-1) for\n",
    "                           var in smc_smoothed_state_variances], dim=1)"
   ]
  },
  {
   "cell_type": "markdown",
   "metadata": {},
   "source": [
    "So we organized those lists into tensors (which we later detach and send to numpy). each tensor had dim `[batch_size, num_timesteps]`. In this particular case, the 1-D latents are almost directly transformed into the observations:\n",
    "\n",
    "$$\n",
    "g(\\vec{x}_t|\\vec{z}_t) = \\mathcal{N}(1*\\vec{z}_{t}, 0.01) \\quad \\text{[emiss.]}\n",
    "$$\n",
    "There's not much variance in the emission and therefore we infer the latents with almost 0 variance. "
   ]
  },
  {
   "cell_type": "code",
   "execution_count": 144,
   "metadata": {},
   "outputs": [
    {
     "name": "stderr",
     "output_type": "stream",
     "text": [
      "/anaconda3/envs/pytorch_env/lib/python3.6/site-packages/ipykernel_launcher.py:9: RuntimeWarning: invalid value encountered in sqrt\n",
      "  if __name__ == '__main__':\n",
      "/anaconda3/envs/pytorch_env/lib/python3.6/site-packages/ipykernel_launcher.py:11: RuntimeWarning: invalid value encountered in sqrt\n",
      "  # This is added back by InteractiveShellApp.init_path()\n"
     ]
    },
    {
     "data": {
      "image/png": "[encoded data removed]",
      "text/plain": [
       "<Figure size 432x288 with 1 Axes>"
      ]
     },
     "metadata": {
      "needs_background": "light"
     },
     "output_type": "display_data"
    }
   ],
   "source": [
    "ind_in_batch = 5 # could be between 0 and batch_size-1\n",
    "plt.plot(sim_data[ind_in_batch,:].detach().numpy(), \n",
    "         label = '$x$', color = 'gray', linewidth=2)\n",
    "plt.plot(smooth_data[ind_in_batch,:].detach().numpy(), \n",
    "         label = '$\\mathbb{E}[z|x]$', color = 'red', linewidth=1)\n",
    "plt.fill_between(\n",
    "            np.arange(num_timesteps),\n",
    "            smooth_mean[ind_in_batch,:].detach().numpy() -\n",
    "            np.sqrt(smooth_var[ind_in_batch,:].detach().numpy()),\n",
    "            smooth_mean[ind_in_batch,:].detach().numpy() +\n",
    "            np.sqrt(smooth_var[ind_in_batch,:].detach().numpy()),\n",
    "            alpha=0.8,\n",
    "            color='gray'\n",
    "        )\n",
    "plt.legend();"
   ]
  },
  {
   "cell_type": "code",
   "execution_count": 122,
   "metadata": {},
   "outputs": [
    {
     "data": {
      "text/plain": [
       "(200,)"
      ]
     },
     "execution_count": 122,
     "metadata": {},
     "output_type": "execute_result"
    }
   ],
   "source": [
    "smooth_var[ind_in_batch,:].detach().numpy().shape"
   ]
  },
  {
   "cell_type": "code",
   "execution_count": 51,
   "metadata": {},
   "outputs": [
    {
     "data": {
      "text/plain": [
       "array(-0.51331913, dtype=float32)"
      ]
     },
     "execution_count": 51,
     "metadata": {},
     "output_type": "execute_result"
    }
   ],
   "source": [
    "smc_smoothed_state_means[-1].detach().numpy()"
   ]
  },
  {
   "cell_type": "code",
   "execution_count": 31,
   "metadata": {},
   "outputs": [
    {
     "name": "stdout",
     "output_type": "stream",
     "text": [
      "let's understand the output of our inference algorithm:\n",
      "length of inference_result['latents'] list:\n",
      "200\n",
      "size of inference_result['latents'][-1] tensor:\n",
      "torch.Size([10, 1000])\n",
      "that is, ([batch_size, num_particles])\n",
      "=============\n"
     ]
    }
   ],
   "source": [
    "print('let\\'s understand the output of our inference algorithm:')\n",
    "print('length of inference_result[\\'latents\\'] list:')\n",
    "print(len(inference_result['latents']))\n",
    "print('size of inference_result[\\'latents\\'][-1] tensor:')\n",
    "print(inference_result['latents'][-1].shape)\n",
    "print('that is, ([batch_size, num_particles])')\n",
    "print('=============')\n",
    "#print('length of inference_result[\\'log_weights\\'] list:')\n",
    "#print(len(inference_result['log_weights']))"
   ]
  },
  {
   "cell_type": "markdown",
   "metadata": {},
   "source": [
    "Make sure that we understand the dimensions of the operations inside `Proposal`'s `forward` method (defined in lgssm.py). I'm basically running the lines from inside this method (copy/pasting those here). Next step will be -- do the same for time = t, and also inside the inference function, see what happens when you do `state.sample`."
   ]
  },
  {
   "cell_type": "code",
   "execution_count": 32,
   "metadata": {},
   "outputs": [],
   "source": [
    "# define linear layers that act inside proposal\n",
    "lin_0 = nn.Linear(1, 1)\n",
    "lin_t = nn.Linear(2, 1)"
   ]
  },
  {
   "cell_type": "code",
   "execution_count": 33,
   "metadata": {},
   "outputs": [
    {
     "name": "stdout",
     "output_type": "stream",
     "text": [
      "torch.Size([10])\n",
      "Normal(loc: torch.Size([10]), scale: torch.Size([10]))\n"
     ]
    }
   ],
   "source": [
    "import aesmc.state as state\n",
    "# time = 0\n",
    "prop_0_mu = lin_0(observations[0].unsqueeze(-1)).squeeze(-1)\n",
    "print(prop_0_mu.shape)\n",
    "distr_obj_0 = state.set_batch_shape_mode(\n",
    "                torch.distributions.Normal(\n",
    "                    loc=prop_0_mu,\n",
    "                    scale=initial_scale),\n",
    "                state.BatchShapeMode.BATCH_EXPANDED)\n",
    "print(distr_obj_0)"
   ]
  },
  {
   "cell_type": "code",
   "execution_count": 36,
   "metadata": {},
   "outputs": [
    {
     "name": "stdout",
     "output_type": "stream",
     "text": [
      "torch.Size([10, 1000])\n"
     ]
    }
   ],
   "source": [
    "# at some later time: \n",
    "# note that we cannot play this game with forward 'latents' unless we have access to the particles; so it has\n",
    "# to be 'inference_result['latents']''.\n",
    "time = 16\n",
    "num_particles = inference_result['latents'][time-1].shape[1]\n",
    "prop_t_mu = lin_t(torch.cat(\n",
    "                    [inference_result['latents'][time-1].unsqueeze(-1),\n",
    "                     observations[time].view(-1, 1, 1).expand(\n",
    "                        -1, num_particles, 1\n",
    "                     )],\n",
    "                    dim=2\n",
    "                ).view(-1, 2)).squeeze(-1).view(-1, num_particles)\n",
    "print(prop_t_mu.shape)"
   ]
  },
  {
   "cell_type": "code",
   "execution_count": 55,
   "metadata": {},
   "outputs": [
    {
     "name": "stdout",
     "output_type": "stream",
     "text": [
      "reshaping the observations:\n",
      "torch.Size([10])\n",
      "torch.Size([10, 1, 1])\n",
      "torch.Size([10, 1000, 1])\n",
      "and for the inferred latents:\n",
      "torch.Size([10, 1000, 1])\n",
      "and concatanated:\n",
      "torch.Size([10, 1000, 2])\n",
      "and applying the view operation\n",
      "torch.Size([10000, 2])\n",
      "now pushing through lin_t\n",
      "torch.Size([10000, 1])\n",
      "torch.Size([10000])\n",
      "torch.Size([10, 1000])\n",
      "it is as if we have batch_size*num_particles batches, and we apply a FF computation\n"
     ]
    }
   ],
   "source": [
    "# print the intermediate reshapes of observations\n",
    "# note that view is similar to numpy's reshape but but keeps the original tensor just uses it differently.\n",
    "# https://stackoverflow.com/questions/42479902/how-does-the-view-method-work-in-pytorch\n",
    "# also see state.expand_observation function that does that\n",
    "print(\"reshaping the observations:\")\n",
    "result = observations[time]\n",
    "print(result.shape)\n",
    "result = result.view(-1, 1, 1)\n",
    "print(result.shape)\n",
    "result = result.expand(\n",
    "                         -1, num_particles, 1\n",
    "                     )\n",
    "print(result.shape)\n",
    "print(\"and for the inferred latents:\")\n",
    "lat_result = inference_result['latents'][time-1]\n",
    "lat_result = lat_result.unsqueeze(-1)\n",
    "print(lat_result.shape)\n",
    "print(\"and concatanated:\")\n",
    "concat = torch.cat(\n",
    "                    [lat_result,\n",
    "                     result],\n",
    "                    dim=2\n",
    "                )\n",
    "print(concat.shape)\n",
    "print(\"and applying the view operation\")\n",
    "concat = concat.view(-1, 2)\n",
    "print(concat.shape)\n",
    "print(\"now pushing through lin_t\")\n",
    "activ = lin_t(concat)\n",
    "print(activ.shape)\n",
    "activ = activ.squeeze(-1)\n",
    "print(activ.shape)\n",
    "activ = activ.view(-1, num_particles)\n",
    "print(activ.shape)\n",
    "print('it is as if we have batch_size*num_particles batches, and we apply a FF computation')"
   ]
  },
  {
   "cell_type": "code",
   "execution_count": 35,
   "metadata": {},
   "outputs": [
    {
     "name": "stdout",
     "output_type": "stream",
     "text": [
      "Normal(loc: torch.Size([10, 1000]), scale: torch.Size([10, 1000]))\n"
     ]
    }
   ],
   "source": [
    "distr_obj_t = state.set_batch_shape_mode(\n",
    "        torch.distributions.Normal(\n",
    "            loc=prop_t_mu,\n",
    "            scale=1),\n",
    "        state.BatchShapeMode.FULLY_EXPANDED)\n",
    "print(distr_obj_t)"
   ]
  },
  {
   "cell_type": "markdown",
   "metadata": {},
   "source": [
    "that's very informative -- we have our proposal distribution at time t as a distribution defined with mean and scale tensores sized `torch.Size([10, 1000])`. a big distribution object. Think about it when you move forward to other models with different number of latent/observation dimensions. Also, note that it isn't [10, 1000, 1]."
   ]
  },
  {
   "cell_type": "code",
   "execution_count": null,
   "metadata": {},
   "outputs": [],
   "source": [
    "# at some later time:\n",
    "prop_t_mu = lin_t(sim_obs[17].unsqueeze(-1)).squeeze(-1)\n",
    "print(prop_t_mu.shape)\n",
    "distr_obj_t = state.set_batch_shape_mode(\n",
    "                torch.distributions.Normal(\n",
    "                    loc=prop_0_mu,\n",
    "                    scale=initial_scale),\n",
    "                state.BatchShapeMode.BATCH_EXPANDED)\n",
    "print(distr_obj_0)"
   ]
  }
 ],
 "metadata": {
  "kernelspec": {
   "display_name": "Python [conda env:pytorch_env]",
   "language": "python",
   "name": "conda-env-pytorch_env-py"
  },
  "language_info": {
   "codemirror_mode": {
    "name": "ipython",
    "version": 3
   },
   "file_extension": ".py",
   "mimetype": "text/x-python",
   "name": "python",
   "nbconvert_exporter": "python",
   "pygments_lexer": "ipython3",
   "version": "3.6.7"
  }
 },
 "nbformat": 4,
 "nbformat_minor": 2
}
